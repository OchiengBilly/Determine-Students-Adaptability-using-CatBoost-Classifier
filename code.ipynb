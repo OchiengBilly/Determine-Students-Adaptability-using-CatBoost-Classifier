{
 "cells": [
  {
   "cell_type": "markdown",
   "metadata": {},
   "source": [
    "### Students adaptability to online learning"
   ]
  },
  {
   "cell_type": "code",
   "execution_count": 34,
   "metadata": {},
   "outputs": [],
   "source": [
    "# import libraries\n",
    "import numpy as np \n",
    "import pandas as pd \n",
    "import matplotlib.pyplot as plt \n",
    "import plotly.express as px\n",
    "import plotly.graph_objects as go\n",
    "\n",
    "\n",
    "\n",
    "from sklearn.preprocessing import LabelBinarizer, MultiLabelBinarizer, OneHotEncoder, LabelEncoder\n",
    "from sklearn.model_selection import train_test_split\n",
    "from sklearn.linear_model import LogisticRegression\n",
    "from sklearn.model_selection import cross_val_score\n",
    "from sklearn.metrics import confusion_matrix, accuracy_score, classification_report\n",
    "from sklearn.tree import DecisionTreeClassifier\n",
    "from sklearn.tree import plot_tree, export_text\n",
    "from sklearn.ensemble import RandomForestClassifier\n",
    "from catboost import CatBoostClassifier, Pool\n",
    "\n"
   ]
  },
  {
   "cell_type": "code",
   "execution_count": 2,
   "metadata": {},
   "outputs": [
    {
     "name": "stdout",
     "output_type": "stream",
     "text": [
      "Requirement already satisfied: catboost in c:\\users\\billy ochieng\\anaconda3\\lib\\site-packages (1.2.7)\n",
      "Requirement already satisfied: graphviz in c:\\users\\billy ochieng\\anaconda3\\lib\\site-packages (from catboost) (0.20.3)\n",
      "Requirement already satisfied: matplotlib in c:\\users\\billy ochieng\\anaconda3\\lib\\site-packages (from catboost) (3.9.2)\n",
      "Requirement already satisfied: numpy<2.0,>=1.16.0 in c:\\users\\billy ochieng\\anaconda3\\lib\\site-packages (from catboost) (1.26.4)\n",
      "Requirement already satisfied: pandas>=0.24 in c:\\users\\billy ochieng\\anaconda3\\lib\\site-packages (from catboost) (2.2.2)\n",
      "Requirement already satisfied: scipy in c:\\users\\billy ochieng\\anaconda3\\lib\\site-packages (from catboost) (1.13.1)\n",
      "Requirement already satisfied: plotly in c:\\users\\billy ochieng\\anaconda3\\lib\\site-packages (from catboost) (5.24.1)\n",
      "Requirement already satisfied: six in c:\\users\\billy ochieng\\anaconda3\\lib\\site-packages (from catboost) (1.16.0)\n",
      "Requirement already satisfied: python-dateutil>=2.8.2 in c:\\users\\billy ochieng\\anaconda3\\lib\\site-packages (from pandas>=0.24->catboost) (2.9.0.post0)\n",
      "Requirement already satisfied: pytz>=2020.1 in c:\\users\\billy ochieng\\anaconda3\\lib\\site-packages (from pandas>=0.24->catboost) (2024.1)\n",
      "Requirement already satisfied: tzdata>=2022.7 in c:\\users\\billy ochieng\\anaconda3\\lib\\site-packages (from pandas>=0.24->catboost) (2023.3)\n",
      "Requirement already satisfied: contourpy>=1.0.1 in c:\\users\\billy ochieng\\anaconda3\\lib\\site-packages (from matplotlib->catboost) (1.2.0)\n",
      "Requirement already satisfied: cycler>=0.10 in c:\\users\\billy ochieng\\anaconda3\\lib\\site-packages (from matplotlib->catboost) (0.11.0)\n",
      "Requirement already satisfied: fonttools>=4.22.0 in c:\\users\\billy ochieng\\anaconda3\\lib\\site-packages (from matplotlib->catboost) (4.51.0)\n",
      "Requirement already satisfied: kiwisolver>=1.3.1 in c:\\users\\billy ochieng\\anaconda3\\lib\\site-packages (from matplotlib->catboost) (1.4.4)\n",
      "Requirement already satisfied: packaging>=20.0 in c:\\users\\billy ochieng\\anaconda3\\lib\\site-packages (from matplotlib->catboost) (24.1)\n",
      "Requirement already satisfied: pillow>=8 in c:\\users\\billy ochieng\\anaconda3\\lib\\site-packages (from matplotlib->catboost) (10.4.0)\n",
      "Requirement already satisfied: pyparsing>=2.3.1 in c:\\users\\billy ochieng\\anaconda3\\lib\\site-packages (from matplotlib->catboost) (3.1.2)\n",
      "Requirement already satisfied: tenacity>=6.2.0 in c:\\users\\billy ochieng\\anaconda3\\lib\\site-packages (from plotly->catboost) (8.2.3)\n",
      "Note: you may need to restart the kernel to use updated packages.\n"
     ]
    }
   ],
   "source": [
    "pip install catboost"
   ]
  },
  {
   "cell_type": "code",
   "execution_count": 3,
   "metadata": {},
   "outputs": [
    {
     "data": {
      "text/html": [
       "<div>\n",
       "<style scoped>\n",
       "    .dataframe tbody tr th:only-of-type {\n",
       "        vertical-align: middle;\n",
       "    }\n",
       "\n",
       "    .dataframe tbody tr th {\n",
       "        vertical-align: top;\n",
       "    }\n",
       "\n",
       "    .dataframe thead th {\n",
       "        text-align: right;\n",
       "    }\n",
       "</style>\n",
       "<table border=\"1\" class=\"dataframe\">\n",
       "  <thead>\n",
       "    <tr style=\"text-align: right;\">\n",
       "      <th></th>\n",
       "      <th>Gender</th>\n",
       "      <th>Age</th>\n",
       "      <th>Education Level</th>\n",
       "      <th>Institution Type</th>\n",
       "      <th>IT Student</th>\n",
       "      <th>Location</th>\n",
       "      <th>Load-shedding</th>\n",
       "      <th>Financial Condition</th>\n",
       "      <th>Internet Type</th>\n",
       "      <th>Network Type</th>\n",
       "      <th>Class Duration</th>\n",
       "      <th>Self Lms</th>\n",
       "      <th>Device</th>\n",
       "      <th>Adaptivity Level</th>\n",
       "    </tr>\n",
       "  </thead>\n",
       "  <tbody>\n",
       "    <tr>\n",
       "      <th>0</th>\n",
       "      <td>Boy</td>\n",
       "      <td>21-25</td>\n",
       "      <td>University</td>\n",
       "      <td>Non Government</td>\n",
       "      <td>No</td>\n",
       "      <td>Yes</td>\n",
       "      <td>Low</td>\n",
       "      <td>Mid</td>\n",
       "      <td>Wifi</td>\n",
       "      <td>4G</td>\n",
       "      <td>3-6</td>\n",
       "      <td>No</td>\n",
       "      <td>Tab</td>\n",
       "      <td>Moderate</td>\n",
       "    </tr>\n",
       "    <tr>\n",
       "      <th>1</th>\n",
       "      <td>Girl</td>\n",
       "      <td>21-25</td>\n",
       "      <td>University</td>\n",
       "      <td>Non Government</td>\n",
       "      <td>No</td>\n",
       "      <td>Yes</td>\n",
       "      <td>High</td>\n",
       "      <td>Mid</td>\n",
       "      <td>Mobile Data</td>\n",
       "      <td>4G</td>\n",
       "      <td>1-3</td>\n",
       "      <td>Yes</td>\n",
       "      <td>Mobile</td>\n",
       "      <td>Moderate</td>\n",
       "    </tr>\n",
       "    <tr>\n",
       "      <th>2</th>\n",
       "      <td>Girl</td>\n",
       "      <td>16-20</td>\n",
       "      <td>College</td>\n",
       "      <td>Government</td>\n",
       "      <td>No</td>\n",
       "      <td>Yes</td>\n",
       "      <td>Low</td>\n",
       "      <td>Mid</td>\n",
       "      <td>Wifi</td>\n",
       "      <td>4G</td>\n",
       "      <td>1-3</td>\n",
       "      <td>No</td>\n",
       "      <td>Mobile</td>\n",
       "      <td>Moderate</td>\n",
       "    </tr>\n",
       "    <tr>\n",
       "      <th>3</th>\n",
       "      <td>Girl</td>\n",
       "      <td>11-15</td>\n",
       "      <td>School</td>\n",
       "      <td>Non Government</td>\n",
       "      <td>No</td>\n",
       "      <td>Yes</td>\n",
       "      <td>Low</td>\n",
       "      <td>Mid</td>\n",
       "      <td>Mobile Data</td>\n",
       "      <td>4G</td>\n",
       "      <td>1-3</td>\n",
       "      <td>No</td>\n",
       "      <td>Mobile</td>\n",
       "      <td>Moderate</td>\n",
       "    </tr>\n",
       "    <tr>\n",
       "      <th>4</th>\n",
       "      <td>Girl</td>\n",
       "      <td>16-20</td>\n",
       "      <td>School</td>\n",
       "      <td>Non Government</td>\n",
       "      <td>No</td>\n",
       "      <td>Yes</td>\n",
       "      <td>Low</td>\n",
       "      <td>Poor</td>\n",
       "      <td>Mobile Data</td>\n",
       "      <td>3G</td>\n",
       "      <td>0</td>\n",
       "      <td>No</td>\n",
       "      <td>Mobile</td>\n",
       "      <td>Low</td>\n",
       "    </tr>\n",
       "  </tbody>\n",
       "</table>\n",
       "</div>"
      ],
      "text/plain": [
       "  Gender    Age Education Level Institution Type IT Student Location  \\\n",
       "0    Boy  21-25      University   Non Government         No      Yes   \n",
       "1   Girl  21-25      University   Non Government         No      Yes   \n",
       "2   Girl  16-20         College       Government         No      Yes   \n",
       "3   Girl  11-15          School   Non Government         No      Yes   \n",
       "4   Girl  16-20          School   Non Government         No      Yes   \n",
       "\n",
       "  Load-shedding Financial Condition Internet Type Network Type Class Duration  \\\n",
       "0           Low                 Mid          Wifi           4G            3-6   \n",
       "1          High                 Mid   Mobile Data           4G            1-3   \n",
       "2           Low                 Mid          Wifi           4G            1-3   \n",
       "3           Low                 Mid   Mobile Data           4G            1-3   \n",
       "4           Low                Poor   Mobile Data           3G              0   \n",
       "\n",
       "  Self Lms  Device Adaptivity Level  \n",
       "0       No     Tab         Moderate  \n",
       "1      Yes  Mobile         Moderate  \n",
       "2       No  Mobile         Moderate  \n",
       "3       No  Mobile         Moderate  \n",
       "4       No  Mobile              Low  "
      ]
     },
     "execution_count": 3,
     "metadata": {},
     "output_type": "execute_result"
    }
   ],
   "source": [
    "# Import the dataset\n",
    "df = pd.read_csv('students_adaptability_data.csv')\n",
    "df.head(5)"
   ]
  },
  {
   "cell_type": "code",
   "execution_count": 4,
   "metadata": {},
   "outputs": [
    {
     "data": {
      "text/plain": [
       "1205"
      ]
     },
     "execution_count": 4,
     "metadata": {},
     "output_type": "execute_result"
    }
   ],
   "source": [
    "#  Length of the dataframe\n",
    "len(df)"
   ]
  },
  {
   "cell_type": "code",
   "execution_count": 5,
   "metadata": {},
   "outputs": [
    {
     "data": {
      "text/plain": [
       "Gender                 object\n",
       "Age                    object\n",
       "Education Level        object\n",
       "Institution Type       object\n",
       "IT Student             object\n",
       "Location               object\n",
       "Load-shedding          object\n",
       "Financial Condition    object\n",
       "Internet Type          object\n",
       "Network Type           object\n",
       "Class Duration         object\n",
       "Self Lms               object\n",
       "Device                 object\n",
       "Adaptivity Level       object\n",
       "dtype: object"
      ]
     },
     "execution_count": 5,
     "metadata": {},
     "output_type": "execute_result"
    }
   ],
   "source": [
    "# Identify the datatype used in the data\n",
    "df.dtypes"
   ]
  },
  {
   "cell_type": "code",
   "execution_count": 6,
   "metadata": {},
   "outputs": [
    {
     "name": "stdout",
     "output_type": "stream",
     "text": [
      "Gender:  ['Boy' 'Girl']\n",
      "Age:  ['21-25' '16-20' '11-15' '26-30' '6-10' '1-5']\n",
      "Education Level:  ['University' 'College' 'School']\n",
      "Institution Type:  ['Non Government' 'Government']\n",
      "IT Student:  ['No' 'Yes']\n",
      "Location:  ['Yes' 'No']\n",
      "Load-shedding:  ['Low' 'High']\n",
      "Financial Condition:  ['Mid' 'Poor' 'Rich']\n",
      "Internet Type:  ['Wifi' 'Mobile Data']\n",
      "Network Type:  ['4G' '3G' '2G']\n",
      "Class Duration:  ['3-6' '1-3' '0']\n",
      "Self Lms:  ['No' 'Yes']\n",
      "Device:  ['Tab' 'Mobile' 'Computer']\n",
      "Adaptivity Level:  ['Moderate' 'Low' 'High']\n"
     ]
    }
   ],
   "source": [
    "# The categories of data in the dataset\n",
    "for column in df.columns:\n",
    "    print(f'{column}: ', df[column].unique())"
   ]
  },
  {
   "cell_type": "markdown",
   "metadata": {},
   "source": [
    "### Data Visualization"
   ]
  },
  {
   "cell_type": "code",
   "execution_count": 7,
   "metadata": {},
   "outputs": [
    {
     "data": {
      "application/vnd.plotly.v1+json": {
       "config": {
        "plotlyServerURL": "https://plot.ly"
       },
       "data": [
        {
         "marker": {
          "color": "blue"
         },
         "name": "Boys",
         "type": "bar",
         "x": [
          "1-5",
          "11-15",
          "16-20",
          "21-25",
          "26-30",
          "6-10"
         ],
         "y": [
          14,
          211,
          109,
          265,
          42,
          22
         ]
        },
        {
         "marker": {
          "color": "gray"
         },
         "name": "Girls",
         "type": "bar",
         "x": [
          "1-5",
          "11-15",
          "16-20",
          "21-25",
          "26-30",
          "6-10"
         ],
         "y": [
          67,
          142,
          169,
          109,
          26,
          29
         ]
        }
       ],
       "layout": {
        "bargap": 0.2,
        "bargroupgap": 0.1,
        "barmode": "group",
        "template": {
         "data": {
          "bar": [
           {
            "error_x": {
             "color": "#2a3f5f"
            },
            "error_y": {
             "color": "#2a3f5f"
            },
            "marker": {
             "line": {
              "color": "#E5ECF6",
              "width": 0.5
             },
             "pattern": {
              "fillmode": "overlay",
              "size": 10,
              "solidity": 0.2
             }
            },
            "type": "bar"
           }
          ],
          "barpolar": [
           {
            "marker": {
             "line": {
              "color": "#E5ECF6",
              "width": 0.5
             },
             "pattern": {
              "fillmode": "overlay",
              "size": 10,
              "solidity": 0.2
             }
            },
            "type": "barpolar"
           }
          ],
          "carpet": [
           {
            "aaxis": {
             "endlinecolor": "#2a3f5f",
             "gridcolor": "white",
             "linecolor": "white",
             "minorgridcolor": "white",
             "startlinecolor": "#2a3f5f"
            },
            "baxis": {
             "endlinecolor": "#2a3f5f",
             "gridcolor": "white",
             "linecolor": "white",
             "minorgridcolor": "white",
             "startlinecolor": "#2a3f5f"
            },
            "type": "carpet"
           }
          ],
          "choropleth": [
           {
            "colorbar": {
             "outlinewidth": 0,
             "ticks": ""
            },
            "type": "choropleth"
           }
          ],
          "contour": [
           {
            "colorbar": {
             "outlinewidth": 0,
             "ticks": ""
            },
            "colorscale": [
             [
              0,
              "#0d0887"
             ],
             [
              0.1111111111111111,
              "#46039f"
             ],
             [
              0.2222222222222222,
              "#7201a8"
             ],
             [
              0.3333333333333333,
              "#9c179e"
             ],
             [
              0.4444444444444444,
              "#bd3786"
             ],
             [
              0.5555555555555556,
              "#d8576b"
             ],
             [
              0.6666666666666666,
              "#ed7953"
             ],
             [
              0.7777777777777778,
              "#fb9f3a"
             ],
             [
              0.8888888888888888,
              "#fdca26"
             ],
             [
              1,
              "#f0f921"
             ]
            ],
            "type": "contour"
           }
          ],
          "contourcarpet": [
           {
            "colorbar": {
             "outlinewidth": 0,
             "ticks": ""
            },
            "type": "contourcarpet"
           }
          ],
          "heatmap": [
           {
            "colorbar": {
             "outlinewidth": 0,
             "ticks": ""
            },
            "colorscale": [
             [
              0,
              "#0d0887"
             ],
             [
              0.1111111111111111,
              "#46039f"
             ],
             [
              0.2222222222222222,
              "#7201a8"
             ],
             [
              0.3333333333333333,
              "#9c179e"
             ],
             [
              0.4444444444444444,
              "#bd3786"
             ],
             [
              0.5555555555555556,
              "#d8576b"
             ],
             [
              0.6666666666666666,
              "#ed7953"
             ],
             [
              0.7777777777777778,
              "#fb9f3a"
             ],
             [
              0.8888888888888888,
              "#fdca26"
             ],
             [
              1,
              "#f0f921"
             ]
            ],
            "type": "heatmap"
           }
          ],
          "heatmapgl": [
           {
            "colorbar": {
             "outlinewidth": 0,
             "ticks": ""
            },
            "colorscale": [
             [
              0,
              "#0d0887"
             ],
             [
              0.1111111111111111,
              "#46039f"
             ],
             [
              0.2222222222222222,
              "#7201a8"
             ],
             [
              0.3333333333333333,
              "#9c179e"
             ],
             [
              0.4444444444444444,
              "#bd3786"
             ],
             [
              0.5555555555555556,
              "#d8576b"
             ],
             [
              0.6666666666666666,
              "#ed7953"
             ],
             [
              0.7777777777777778,
              "#fb9f3a"
             ],
             [
              0.8888888888888888,
              "#fdca26"
             ],
             [
              1,
              "#f0f921"
             ]
            ],
            "type": "heatmapgl"
           }
          ],
          "histogram": [
           {
            "marker": {
             "pattern": {
              "fillmode": "overlay",
              "size": 10,
              "solidity": 0.2
             }
            },
            "type": "histogram"
           }
          ],
          "histogram2d": [
           {
            "colorbar": {
             "outlinewidth": 0,
             "ticks": ""
            },
            "colorscale": [
             [
              0,
              "#0d0887"
             ],
             [
              0.1111111111111111,
              "#46039f"
             ],
             [
              0.2222222222222222,
              "#7201a8"
             ],
             [
              0.3333333333333333,
              "#9c179e"
             ],
             [
              0.4444444444444444,
              "#bd3786"
             ],
             [
              0.5555555555555556,
              "#d8576b"
             ],
             [
              0.6666666666666666,
              "#ed7953"
             ],
             [
              0.7777777777777778,
              "#fb9f3a"
             ],
             [
              0.8888888888888888,
              "#fdca26"
             ],
             [
              1,
              "#f0f921"
             ]
            ],
            "type": "histogram2d"
           }
          ],
          "histogram2dcontour": [
           {
            "colorbar": {
             "outlinewidth": 0,
             "ticks": ""
            },
            "colorscale": [
             [
              0,
              "#0d0887"
             ],
             [
              0.1111111111111111,
              "#46039f"
             ],
             [
              0.2222222222222222,
              "#7201a8"
             ],
             [
              0.3333333333333333,
              "#9c179e"
             ],
             [
              0.4444444444444444,
              "#bd3786"
             ],
             [
              0.5555555555555556,
              "#d8576b"
             ],
             [
              0.6666666666666666,
              "#ed7953"
             ],
             [
              0.7777777777777778,
              "#fb9f3a"
             ],
             [
              0.8888888888888888,
              "#fdca26"
             ],
             [
              1,
              "#f0f921"
             ]
            ],
            "type": "histogram2dcontour"
           }
          ],
          "mesh3d": [
           {
            "colorbar": {
             "outlinewidth": 0,
             "ticks": ""
            },
            "type": "mesh3d"
           }
          ],
          "parcoords": [
           {
            "line": {
             "colorbar": {
              "outlinewidth": 0,
              "ticks": ""
             }
            },
            "type": "parcoords"
           }
          ],
          "pie": [
           {
            "automargin": true,
            "type": "pie"
           }
          ],
          "scatter": [
           {
            "fillpattern": {
             "fillmode": "overlay",
             "size": 10,
             "solidity": 0.2
            },
            "type": "scatter"
           }
          ],
          "scatter3d": [
           {
            "line": {
             "colorbar": {
              "outlinewidth": 0,
              "ticks": ""
             }
            },
            "marker": {
             "colorbar": {
              "outlinewidth": 0,
              "ticks": ""
             }
            },
            "type": "scatter3d"
           }
          ],
          "scattercarpet": [
           {
            "marker": {
             "colorbar": {
              "outlinewidth": 0,
              "ticks": ""
             }
            },
            "type": "scattercarpet"
           }
          ],
          "scattergeo": [
           {
            "marker": {
             "colorbar": {
              "outlinewidth": 0,
              "ticks": ""
             }
            },
            "type": "scattergeo"
           }
          ],
          "scattergl": [
           {
            "marker": {
             "colorbar": {
              "outlinewidth": 0,
              "ticks": ""
             }
            },
            "type": "scattergl"
           }
          ],
          "scattermapbox": [
           {
            "marker": {
             "colorbar": {
              "outlinewidth": 0,
              "ticks": ""
             }
            },
            "type": "scattermapbox"
           }
          ],
          "scatterpolar": [
           {
            "marker": {
             "colorbar": {
              "outlinewidth": 0,
              "ticks": ""
             }
            },
            "type": "scatterpolar"
           }
          ],
          "scatterpolargl": [
           {
            "marker": {
             "colorbar": {
              "outlinewidth": 0,
              "ticks": ""
             }
            },
            "type": "scatterpolargl"
           }
          ],
          "scatterternary": [
           {
            "marker": {
             "colorbar": {
              "outlinewidth": 0,
              "ticks": ""
             }
            },
            "type": "scatterternary"
           }
          ],
          "surface": [
           {
            "colorbar": {
             "outlinewidth": 0,
             "ticks": ""
            },
            "colorscale": [
             [
              0,
              "#0d0887"
             ],
             [
              0.1111111111111111,
              "#46039f"
             ],
             [
              0.2222222222222222,
              "#7201a8"
             ],
             [
              0.3333333333333333,
              "#9c179e"
             ],
             [
              0.4444444444444444,
              "#bd3786"
             ],
             [
              0.5555555555555556,
              "#d8576b"
             ],
             [
              0.6666666666666666,
              "#ed7953"
             ],
             [
              0.7777777777777778,
              "#fb9f3a"
             ],
             [
              0.8888888888888888,
              "#fdca26"
             ],
             [
              1,
              "#f0f921"
             ]
            ],
            "type": "surface"
           }
          ],
          "table": [
           {
            "cells": {
             "fill": {
              "color": "#EBF0F8"
             },
             "line": {
              "color": "white"
             }
            },
            "header": {
             "fill": {
              "color": "#C8D4E3"
             },
             "line": {
              "color": "white"
             }
            },
            "type": "table"
           }
          ]
         },
         "layout": {
          "annotationdefaults": {
           "arrowcolor": "#2a3f5f",
           "arrowhead": 0,
           "arrowwidth": 1
          },
          "autotypenumbers": "strict",
          "coloraxis": {
           "colorbar": {
            "outlinewidth": 0,
            "ticks": ""
           }
          },
          "colorscale": {
           "diverging": [
            [
             0,
             "#8e0152"
            ],
            [
             0.1,
             "#c51b7d"
            ],
            [
             0.2,
             "#de77ae"
            ],
            [
             0.3,
             "#f1b6da"
            ],
            [
             0.4,
             "#fde0ef"
            ],
            [
             0.5,
             "#f7f7f7"
            ],
            [
             0.6,
             "#e6f5d0"
            ],
            [
             0.7,
             "#b8e186"
            ],
            [
             0.8,
             "#7fbc41"
            ],
            [
             0.9,
             "#4d9221"
            ],
            [
             1,
             "#276419"
            ]
           ],
           "sequential": [
            [
             0,
             "#0d0887"
            ],
            [
             0.1111111111111111,
             "#46039f"
            ],
            [
             0.2222222222222222,
             "#7201a8"
            ],
            [
             0.3333333333333333,
             "#9c179e"
            ],
            [
             0.4444444444444444,
             "#bd3786"
            ],
            [
             0.5555555555555556,
             "#d8576b"
            ],
            [
             0.6666666666666666,
             "#ed7953"
            ],
            [
             0.7777777777777778,
             "#fb9f3a"
            ],
            [
             0.8888888888888888,
             "#fdca26"
            ],
            [
             1,
             "#f0f921"
            ]
           ],
           "sequentialminus": [
            [
             0,
             "#0d0887"
            ],
            [
             0.1111111111111111,
             "#46039f"
            ],
            [
             0.2222222222222222,
             "#7201a8"
            ],
            [
             0.3333333333333333,
             "#9c179e"
            ],
            [
             0.4444444444444444,
             "#bd3786"
            ],
            [
             0.5555555555555556,
             "#d8576b"
            ],
            [
             0.6666666666666666,
             "#ed7953"
            ],
            [
             0.7777777777777778,
             "#fb9f3a"
            ],
            [
             0.8888888888888888,
             "#fdca26"
            ],
            [
             1,
             "#f0f921"
            ]
           ]
          },
          "colorway": [
           "#636efa",
           "#EF553B",
           "#00cc96",
           "#ab63fa",
           "#FFA15A",
           "#19d3f3",
           "#FF6692",
           "#B6E880",
           "#FF97FF",
           "#FECB52"
          ],
          "font": {
           "color": "#2a3f5f"
          },
          "geo": {
           "bgcolor": "white",
           "lakecolor": "white",
           "landcolor": "#E5ECF6",
           "showlakes": true,
           "showland": true,
           "subunitcolor": "white"
          },
          "hoverlabel": {
           "align": "left"
          },
          "hovermode": "closest",
          "mapbox": {
           "style": "light"
          },
          "paper_bgcolor": "white",
          "plot_bgcolor": "#E5ECF6",
          "polar": {
           "angularaxis": {
            "gridcolor": "white",
            "linecolor": "white",
            "ticks": ""
           },
           "bgcolor": "#E5ECF6",
           "radialaxis": {
            "gridcolor": "white",
            "linecolor": "white",
            "ticks": ""
           }
          },
          "scene": {
           "xaxis": {
            "backgroundcolor": "#E5ECF6",
            "gridcolor": "white",
            "gridwidth": 2,
            "linecolor": "white",
            "showbackground": true,
            "ticks": "",
            "zerolinecolor": "white"
           },
           "yaxis": {
            "backgroundcolor": "#E5ECF6",
            "gridcolor": "white",
            "gridwidth": 2,
            "linecolor": "white",
            "showbackground": true,
            "ticks": "",
            "zerolinecolor": "white"
           },
           "zaxis": {
            "backgroundcolor": "#E5ECF6",
            "gridcolor": "white",
            "gridwidth": 2,
            "linecolor": "white",
            "showbackground": true,
            "ticks": "",
            "zerolinecolor": "white"
           }
          },
          "shapedefaults": {
           "line": {
            "color": "#2a3f5f"
           }
          },
          "ternary": {
           "aaxis": {
            "gridcolor": "white",
            "linecolor": "white",
            "ticks": ""
           },
           "baxis": {
            "gridcolor": "white",
            "linecolor": "white",
            "ticks": ""
           },
           "bgcolor": "#E5ECF6",
           "caxis": {
            "gridcolor": "white",
            "linecolor": "white",
            "ticks": ""
           }
          },
          "title": {
           "x": 0.05
          },
          "xaxis": {
           "automargin": true,
           "gridcolor": "white",
           "linecolor": "white",
           "ticks": "",
           "title": {
            "standoff": 15
           },
           "zerolinecolor": "white",
           "zerolinewidth": 2
          },
          "yaxis": {
           "automargin": true,
           "gridcolor": "white",
           "linecolor": "white",
           "ticks": "",
           "title": {
            "standoff": 15
           },
           "zerolinecolor": "white",
           "zerolinewidth": 2
          }
         }
        },
        "title": {
         "text": "Count of Boys and Girls by Age Group"
        },
        "xaxis": {
         "title": {
          "text": "Age Group"
         }
        },
        "yaxis": {
         "title": {
          "text": "Count"
         }
        }
       }
      }
     },
     "metadata": {},
     "output_type": "display_data"
    }
   ],
   "source": [
    "# Plot the distribution of gender in every age group\n",
    "\n",
    "# Count occurrences of Boys and Girls in each Age Group\n",
    "grouped_data = df.groupby(['Age', 'Gender']).size().unstack(fill_value=0)\n",
    "\n",
    "# Extract age groups and counts\n",
    "age_groups = grouped_data.index.tolist()\n",
    "boys_count = grouped_data.get('Boy', pd.Series(0, index=age_groups))  # Default to 0 if missing\n",
    "girls_count = grouped_data.get('Girl', pd.Series(0, index=age_groups))  # Default to 0 if missing\n",
    "\n",
    "# Create figure\n",
    "fig = go.Figure()\n",
    "\n",
    "# Add Boys' bars\n",
    "fig.add_trace(go.Bar(x=age_groups, y=boys_count, name='Boys', marker_color='blue'))\n",
    "\n",
    "# Add Girls' bars\n",
    "fig.add_trace(go.Bar(x=age_groups, y=girls_count, name='Girls', marker_color='gray'))\n",
    "\n",
    "# Update layout for grouped bars\n",
    "fig.update_layout(\n",
    "    title='Count of Boys and Girls by Age Group',\n",
    "    xaxis_title='Age Group',\n",
    "    yaxis_title='Count',\n",
    "    barmode='group',  # Groups the bars side by side\n",
    "    bargap=0.2,       # Space between bars\n",
    "    bargroupgap=0.1   # Space between groups\n",
    ")\n",
    "\n",
    "# Show figure\n",
    "fig.show()\n"
   ]
  },
  {
   "cell_type": "code",
   "execution_count": 8,
   "metadata": {},
   "outputs": [
    {
     "data": {
      "image/png": "[encoded data removed]",
      "text/plain": [
       "<Figure size 800x800 with 1 Axes>"
      ]
     },
     "metadata": {},
     "output_type": "display_data"
    }
   ],
   "source": [
    "# Grouping data by Financial Condition\n",
    "no_of_occurrences = df['Financial Condition'].value_counts()\n",
    "# Plotting the pie chart\n",
    "plt.figure(figsize=(8, 8))\n",
    "plt.pie(\n",
    "    no_of_occurrences, \n",
    "    labels = no_of_occurrences.index, \n",
    "    autopct = '%1.1f%%', \n",
    "    startangle =90, \n",
    "    colors = ['#FF9999', '#66B2FF', '#99FF99'], \n",
    "    wedgeprops = {'edgecolor': 'black'}\n",
    ")\n",
    "\n",
    "# Add a title\n",
    "plt.title('Financial Condition')\n",
    "plt.show()"
   ]
  },
  {
   "cell_type": "code",
   "execution_count": 9,
   "metadata": {},
   "outputs": [
    {
     "data": {
      "application/vnd.plotly.v1+json": {
       "config": {
        "plotlyServerURL": "https://plot.ly"
       },
       "data": [
        {
         "alignmentgroup": "True",
         "bingroup": "x",
         "hovertemplate": "Internet Type=%{x}<br>count=%{y}<extra></extra>",
         "legendgroup": "",
         "marker": {
          "color": "#636efa",
          "pattern": {
           "shape": ""
          }
         },
         "name": "",
         "offsetgroup": "",
         "orientation": "v",
         "showlegend": false,
         "type": "histogram",
         "x": [
          "Wifi",
          "Mobile Data",
          "Wifi",
          "Mobile Data",
          "Mobile Data",
          "Mobile Data",
          "Wifi",
          "Wifi",
          "Wifi",
          "Mobile Data",
          "Wifi",
          "Wifi",
          "Mobile Data",
          "Wifi",
          "Mobile Data",
          "Wifi",
          "Mobile Data",
          "Wifi",
          "Wifi",
          "Wifi",
          "Wifi",
          "Mobile Data",
          "Mobile Data",
          "Mobile Data",
          "Wifi",
          "Mobile Data",
          "Mobile Data",
          "Wifi",
          "Mobile Data",
          "Wifi",
          "Mobile Data",
          "Mobile Data",
          "Mobile Data",
          "Wifi",
          "Mobile Data",
          "Wifi",
          "Mobile Data",
          "Mobile Data",
          "Mobile Data",
          "Wifi",
          "Wifi",
          "Wifi",
          "Mobile Data",
          "Mobile Data",
          "Wifi",
          "Wifi",
          "Mobile Data",
          "Mobile Data",
          "Mobile Data",
          "Wifi",
          "Wifi",
          "Mobile Data",
          "Mobile Data",
          "Mobile Data",
          "Mobile Data",
          "Mobile Data",
          "Mobile Data",
          "Mobile Data",
          "Mobile Data",
          "Mobile Data",
          "Wifi",
          "Mobile Data",
          "Mobile Data",
          "Mobile Data",
          "Wifi",
          "Mobile Data",
          "Mobile Data",
          "Mobile Data",
          "Wifi",
          "Mobile Data",
          "Mobile Data",
          "Mobile Data",
          "Mobile Data",
          "Mobile Data",
          "Mobile Data",
          "Mobile Data",
          "Mobile Data",
          "Mobile Data",
          "Mobile Data",
          "Mobile Data",
          "Mobile Data",
          "Mobile Data",
          "Wifi",
          "Mobile Data",
          "Mobile Data",
          "Mobile Data",
          "Mobile Data",
          "Wifi",
          "Wifi",
          "Mobile Data",
          "Mobile Data",
          "Wifi",
          "Wifi",
          "Mobile Data",
          "Mobile Data",
          "Wifi",
          "Mobile Data",
          "Mobile Data",
          "Wifi",
          "Wifi",
          "Wifi",
          "Wifi",
          "Mobile Data",
          "Mobile Data",
          "Wifi",
          "Wifi",
          "Mobile Data",
          "Wifi",
          "Wifi",
          "Wifi",
          "Mobile Data",
          "Wifi",
          "Mobile Data",
          "Mobile Data",
          "Wifi",
          "Wifi",
          "Wifi",
          "Wifi",
          "Mobile Data",
          "Mobile Data",
          "Wifi",
          "Wifi",
          "Mobile Data",
          "Mobile Data",
          "Wifi",
          "Mobile Data",
          "Mobile Data",
          "Wifi",
          "Wifi",
          "Wifi",
          "Wifi",
          "Mobile Data",
          "Mobile Data",
          "Mobile Data",
          "Mobile Data",
          "Wifi",
          "Mobile Data",
          "Mobile Data",
          "Mobile Data",
          "Mobile Data",
          "Mobile Data",
          "Mobile Data",
          "Mobile Data",
          "Mobile Data",
          "Mobile Data",
          "Wifi",
          "Wifi",
          "Wifi",
          "Wifi",
          "Mobile Data",
          "Mobile Data",
          "Wifi",
          "Mobile Data",
          "Wifi",
          "Wifi",
          "Mobile Data",
          "Mobile Data",
          "Wifi",
          "Mobile Data",
          "Mobile Data",
          "Wifi",
          "Mobile Data",
          "Mobile Data",
          "Mobile Data",
          "Mobile Data",
          "Mobile Data",
          "Mobile Data",
          "Mobile Data",
          "Mobile Data",
          "Mobile Data",
          "Wifi",
          "Wifi",
          "Wifi",
          "Wifi",
          "Mobile Data",
          "Wifi",
          "Wifi",
          "Mobile Data",
          "Mobile Data",
          "Mobile Data",
          "Wifi",
          "Wifi",
          "Wifi",
          "Wifi",
          "Wifi",
          "Mobile Data",
          "Mobile Data",
          "Mobile Data",
          "Mobile Data",
          "Wifi",
          "Wifi",
          "Mobile Data",
          "Mobile Data",
          "Mobile Data",
          "Mobile Data",
          "Wifi",
          "Mobile Data",
          "Mobile Data",
          "Mobile Data",
          "Wifi",
          "Mobile Data",
          "Mobile Data",
          "Mobile Data",
          "Wifi",
          "Mobile Data",
          "Wifi",
          "Wifi",
          "Mobile Data",
          "Wifi",
          "Wifi",
          "Mobile Data",
          "Mobile Data",
          "Mobile Data",
          "Wifi",
          "Mobile Data",
          "Mobile Data",
          "Mobile Data",
          "Mobile Data",
          "Wifi",
          "Mobile Data",
          "Wifi",
          "Mobile Data",
          "Mobile Data",
          "Mobile Data",
          "Wifi",
          "Mobile Data",
          "Mobile Data",
          "Mobile Data",
          "Mobile Data",
          "Mobile Data",
          "Wifi",
          "Wifi",
          "Wifi",
          "Wifi",
          "Wifi",
          "Mobile Data",
          "Wifi",
          "Mobile Data",
          "Wifi",
          "Wifi",
          "Mobile Data",
          "Mobile Data",
          "Wifi",
          "Wifi",
          "Mobile Data",
          "Wifi",
          "Wifi",
          "Mobile Data",
          "Mobile Data",
          "Mobile Data",
          "Wifi",
          "Wifi",
          "Wifi",
          "Mobile Data",
          "Wifi",
          "Mobile Data",
          "Wifi",
          "Mobile Data",
          "Mobile Data",
          "Wifi",
          "Mobile Data",
          "Mobile Data",
          "Wifi",
          "Mobile Data",
          "Wifi",
          "Wifi",
          "Wifi",
          "Wifi",
          "Wifi",
          "Mobile Data",
          "Mobile Data",
          "Wifi",
          "Mobile Data",
          "Mobile Data",
          "Mobile Data",
          "Mobile Data",
          "Mobile Data",
          "Mobile Data",
          "Mobile Data",
          "Mobile Data",
          "Mobile Data",
          "Mobile Data",
          "Wifi",
          "Wifi",
          "Mobile Data",
          "Mobile Data",
          "Mobile Data",
          "Wifi",
          "Wifi",
          "Mobile Data",
          "Mobile Data",
          "Wifi",
          "Mobile Data",
          "Mobile Data",
          "Mobile Data",
          "Mobile Data",
          "Wifi",
          "Mobile Data",
          "Mobile Data",
          "Wifi",
          "Wifi",
          "Mobile Data",
          "Wifi",
          "Mobile Data",
          "Mobile Data",
          "Wifi",
          "Wifi",
          "Mobile Data",
          "Wifi",
          "Mobile Data",
          "Mobile Data",
          "Wifi",
          "Mobile Data",
          "Wifi",
          "Wifi",
          "Mobile Data",
          "Wifi",
          "Wifi",
          "Wifi",
          "Mobile Data",
          "Mobile Data",
          "Mobile Data",
          "Mobile Data",
          "Mobile Data",
          "Mobile Data",
          "Mobile Data",
          "Mobile Data",
          "Wifi",
          "Mobile Data",
          "Mobile Data",
          "Mobile Data",
          "Wifi",
          "Wifi",
          "Mobile Data",
          "Wifi",
          "Wifi",
          "Mobile Data",
          "Wifi",
          "Mobile Data",
          "Mobile Data",
          "Mobile Data",
          "Mobile Data",
          "Mobile Data",
          "Wifi",
          "Wifi",
          "Mobile Data",
          "Mobile Data",
          "Wifi",
          "Mobile Data",
          "Mobile Data",
          "Mobile Data",
          "Mobile Data",
          "Wifi",
          "Wifi",
          "Mobile Data",
          "Wifi",
          "Mobile Data",
          "Mobile Data",
          "Mobile Data",
          "Mobile Data",
          "Mobile Data",
          "Mobile Data",
          "Wifi",
          "Mobile Data",
          "Mobile Data",
          "Wifi",
          "Mobile Data",
          "Mobile Data",
          "Wifi",
          "Wifi",
          "Wifi",
          "Mobile Data",
          "Wifi",
          "Wifi",
          "Mobile Data",
          "Mobile Data",
          "Mobile Data",
          "Mobile Data",
          "Mobile Data",
          "Wifi",
          "Wifi",
          "Mobile Data",
          "Mobile Data",
          "Wifi",
          "Wifi",
          "Mobile Data",
          "Mobile Data",
          "Wifi",
          "Mobile Data",
          "Mobile Data",
          "Wifi",
          "Mobile Data",
          "Wifi",
          "Mobile Data",
          "Wifi",
          "Mobile Data",
          "Wifi",
          "Wifi",
          "Wifi",
          "Wifi",
          "Wifi",
          "Wifi",
          "Wifi",
          "Wifi",
          "Mobile Data",
          "Mobile Data",
          "Wifi",
          "Mobile Data",
          "Mobile Data",
          "Wifi",
          "Wifi",
          "Wifi",
          "Wifi",
          "Wifi",
          "Mobile Data",
          "Wifi",
          "Mobile Data",
          "Wifi",
          "Wifi",
          "Wifi",
          "Mobile Data",
          "Mobile Data",
          "Wifi",
          "Mobile Data",
          "Wifi",
          "Mobile Data",
          "Mobile Data",
          "Wifi",
          "Wifi",
          "Mobile Data",
          "Mobile Data",
          "Mobile Data",
          "Mobile Data",
          "Mobile Data",
          "Mobile Data",
          "Wifi",
          "Mobile Data",
          "Wifi",
          "Wifi",
          "Mobile Data",
          "Mobile Data",
          "Wifi",
          "Wifi",
          "Mobile Data",
          "Mobile Data",
          "Mobile Data",
          "Mobile Data",
          "Wifi",
          "Wifi",
          "Mobile Data",
          "Mobile Data",
          "Wifi",
          "Mobile Data",
          "Mobile Data",
          "Mobile Data",
          "Mobile Data",
          "Mobile Data",
          "Wifi",
          "Mobile Data",
          "Wifi",
          "Mobile Data",
          "Mobile Data",
          "Mobile Data",
          "Mobile Data",
          "Wifi",
          "Mobile Data",
          "Mobile Data",
          "Mobile Data",
          "Wifi",
          "Wifi",
          "Mobile Data",
          "Mobile Data",
          "Mobile Data",
          "Wifi",
          "Mobile Data",
          "Wifi",
          "Mobile Data",
          "Mobile Data",
          "Mobile Data",
          "Wifi",
          "Wifi",
          "Mobile Data",
          "Mobile Data",
          "Mobile Data",
          "Mobile Data",
          "Wifi",
          "Wifi",
          "Mobile Data",
          "Wifi",
          "Wifi",
          "Wifi",
          "Mobile Data",
          "Mobile Data",
          "Wifi",
          "Mobile Data",
          "Wifi",
          "Mobile Data",
          "Wifi",
          "Wifi",
          "Wifi",
          "Wifi",
          "Wifi",
          "Wifi",
          "Wifi",
          "Mobile Data",
          "Mobile Data",
          "Wifi",
          "Mobile Data",
          "Wifi",
          "Mobile Data",
          "Wifi",
          "Wifi",
          "Wifi",
          "Mobile Data",
          "Mobile Data",
          "Mobile Data",
          "Mobile Data",
          "Wifi",
          "Wifi",
          "Mobile Data",
          "Mobile Data",
          "Mobile Data",
          "Mobile Data",
          "Wifi",
          "Mobile Data",
          "Wifi",
          "Mobile Data",
          "Wifi",
          "Wifi",
          "Mobile Data",
          "Wifi",
          "Mobile Data",
          "Mobile Data",
          "Mobile Data",
          "Wifi",
          "Wifi",
          "Mobile Data",
          "Mobile Data",
          "Wifi",
          "Mobile Data",
          "Wifi",
          "Mobile Data",
          "Mobile Data",
          "Wifi",
          "Mobile Data",
          "Mobile Data",
          "Mobile Data",
          "Wifi",
          "Wifi",
          "Mobile Data",
          "Mobile Data",
          "Mobile Data",
          "Wifi",
          "Mobile Data",
          "Mobile Data",
          "Mobile Data",
          "Mobile Data",
          "Wifi",
          "Mobile Data",
          "Mobile Data",
          "Wifi",
          "Wifi",
          "Mobile Data",
          "Mobile Data",
          "Mobile Data",
          "Wifi",
          "Wifi",
          "Mobile Data",
          "Mobile Data",
          "Mobile Data",
          "Mobile Data",
          "Mobile Data",
          "Wifi",
          "Mobile Data",
          "Mobile Data",
          "Mobile Data",
          "Mobile Data",
          "Wifi",
          "Wifi",
          "Wifi",
          "Mobile Data",
          "Wifi",
          "Mobile Data",
          "Mobile Data",
          "Wifi",
          "Wifi",
          "Mobile Data",
          "Wifi",
          "Wifi",
          "Wifi",
          "Mobile Data",
          "Mobile Data",
          "Wifi",
          "Wifi",
          "Mobile Data",
          "Wifi",
          "Wifi",
          "Mobile Data",
          "Mobile Data",
          "Wifi",
          "Mobile Data",
          "Mobile Data",
          "Wifi",
          "Mobile Data",
          "Mobile Data",
          "Mobile Data",
          "Wifi",
          "Mobile Data",
          "Mobile Data",
          "Wifi",
          "Mobile Data",
          "Mobile Data",
          "Wifi",
          "Wifi",
          "Mobile Data",
          "Mobile Data",
          "Mobile Data",
          "Mobile Data",
          "Mobile Data",
          "Wifi",
          "Mobile Data",
          "Mobile Data",
          "Mobile Data",
          "Mobile Data",
          "Mobile Data",
          "Wifi",
          "Wifi",
          "Wifi",
          "Wifi",
          "Wifi",
          "Mobile Data",
          "Wifi",
          "Mobile Data",
          "Mobile Data",
          "Wifi",
          "Mobile Data",
          "Wifi",
          "Mobile Data",
          "Mobile Data",
          "Mobile Data",
          "Mobile Data",
          "Mobile Data",
          "Wifi",
          "Wifi",
          "Wifi",
          "Mobile Data",
          "Mobile Data",
          "Mobile Data",
          "Mobile Data",
          "Wifi",
          "Mobile Data",
          "Mobile Data",
          "Mobile Data",
          "Mobile Data",
          "Wifi",
          "Mobile Data",
          "Wifi",
          "Wifi",
          "Mobile Data",
          "Wifi",
          "Wifi",
          "Mobile Data",
          "Mobile Data",
          "Mobile Data",
          "Mobile Data",
          "Mobile Data",
          "Wifi",
          "Wifi",
          "Wifi",
          "Mobile Data",
          "Wifi",
          "Wifi",
          "Wifi",
          "Wifi",
          "Wifi",
          "Mobile Data",
          "Mobile Data",
          "Mobile Data",
          "Mobile Data",
          "Mobile Data",
          "Wifi",
          "Mobile Data",
          "Wifi",
          "Wifi",
          "Mobile Data",
          "Wifi",
          "Wifi",
          "Wifi",
          "Wifi",
          "Wifi",
          "Wifi",
          "Mobile Data",
          "Wifi",
          "Wifi",
          "Mobile Data",
          "Mobile Data",
          "Mobile Data",
          "Wifi",
          "Mobile Data",
          "Wifi",
          "Mobile Data",
          "Mobile Data",
          "Mobile Data",
          "Mobile Data",
          "Mobile Data",
          "Wifi",
          "Wifi",
          "Mobile Data",
          "Mobile Data",
          "Mobile Data",
          "Wifi",
          "Mobile Data",
          "Mobile Data",
          "Mobile Data",
          "Wifi",
          "Mobile Data",
          "Wifi",
          "Mobile Data",
          "Mobile Data",
          "Mobile Data",
          "Mobile Data",
          "Mobile Data",
          "Mobile Data",
          "Mobile Data",
          "Wifi",
          "Wifi",
          "Mobile Data",
          "Mobile Data",
          "Mobile Data",
          "Mobile Data",
          "Wifi",
          "Mobile Data",
          "Mobile Data",
          "Wifi",
          "Mobile Data",
          "Wifi",
          "Mobile Data",
          "Wifi",
          "Mobile Data",
          "Mobile Data",
          "Wifi",
          "Mobile Data",
          "Wifi",
          "Mobile Data",
          "Mobile Data",
          "Wifi",
          "Wifi",
          "Wifi",
          "Mobile Data",
          "Mobile Data",
          "Mobile Data",
          "Mobile Data",
          "Wifi",
          "Mobile Data",
          "Wifi",
          "Wifi",
          "Wifi",
          "Wifi",
          "Mobile Data",
          "Mobile Data",
          "Wifi",
          "Wifi",
          "Wifi",
          "Mobile Data",
          "Wifi",
          "Mobile Data",
          "Wifi",
          "Mobile Data",
          "Wifi",
          "Wifi",
          "Mobile Data",
          "Wifi",
          "Wifi",
          "Wifi",
          "Wifi",
          "Wifi",
          "Mobile Data",
          "Wifi",
          "Mobile Data",
          "Wifi",
          "Wifi",
          "Mobile Data",
          "Mobile Data",
          "Wifi",
          "Mobile Data",
          "Wifi",
          "Wifi",
          "Mobile Data",
          "Wifi",
          "Wifi",
          "Mobile Data",
          "Mobile Data",
          "Mobile Data",
          "Mobile Data",
          "Mobile Data",
          "Mobile Data",
          "Mobile Data",
          "Mobile Data",
          "Mobile Data",
          "Wifi",
          "Wifi",
          "Wifi",
          "Wifi",
          "Mobile Data",
          "Mobile Data",
          "Mobile Data",
          "Wifi",
          "Mobile Data",
          "Wifi",
          "Wifi",
          "Wifi",
          "Wifi",
          "Wifi",
          "Mobile Data",
          "Mobile Data",
          "Mobile Data",
          "Mobile Data",
          "Mobile Data",
          "Mobile Data",
          "Mobile Data",
          "Mobile Data",
          "Mobile Data",
          "Mobile Data",
          "Wifi",
          "Mobile Data",
          "Mobile Data",
          "Wifi",
          "Wifi",
          "Wifi",
          "Mobile Data",
          "Mobile Data",
          "Mobile Data",
          "Mobile Data",
          "Mobile Data",
          "Wifi",
          "Mobile Data",
          "Mobile Data",
          "Wifi",
          "Mobile Data",
          "Mobile Data",
          "Wifi",
          "Wifi",
          "Mobile Data",
          "Wifi",
          "Mobile Data",
          "Mobile Data",
          "Wifi",
          "Wifi",
          "Mobile Data",
          "Mobile Data",
          "Mobile Data",
          "Mobile Data",
          "Mobile Data",
          "Mobile Data",
          "Mobile Data",
          "Mobile Data",
          "Wifi",
          "Mobile Data",
          "Wifi",
          "Wifi",
          "Mobile Data",
          "Wifi",
          "Mobile Data",
          "Mobile Data",
          "Wifi",
          "Mobile Data",
          "Mobile Data",
          "Mobile Data",
          "Mobile Data",
          "Mobile Data",
          "Wifi",
          "Wifi",
          "Wifi",
          "Mobile Data",
          "Wifi",
          "Wifi",
          "Mobile Data",
          "Wifi",
          "Mobile Data",
          "Mobile Data",
          "Wifi",
          "Wifi",
          "Mobile Data",
          "Mobile Data",
          "Wifi",
          "Mobile Data",
          "Mobile Data",
          "Mobile Data",
          "Wifi",
          "Mobile Data",
          "Wifi",
          "Wifi",
          "Wifi",
          "Mobile Data",
          "Mobile Data",
          "Wifi",
          "Wifi",
          "Mobile Data",
          "Wifi",
          "Wifi",
          "Wifi",
          "Mobile Data",
          "Wifi",
          "Mobile Data",
          "Mobile Data",
          "Wifi",
          "Wifi",
          "Mobile Data",
          "Wifi",
          "Wifi",
          "Mobile Data",
          "Wifi",
          "Mobile Data",
          "Mobile Data",
          "Mobile Data",
          "Mobile Data",
          "Mobile Data",
          "Mobile Data",
          "Wifi",
          "Mobile Data",
          "Mobile Data",
          "Mobile Data",
          "Wifi",
          "Mobile Data",
          "Wifi",
          "Mobile Data",
          "Mobile Data",
          "Mobile Data",
          "Mobile Data",
          "Wifi",
          "Mobile Data",
          "Mobile Data",
          "Mobile Data",
          "Wifi",
          "Mobile Data",
          "Wifi",
          "Wifi",
          "Mobile Data",
          "Mobile Data",
          "Wifi",
          "Mobile Data",
          "Mobile Data",
          "Wifi",
          "Mobile Data",
          "Wifi",
          "Wifi",
          "Wifi",
          "Mobile Data",
          "Wifi",
          "Wifi",
          "Wifi",
          "Wifi",
          "Wifi",
          "Wifi",
          "Wifi",
          "Mobile Data",
          "Mobile Data",
          "Mobile Data",
          "Mobile Data",
          "Wifi",
          "Wifi",
          "Wifi",
          "Wifi",
          "Wifi",
          "Wifi",
          "Wifi",
          "Mobile Data",
          "Wifi",
          "Mobile Data",
          "Mobile Data",
          "Wifi",
          "Mobile Data",
          "Wifi",
          "Mobile Data",
          "Mobile Data",
          "Mobile Data",
          "Wifi",
          "Mobile Data",
          "Mobile Data",
          "Mobile Data",
          "Mobile Data",
          "Mobile Data",
          "Mobile Data",
          "Wifi",
          "Mobile Data",
          "Mobile Data",
          "Mobile Data",
          "Mobile Data",
          "Mobile Data",
          "Mobile Data",
          "Wifi",
          "Wifi",
          "Mobile Data",
          "Wifi",
          "Mobile Data",
          "Mobile Data",
          "Mobile Data",
          "Mobile Data",
          "Wifi",
          "Mobile Data",
          "Wifi",
          "Wifi",
          "Mobile Data",
          "Mobile Data",
          "Mobile Data",
          "Mobile Data",
          "Wifi",
          "Mobile Data",
          "Mobile Data",
          "Wifi",
          "Wifi",
          "Mobile Data",
          "Mobile Data",
          "Wifi",
          "Mobile Data",
          "Wifi",
          "Mobile Data",
          "Mobile Data",
          "Mobile Data",
          "Mobile Data",
          "Wifi",
          "Mobile Data",
          "Mobile Data",
          "Mobile Data",
          "Wifi",
          "Mobile Data",
          "Wifi",
          "Mobile Data",
          "Mobile Data",
          "Wifi",
          "Wifi",
          "Wifi",
          "Wifi",
          "Mobile Data",
          "Wifi",
          "Wifi",
          "Wifi",
          "Wifi",
          "Mobile Data",
          "Wifi",
          "Wifi",
          "Wifi",
          "Mobile Data",
          "Mobile Data",
          "Wifi",
          "Mobile Data",
          "Wifi",
          "Mobile Data",
          "Mobile Data",
          "Mobile Data",
          "Mobile Data",
          "Wifi",
          "Wifi",
          "Wifi",
          "Mobile Data",
          "Mobile Data",
          "Wifi",
          "Wifi",
          "Wifi",
          "Wifi",
          "Mobile Data",
          "Mobile Data",
          "Wifi",
          "Wifi",
          "Mobile Data",
          "Wifi",
          "Mobile Data",
          "Wifi",
          "Mobile Data",
          "Wifi",
          "Wifi",
          "Mobile Data",
          "Wifi",
          "Wifi",
          "Mobile Data",
          "Wifi",
          "Mobile Data",
          "Mobile Data",
          "Mobile Data",
          "Mobile Data",
          "Mobile Data",
          "Wifi",
          "Wifi",
          "Mobile Data",
          "Mobile Data",
          "Wifi",
          "Mobile Data",
          "Mobile Data",
          "Mobile Data",
          "Mobile Data",
          "Mobile Data",
          "Mobile Data",
          "Mobile Data",
          "Wifi",
          "Mobile Data",
          "Wifi",
          "Wifi",
          "Wifi",
          "Wifi",
          "Wifi",
          "Wifi",
          "Mobile Data",
          "Wifi",
          "Mobile Data",
          "Mobile Data",
          "Wifi",
          "Wifi",
          "Mobile Data",
          "Mobile Data",
          "Mobile Data",
          "Wifi",
          "Mobile Data",
          "Mobile Data",
          "Mobile Data",
          "Wifi",
          "Mobile Data",
          "Mobile Data",
          "Mobile Data",
          "Wifi",
          "Mobile Data",
          "Mobile Data",
          "Mobile Data",
          "Wifi",
          "Wifi",
          "Mobile Data",
          "Wifi",
          "Mobile Data",
          "Mobile Data",
          "Wifi",
          "Mobile Data",
          "Wifi",
          "Wifi",
          "Mobile Data",
          "Mobile Data",
          "Wifi",
          "Wifi",
          "Wifi",
          "Wifi",
          "Mobile Data",
          "Wifi",
          "Mobile Data",
          "Mobile Data",
          "Mobile Data",
          "Mobile Data",
          "Wifi",
          "Wifi",
          "Wifi",
          "Mobile Data",
          "Mobile Data",
          "Mobile Data",
          "Mobile Data",
          "Wifi",
          "Mobile Data",
          "Mobile Data",
          "Mobile Data",
          "Mobile Data",
          "Wifi",
          "Wifi",
          "Mobile Data",
          "Mobile Data",
          "Mobile Data",
          "Mobile Data",
          "Mobile Data",
          "Mobile Data",
          "Mobile Data",
          "Mobile Data",
          "Wifi",
          "Mobile Data",
          "Wifi",
          "Mobile Data",
          "Mobile Data",
          "Wifi",
          "Mobile Data",
          "Mobile Data",
          "Mobile Data",
          "Mobile Data",
          "Wifi",
          "Mobile Data",
          "Mobile Data",
          "Wifi",
          "Mobile Data",
          "Mobile Data",
          "Mobile Data",
          "Mobile Data",
          "Mobile Data",
          "Mobile Data",
          "Mobile Data",
          "Wifi",
          "Wifi",
          "Wifi",
          "Wifi",
          "Mobile Data",
          "Wifi",
          "Wifi",
          "Mobile Data",
          "Wifi",
          "Mobile Data",
          "Mobile Data",
          "Mobile Data",
          "Wifi",
          "Wifi",
          "Wifi",
          "Mobile Data",
          "Wifi",
          "Mobile Data"
         ],
         "xaxis": "x",
         "yaxis": "y"
        }
       ],
       "layout": {
        "barmode": "relative",
        "legend": {
         "tracegroupgap": 0
        },
        "template": {
         "data": {
          "bar": [
           {
            "error_x": {
             "color": "#2a3f5f"
            },
            "error_y": {
             "color": "#2a3f5f"
            },
            "marker": {
             "line": {
              "color": "#E5ECF6",
              "width": 0.5
             },
             "pattern": {
              "fillmode": "overlay",
              "size": 10,
              "solidity": 0.2
             }
            },
            "type": "bar"
           }
          ],
          "barpolar": [
           {
            "marker": {
             "line": {
              "color": "#E5ECF6",
              "width": 0.5
             },
             "pattern": {
              "fillmode": "overlay",
              "size": 10,
              "solidity": 0.2
             }
            },
            "type": "barpolar"
           }
          ],
          "carpet": [
           {
            "aaxis": {
             "endlinecolor": "#2a3f5f",
             "gridcolor": "white",
             "linecolor": "white",
             "minorgridcolor": "white",
             "startlinecolor": "#2a3f5f"
            },
            "baxis": {
             "endlinecolor": "#2a3f5f",
             "gridcolor": "white",
             "linecolor": "white",
             "minorgridcolor": "white",
             "startlinecolor": "#2a3f5f"
            },
            "type": "carpet"
           }
          ],
          "choropleth": [
           {
            "colorbar": {
             "outlinewidth": 0,
             "ticks": ""
            },
            "type": "choropleth"
           }
          ],
          "contour": [
           {
            "colorbar": {
             "outlinewidth": 0,
             "ticks": ""
            },
            "colorscale": [
             [
              0,
              "#0d0887"
             ],
             [
              0.1111111111111111,
              "#46039f"
             ],
             [
              0.2222222222222222,
              "#7201a8"
             ],
             [
              0.3333333333333333,
              "#9c179e"
             ],
             [
              0.4444444444444444,
              "#bd3786"
             ],
             [
              0.5555555555555556,
              "#d8576b"
             ],
             [
              0.6666666666666666,
              "#ed7953"
             ],
             [
              0.7777777777777778,
              "#fb9f3a"
             ],
             [
              0.8888888888888888,
              "#fdca26"
             ],
             [
              1,
              "#f0f921"
             ]
            ],
            "type": "contour"
           }
          ],
          "contourcarpet": [
           {
            "colorbar": {
             "outlinewidth": 0,
             "ticks": ""
            },
            "type": "contourcarpet"
           }
          ],
          "heatmap": [
           {
            "colorbar": {
             "outlinewidth": 0,
             "ticks": ""
            },
            "colorscale": [
             [
              0,
              "#0d0887"
             ],
             [
              0.1111111111111111,
              "#46039f"
             ],
             [
              0.2222222222222222,
              "#7201a8"
             ],
             [
              0.3333333333333333,
              "#9c179e"
             ],
             [
              0.4444444444444444,
              "#bd3786"
             ],
             [
              0.5555555555555556,
              "#d8576b"
             ],
             [
              0.6666666666666666,
              "#ed7953"
             ],
             [
              0.7777777777777778,
              "#fb9f3a"
             ],
             [
              0.8888888888888888,
              "#fdca26"
             ],
             [
              1,
              "#f0f921"
             ]
            ],
            "type": "heatmap"
           }
          ],
          "heatmapgl": [
           {
            "colorbar": {
             "outlinewidth": 0,
             "ticks": ""
            },
            "colorscale": [
             [
              0,
              "#0d0887"
             ],
             [
              0.1111111111111111,
              "#46039f"
             ],
             [
              0.2222222222222222,
              "#7201a8"
             ],
             [
              0.3333333333333333,
              "#9c179e"
             ],
             [
              0.4444444444444444,
              "#bd3786"
             ],
             [
              0.5555555555555556,
              "#d8576b"
             ],
             [
              0.6666666666666666,
              "#ed7953"
             ],
             [
              0.7777777777777778,
              "#fb9f3a"
             ],
             [
              0.8888888888888888,
              "#fdca26"
             ],
             [
              1,
              "#f0f921"
             ]
            ],
            "type": "heatmapgl"
           }
          ],
          "histogram": [
           {
            "marker": {
             "pattern": {
              "fillmode": "overlay",
              "size": 10,
              "solidity": 0.2
             }
            },
            "type": "histogram"
           }
          ],
          "histogram2d": [
           {
            "colorbar": {
             "outlinewidth": 0,
             "ticks": ""
            },
            "colorscale": [
             [
              0,
              "#0d0887"
             ],
             [
              0.1111111111111111,
              "#46039f"
             ],
             [
              0.2222222222222222,
              "#7201a8"
             ],
             [
              0.3333333333333333,
              "#9c179e"
             ],
             [
              0.4444444444444444,
              "#bd3786"
             ],
             [
              0.5555555555555556,
              "#d8576b"
             ],
             [
              0.6666666666666666,
              "#ed7953"
             ],
             [
              0.7777777777777778,
              "#fb9f3a"
             ],
             [
              0.8888888888888888,
              "#fdca26"
             ],
             [
              1,
              "#f0f921"
             ]
            ],
            "type": "histogram2d"
           }
          ],
          "histogram2dcontour": [
           {
            "colorbar": {
             "outlinewidth": 0,
             "ticks": ""
            },
            "colorscale": [
             [
              0,
              "#0d0887"
             ],
             [
              0.1111111111111111,
              "#46039f"
             ],
             [
              0.2222222222222222,
              "#7201a8"
             ],
             [
              0.3333333333333333,
              "#9c179e"
             ],
             [
              0.4444444444444444,
              "#bd3786"
             ],
             [
              0.5555555555555556,
              "#d8576b"
             ],
             [
              0.6666666666666666,
              "#ed7953"
             ],
             [
              0.7777777777777778,
              "#fb9f3a"
             ],
             [
              0.8888888888888888,
              "#fdca26"
             ],
             [
              1,
              "#f0f921"
             ]
            ],
            "type": "histogram2dcontour"
           }
          ],
          "mesh3d": [
           {
            "colorbar": {
             "outlinewidth": 0,
             "ticks": ""
            },
            "type": "mesh3d"
           }
          ],
          "parcoords": [
           {
            "line": {
             "colorbar": {
              "outlinewidth": 0,
              "ticks": ""
             }
            },
            "type": "parcoords"
           }
          ],
          "pie": [
           {
            "automargin": true,
            "type": "pie"
           }
          ],
          "scatter": [
           {
            "fillpattern": {
             "fillmode": "overlay",
             "size": 10,
             "solidity": 0.2
            },
            "type": "scatter"
           }
          ],
          "scatter3d": [
           {
            "line": {
             "colorbar": {
              "outlinewidth": 0,
              "ticks": ""
             }
            },
            "marker": {
             "colorbar": {
              "outlinewidth": 0,
              "ticks": ""
             }
            },
            "type": "scatter3d"
           }
          ],
          "scattercarpet": [
           {
            "marker": {
             "colorbar": {
              "outlinewidth": 0,
              "ticks": ""
             }
            },
            "type": "scattercarpet"
           }
          ],
          "scattergeo": [
           {
            "marker": {
             "colorbar": {
              "outlinewidth": 0,
              "ticks": ""
             }
            },
            "type": "scattergeo"
           }
          ],
          "scattergl": [
           {
            "marker": {
             "colorbar": {
              "outlinewidth": 0,
              "ticks": ""
             }
            },
            "type": "scattergl"
           }
          ],
          "scattermapbox": [
           {
            "marker": {
             "colorbar": {
              "outlinewidth": 0,
              "ticks": ""
             }
            },
            "type": "scattermapbox"
           }
          ],
          "scatterpolar": [
           {
            "marker": {
             "colorbar": {
              "outlinewidth": 0,
              "ticks": ""
             }
            },
            "type": "scatterpolar"
           }
          ],
          "scatterpolargl": [
           {
            "marker": {
             "colorbar": {
              "outlinewidth": 0,
              "ticks": ""
             }
            },
            "type": "scatterpolargl"
           }
          ],
          "scatterternary": [
           {
            "marker": {
             "colorbar": {
              "outlinewidth": 0,
              "ticks": ""
             }
            },
            "type": "scatterternary"
           }
          ],
          "surface": [
           {
            "colorbar": {
             "outlinewidth": 0,
             "ticks": ""
            },
            "colorscale": [
             [
              0,
              "#0d0887"
             ],
             [
              0.1111111111111111,
              "#46039f"
             ],
             [
              0.2222222222222222,
              "#7201a8"
             ],
             [
              0.3333333333333333,
              "#9c179e"
             ],
             [
              0.4444444444444444,
              "#bd3786"
             ],
             [
              0.5555555555555556,
              "#d8576b"
             ],
             [
              0.6666666666666666,
              "#ed7953"
             ],
             [
              0.7777777777777778,
              "#fb9f3a"
             ],
             [
              0.8888888888888888,
              "#fdca26"
             ],
             [
              1,
              "#f0f921"
             ]
            ],
            "type": "surface"
           }
          ],
          "table": [
           {
            "cells": {
             "fill": {
              "color": "#EBF0F8"
             },
             "line": {
              "color": "white"
             }
            },
            "header": {
             "fill": {
              "color": "#C8D4E3"
             },
             "line": {
              "color": "white"
             }
            },
            "type": "table"
           }
          ]
         },
         "layout": {
          "annotationdefaults": {
           "arrowcolor": "#2a3f5f",
           "arrowhead": 0,
           "arrowwidth": 1
          },
          "autotypenumbers": "strict",
          "coloraxis": {
           "colorbar": {
            "outlinewidth": 0,
            "ticks": ""
           }
          },
          "colorscale": {
           "diverging": [
            [
             0,
             "#8e0152"
            ],
            [
             0.1,
             "#c51b7d"
            ],
            [
             0.2,
             "#de77ae"
            ],
            [
             0.3,
             "#f1b6da"
            ],
            [
             0.4,
             "#fde0ef"
            ],
            [
             0.5,
             "#f7f7f7"
            ],
            [
             0.6,
             "#e6f5d0"
            ],
            [
             0.7,
             "#b8e186"
            ],
            [
             0.8,
             "#7fbc41"
            ],
            [
             0.9,
             "#4d9221"
            ],
            [
             1,
             "#276419"
            ]
           ],
           "sequential": [
            [
             0,
             "#0d0887"
            ],
            [
             0.1111111111111111,
             "#46039f"
            ],
            [
             0.2222222222222222,
             "#7201a8"
            ],
            [
             0.3333333333333333,
             "#9c179e"
            ],
            [
             0.4444444444444444,
             "#bd3786"
            ],
            [
             0.5555555555555556,
             "#d8576b"
            ],
            [
             0.6666666666666666,
             "#ed7953"
            ],
            [
             0.7777777777777778,
             "#fb9f3a"
            ],
            [
             0.8888888888888888,
             "#fdca26"
            ],
            [
             1,
             "#f0f921"
            ]
           ],
           "sequentialminus": [
            [
             0,
             "#0d0887"
            ],
            [
             0.1111111111111111,
             "#46039f"
            ],
            [
             0.2222222222222222,
             "#7201a8"
            ],
            [
             0.3333333333333333,
             "#9c179e"
            ],
            [
             0.4444444444444444,
             "#bd3786"
            ],
            [
             0.5555555555555556,
             "#d8576b"
            ],
            [
             0.6666666666666666,
             "#ed7953"
            ],
            [
             0.7777777777777778,
             "#fb9f3a"
            ],
            [
             0.8888888888888888,
             "#fdca26"
            ],
            [
             1,
             "#f0f921"
            ]
           ]
          },
          "colorway": [
           "#636efa",
           "#EF553B",
           "#00cc96",
           "#ab63fa",
           "#FFA15A",
           "#19d3f3",
           "#FF6692",
           "#B6E880",
           "#FF97FF",
           "#FECB52"
          ],
          "font": {
           "color": "#2a3f5f"
          },
          "geo": {
           "bgcolor": "white",
           "lakecolor": "white",
           "landcolor": "#E5ECF6",
           "showlakes": true,
           "showland": true,
           "subunitcolor": "white"
          },
          "hoverlabel": {
           "align": "left"
          },
          "hovermode": "closest",
          "mapbox": {
           "style": "light"
          },
          "paper_bgcolor": "white",
          "plot_bgcolor": "#E5ECF6",
          "polar": {
           "angularaxis": {
            "gridcolor": "white",
            "linecolor": "white",
            "ticks": ""
           },
           "bgcolor": "#E5ECF6",
           "radialaxis": {
            "gridcolor": "white",
            "linecolor": "white",
            "ticks": ""
           }
          },
          "scene": {
           "xaxis": {
            "backgroundcolor": "#E5ECF6",
            "gridcolor": "white",
            "gridwidth": 2,
            "linecolor": "white",
            "showbackground": true,
            "ticks": "",
            "zerolinecolor": "white"
           },
           "yaxis": {
            "backgroundcolor": "#E5ECF6",
            "gridcolor": "white",
            "gridwidth": 2,
            "linecolor": "white",
            "showbackground": true,
            "ticks": "",
            "zerolinecolor": "white"
           },
           "zaxis": {
            "backgroundcolor": "#E5ECF6",
            "gridcolor": "white",
            "gridwidth": 2,
            "linecolor": "white",
            "showbackground": true,
            "ticks": "",
            "zerolinecolor": "white"
           }
          },
          "shapedefaults": {
           "line": {
            "color": "#2a3f5f"
           }
          },
          "ternary": {
           "aaxis": {
            "gridcolor": "white",
            "linecolor": "white",
            "ticks": ""
           },
           "baxis": {
            "gridcolor": "white",
            "linecolor": "white",
            "ticks": ""
           },
           "bgcolor": "#E5ECF6",
           "caxis": {
            "gridcolor": "white",
            "linecolor": "white",
            "ticks": ""
           }
          },
          "title": {
           "x": 0.05
          },
          "xaxis": {
           "automargin": true,
           "gridcolor": "white",
           "linecolor": "white",
           "ticks": "",
           "title": {
            "standoff": 15
           },
           "zerolinecolor": "white",
           "zerolinewidth": 2
          },
          "yaxis": {
           "automargin": true,
           "gridcolor": "white",
           "linecolor": "white",
           "ticks": "",
           "title": {
            "standoff": 15
           },
           "zerolinecolor": "white",
           "zerolinewidth": 2
          }
         }
        },
        "title": {
         "text": "Internet Type Distribution"
        },
        "xaxis": {
         "anchor": "y",
         "domain": [
          0,
          1
         ],
         "title": {
          "text": "Internet Type"
         }
        },
        "yaxis": {
         "anchor": "x",
         "domain": [
          0,
          1
         ],
         "title": {
          "text": "count"
         }
        }
       }
      }
     },
     "metadata": {},
     "output_type": "display_data"
    }
   ],
   "source": [
    "# Visualize the type of connection the students have access to \n",
    "fig = px.histogram(df, x='Internet Type', title=\"Internet Type Distribution\")\n",
    "fig.show()"
   ]
  },
  {
   "cell_type": "code",
   "execution_count": 10,
   "metadata": {},
   "outputs": [
    {
     "data": {
      "application/vnd.plotly.v1+json": {
       "config": {
        "plotlyServerURL": "https://plot.ly"
       },
       "data": [
        {
         "alignmentgroup": "True",
         "bingroup": "x",
         "hovertemplate": "Device=%{x}<br>count=%{y}<extra></extra>",
         "legendgroup": "",
         "marker": {
          "color": "#636efa",
          "pattern": {
           "shape": ""
          }
         },
         "name": "",
         "offsetgroup": "",
         "orientation": "v",
         "showlegend": false,
         "type": "histogram",
         "x": [
          "Tab",
          "Mobile",
          "Mobile",
          "Mobile",
          "Mobile",
          "Mobile",
          "Mobile",
          "Mobile",
          "Mobile",
          "Mobile",
          "Mobile",
          "Mobile",
          "Mobile",
          "Mobile",
          "Mobile",
          "Mobile",
          "Computer",
          "Mobile",
          "Mobile",
          "Mobile",
          "Mobile",
          "Mobile",
          "Mobile",
          "Mobile",
          "Mobile",
          "Mobile",
          "Mobile",
          "Computer",
          "Mobile",
          "Mobile",
          "Mobile",
          "Mobile",
          "Mobile",
          "Mobile",
          "Mobile",
          "Mobile",
          "Mobile",
          "Mobile",
          "Mobile",
          "Mobile",
          "Computer",
          "Mobile",
          "Mobile",
          "Mobile",
          "Computer",
          "Computer",
          "Mobile",
          "Mobile",
          "Mobile",
          "Computer",
          "Mobile",
          "Mobile",
          "Mobile",
          "Mobile",
          "Mobile",
          "Mobile",
          "Mobile",
          "Mobile",
          "Mobile",
          "Mobile",
          "Mobile",
          "Mobile",
          "Mobile",
          "Mobile",
          "Mobile",
          "Mobile",
          "Mobile",
          "Mobile",
          "Mobile",
          "Mobile",
          "Mobile",
          "Mobile",
          "Mobile",
          "Mobile",
          "Mobile",
          "Mobile",
          "Mobile",
          "Mobile",
          "Mobile",
          "Mobile",
          "Mobile",
          "Mobile",
          "Computer",
          "Mobile",
          "Mobile",
          "Mobile",
          "Mobile",
          "Mobile",
          "Mobile",
          "Mobile",
          "Mobile",
          "Computer",
          "Computer",
          "Mobile",
          "Mobile",
          "Computer",
          "Mobile",
          "Mobile",
          "Mobile",
          "Mobile",
          "Mobile",
          "Computer",
          "Mobile",
          "Mobile",
          "Mobile",
          "Computer",
          "Mobile",
          "Computer",
          "Tab",
          "Mobile",
          "Mobile",
          "Mobile",
          "Mobile",
          "Mobile",
          "Mobile",
          "Computer",
          "Computer",
          "Computer",
          "Mobile",
          "Mobile",
          "Computer",
          "Mobile",
          "Mobile",
          "Mobile",
          "Computer",
          "Mobile",
          "Mobile",
          "Mobile",
          "Mobile",
          "Computer",
          "Mobile",
          "Mobile",
          "Mobile",
          "Mobile",
          "Mobile",
          "Computer",
          "Mobile",
          "Mobile",
          "Mobile",
          "Mobile",
          "Mobile",
          "Mobile",
          "Mobile",
          "Mobile",
          "Mobile",
          "Computer",
          "Computer",
          "Mobile",
          "Mobile",
          "Mobile",
          "Mobile",
          "Mobile",
          "Mobile",
          "Mobile",
          "Computer",
          "Computer",
          "Mobile",
          "Computer",
          "Mobile",
          "Computer",
          "Mobile",
          "Mobile",
          "Mobile",
          "Mobile",
          "Mobile",
          "Mobile",
          "Mobile",
          "Mobile",
          "Mobile",
          "Mobile",
          "Computer",
          "Mobile",
          "Mobile",
          "Computer",
          "Mobile",
          "Computer",
          "Mobile",
          "Mobile",
          "Mobile",
          "Mobile",
          "Computer",
          "Mobile",
          "Mobile",
          "Computer",
          "Mobile",
          "Mobile",
          "Mobile",
          "Mobile",
          "Mobile",
          "Tab",
          "Mobile",
          "Mobile",
          "Mobile",
          "Mobile",
          "Mobile",
          "Mobile",
          "Mobile",
          "Mobile",
          "Mobile",
          "Mobile",
          "Mobile",
          "Mobile",
          "Mobile",
          "Mobile",
          "Mobile",
          "Mobile",
          "Computer",
          "Mobile",
          "Mobile",
          "Mobile",
          "Mobile",
          "Mobile",
          "Mobile",
          "Computer",
          "Mobile",
          "Mobile",
          "Mobile",
          "Mobile",
          "Mobile",
          "Mobile",
          "Computer",
          "Mobile",
          "Mobile",
          "Mobile",
          "Mobile",
          "Mobile",
          "Mobile",
          "Mobile",
          "Mobile",
          "Mobile",
          "Mobile",
          "Mobile",
          "Mobile",
          "Mobile",
          "Computer",
          "Mobile",
          "Computer",
          "Mobile",
          "Mobile",
          "Mobile",
          "Mobile",
          "Mobile",
          "Mobile",
          "Mobile",
          "Mobile",
          "Mobile",
          "Computer",
          "Mobile",
          "Mobile",
          "Mobile",
          "Computer",
          "Mobile",
          "Mobile",
          "Mobile",
          "Mobile",
          "Mobile",
          "Mobile",
          "Mobile",
          "Mobile",
          "Mobile",
          "Mobile",
          "Mobile",
          "Mobile",
          "Mobile",
          "Mobile",
          "Mobile",
          "Mobile",
          "Mobile",
          "Mobile",
          "Mobile",
          "Mobile",
          "Mobile",
          "Mobile",
          "Mobile",
          "Mobile",
          "Mobile",
          "Mobile",
          "Mobile",
          "Mobile",
          "Mobile",
          "Mobile",
          "Mobile",
          "Mobile",
          "Computer",
          "Mobile",
          "Mobile",
          "Mobile",
          "Mobile",
          "Mobile",
          "Mobile",
          "Mobile",
          "Mobile",
          "Mobile",
          "Mobile",
          "Mobile",
          "Mobile",
          "Tab",
          "Mobile",
          "Mobile",
          "Mobile",
          "Computer",
          "Mobile",
          "Mobile",
          "Mobile",
          "Mobile",
          "Computer",
          "Tab",
          "Mobile",
          "Tab",
          "Mobile",
          "Mobile",
          "Mobile",
          "Mobile",
          "Mobile",
          "Mobile",
          "Mobile",
          "Tab",
          "Mobile",
          "Mobile",
          "Mobile",
          "Mobile",
          "Mobile",
          "Mobile",
          "Mobile",
          "Mobile",
          "Mobile",
          "Mobile",
          "Mobile",
          "Mobile",
          "Mobile",
          "Mobile",
          "Mobile",
          "Mobile",
          "Mobile",
          "Mobile",
          "Mobile",
          "Mobile",
          "Mobile",
          "Mobile",
          "Mobile",
          "Mobile",
          "Mobile",
          "Mobile",
          "Mobile",
          "Computer",
          "Mobile",
          "Mobile",
          "Mobile",
          "Mobile",
          "Mobile",
          "Mobile",
          "Mobile",
          "Mobile",
          "Computer",
          "Mobile",
          "Mobile",
          "Mobile",
          "Mobile",
          "Mobile",
          "Mobile",
          "Mobile",
          "Mobile",
          "Computer",
          "Mobile",
          "Mobile",
          "Computer",
          "Mobile",
          "Mobile",
          "Mobile",
          "Mobile",
          "Mobile",
          "Mobile",
          "Mobile",
          "Mobile",
          "Mobile",
          "Mobile",
          "Mobile",
          "Mobile",
          "Mobile",
          "Mobile",
          "Mobile",
          "Mobile",
          "Mobile",
          "Computer",
          "Mobile",
          "Mobile",
          "Mobile",
          "Mobile",
          "Computer",
          "Mobile",
          "Mobile",
          "Mobile",
          "Mobile",
          "Mobile",
          "Computer",
          "Mobile",
          "Mobile",
          "Mobile",
          "Computer",
          "Mobile",
          "Mobile",
          "Mobile",
          "Computer",
          "Mobile",
          "Mobile",
          "Mobile",
          "Computer",
          "Mobile",
          "Mobile",
          "Mobile",
          "Computer",
          "Computer",
          "Tab",
          "Mobile",
          "Mobile",
          "Computer",
          "Mobile",
          "Mobile",
          "Computer",
          "Mobile",
          "Mobile",
          "Mobile",
          "Computer",
          "Mobile",
          "Mobile",
          "Mobile",
          "Mobile",
          "Computer",
          "Computer",
          "Mobile",
          "Mobile",
          "Computer",
          "Mobile",
          "Mobile",
          "Mobile",
          "Mobile",
          "Mobile",
          "Tab",
          "Mobile",
          "Mobile",
          "Mobile",
          "Mobile",
          "Mobile",
          "Mobile",
          "Mobile",
          "Mobile",
          "Mobile",
          "Mobile",
          "Mobile",
          "Mobile",
          "Mobile",
          "Computer",
          "Mobile",
          "Mobile",
          "Mobile",
          "Mobile",
          "Mobile",
          "Mobile",
          "Mobile",
          "Computer",
          "Mobile",
          "Mobile",
          "Mobile",
          "Mobile",
          "Mobile",
          "Computer",
          "Mobile",
          "Mobile",
          "Mobile",
          "Mobile",
          "Mobile",
          "Mobile",
          "Mobile",
          "Mobile",
          "Mobile",
          "Mobile",
          "Mobile",
          "Mobile",
          "Mobile",
          "Mobile",
          "Mobile",
          "Mobile",
          "Mobile",
          "Mobile",
          "Mobile",
          "Mobile",
          "Computer",
          "Computer",
          "Mobile",
          "Mobile",
          "Computer",
          "Mobile",
          "Mobile",
          "Computer",
          "Mobile",
          "Mobile",
          "Mobile",
          "Mobile",
          "Computer",
          "Computer",
          "Mobile",
          "Mobile",
          "Mobile",
          "Computer",
          "Mobile",
          "Mobile",
          "Mobile",
          "Mobile",
          "Mobile",
          "Mobile",
          "Mobile",
          "Tab",
          "Mobile",
          "Mobile",
          "Mobile",
          "Mobile",
          "Mobile",
          "Computer",
          "Mobile",
          "Mobile",
          "Mobile",
          "Mobile",
          "Mobile",
          "Mobile",
          "Mobile",
          "Tab",
          "Mobile",
          "Computer",
          "Mobile",
          "Mobile",
          "Mobile",
          "Mobile",
          "Mobile",
          "Mobile",
          "Mobile",
          "Computer",
          "Mobile",
          "Mobile",
          "Mobile",
          "Mobile",
          "Mobile",
          "Mobile",
          "Mobile",
          "Mobile",
          "Mobile",
          "Mobile",
          "Mobile",
          "Mobile",
          "Mobile",
          "Computer",
          "Mobile",
          "Mobile",
          "Mobile",
          "Mobile",
          "Computer",
          "Mobile",
          "Mobile",
          "Mobile",
          "Mobile",
          "Mobile",
          "Mobile",
          "Mobile",
          "Mobile",
          "Mobile",
          "Mobile",
          "Computer",
          "Mobile",
          "Mobile",
          "Mobile",
          "Mobile",
          "Mobile",
          "Mobile",
          "Computer",
          "Mobile",
          "Mobile",
          "Mobile",
          "Mobile",
          "Mobile",
          "Mobile",
          "Mobile",
          "Computer",
          "Computer",
          "Mobile",
          "Mobile",
          "Computer",
          "Tab",
          "Mobile",
          "Computer",
          "Mobile",
          "Mobile",
          "Mobile",
          "Mobile",
          "Computer",
          "Computer",
          "Mobile",
          "Mobile",
          "Mobile",
          "Mobile",
          "Mobile",
          "Mobile",
          "Mobile",
          "Mobile",
          "Tab",
          "Mobile",
          "Mobile",
          "Mobile",
          "Mobile",
          "Mobile",
          "Mobile",
          "Mobile",
          "Mobile",
          "Mobile",
          "Computer",
          "Mobile",
          "Mobile",
          "Mobile",
          "Mobile",
          "Mobile",
          "Mobile",
          "Computer",
          "Mobile",
          "Mobile",
          "Mobile",
          "Mobile",
          "Mobile",
          "Computer",
          "Mobile",
          "Mobile",
          "Mobile",
          "Mobile",
          "Mobile",
          "Mobile",
          "Mobile",
          "Mobile",
          "Mobile",
          "Mobile",
          "Mobile",
          "Mobile",
          "Mobile",
          "Mobile",
          "Mobile",
          "Mobile",
          "Mobile",
          "Mobile",
          "Mobile",
          "Mobile",
          "Mobile",
          "Mobile",
          "Mobile",
          "Mobile",
          "Mobile",
          "Mobile",
          "Mobile",
          "Mobile",
          "Computer",
          "Mobile",
          "Mobile",
          "Mobile",
          "Mobile",
          "Mobile",
          "Mobile",
          "Mobile",
          "Mobile",
          "Mobile",
          "Mobile",
          "Mobile",
          "Mobile",
          "Mobile",
          "Computer",
          "Mobile",
          "Mobile",
          "Mobile",
          "Mobile",
          "Computer",
          "Mobile",
          "Mobile",
          "Computer",
          "Mobile",
          "Mobile",
          "Mobile",
          "Computer",
          "Mobile",
          "Mobile",
          "Mobile",
          "Mobile",
          "Mobile",
          "Mobile",
          "Mobile",
          "Mobile",
          "Computer",
          "Computer",
          "Mobile",
          "Computer",
          "Mobile",
          "Mobile",
          "Mobile",
          "Mobile",
          "Computer",
          "Mobile",
          "Mobile",
          "Mobile",
          "Mobile",
          "Mobile",
          "Mobile",
          "Mobile",
          "Computer",
          "Mobile",
          "Mobile",
          "Mobile",
          "Mobile",
          "Mobile",
          "Mobile",
          "Mobile",
          "Mobile",
          "Mobile",
          "Mobile",
          "Mobile",
          "Mobile",
          "Mobile",
          "Mobile",
          "Mobile",
          "Mobile",
          "Mobile",
          "Mobile",
          "Mobile",
          "Mobile",
          "Mobile",
          "Mobile",
          "Mobile",
          "Mobile",
          "Mobile",
          "Mobile",
          "Mobile",
          "Computer",
          "Mobile",
          "Mobile",
          "Mobile",
          "Computer",
          "Mobile",
          "Mobile",
          "Tab",
          "Mobile",
          "Mobile",
          "Mobile",
          "Mobile",
          "Mobile",
          "Mobile",
          "Mobile",
          "Mobile",
          "Mobile",
          "Mobile",
          "Mobile",
          "Mobile",
          "Mobile",
          "Mobile",
          "Mobile",
          "Computer",
          "Mobile",
          "Mobile",
          "Mobile",
          "Mobile",
          "Mobile",
          "Computer",
          "Mobile",
          "Computer",
          "Mobile",
          "Mobile",
          "Mobile",
          "Mobile",
          "Mobile",
          "Mobile",
          "Computer",
          "Tab",
          "Mobile",
          "Mobile",
          "Mobile",
          "Mobile",
          "Mobile",
          "Mobile",
          "Mobile",
          "Computer",
          "Mobile",
          "Mobile",
          "Computer",
          "Mobile",
          "Computer",
          "Mobile",
          "Mobile",
          "Mobile",
          "Computer",
          "Mobile",
          "Mobile",
          "Mobile",
          "Mobile",
          "Mobile",
          "Mobile",
          "Mobile",
          "Mobile",
          "Mobile",
          "Computer",
          "Computer",
          "Mobile",
          "Computer",
          "Mobile",
          "Mobile",
          "Mobile",
          "Mobile",
          "Mobile",
          "Tab",
          "Computer",
          "Computer",
          "Mobile",
          "Mobile",
          "Mobile",
          "Mobile",
          "Mobile",
          "Mobile",
          "Mobile",
          "Mobile",
          "Mobile",
          "Mobile",
          "Mobile",
          "Mobile",
          "Tab",
          "Mobile",
          "Mobile",
          "Computer",
          "Computer",
          "Computer",
          "Mobile",
          "Mobile",
          "Mobile",
          "Mobile",
          "Mobile",
          "Computer",
          "Mobile",
          "Mobile",
          "Mobile",
          "Mobile",
          "Mobile",
          "Mobile",
          "Mobile",
          "Mobile",
          "Computer",
          "Mobile",
          "Mobile",
          "Tab",
          "Mobile",
          "Mobile",
          "Mobile",
          "Mobile",
          "Mobile",
          "Mobile",
          "Mobile",
          "Mobile",
          "Mobile",
          "Mobile",
          "Mobile",
          "Mobile",
          "Mobile",
          "Mobile",
          "Mobile",
          "Mobile",
          "Mobile",
          "Mobile",
          "Mobile",
          "Mobile",
          "Mobile",
          "Mobile",
          "Mobile",
          "Mobile",
          "Tab",
          "Mobile",
          "Mobile",
          "Mobile",
          "Mobile",
          "Mobile",
          "Mobile",
          "Mobile",
          "Mobile",
          "Tab",
          "Mobile",
          "Mobile",
          "Mobile",
          "Computer",
          "Mobile",
          "Mobile",
          "Mobile",
          "Computer",
          "Mobile",
          "Computer",
          "Computer",
          "Mobile",
          "Mobile",
          "Mobile",
          "Computer",
          "Mobile",
          "Mobile",
          "Computer",
          "Computer",
          "Computer",
          "Mobile",
          "Mobile",
          "Mobile",
          "Mobile",
          "Mobile",
          "Mobile",
          "Mobile",
          "Mobile",
          "Mobile",
          "Mobile",
          "Computer",
          "Mobile",
          "Mobile",
          "Mobile",
          "Mobile",
          "Mobile",
          "Mobile",
          "Computer",
          "Mobile",
          "Mobile",
          "Mobile",
          "Computer",
          "Mobile",
          "Mobile",
          "Mobile",
          "Mobile",
          "Mobile",
          "Mobile",
          "Mobile",
          "Mobile",
          "Mobile",
          "Mobile",
          "Computer",
          "Mobile",
          "Tab",
          "Tab",
          "Mobile",
          "Mobile",
          "Mobile",
          "Mobile",
          "Mobile",
          "Mobile",
          "Mobile",
          "Computer",
          "Mobile",
          "Mobile",
          "Mobile",
          "Mobile",
          "Mobile",
          "Mobile",
          "Computer",
          "Mobile",
          "Mobile",
          "Mobile",
          "Mobile",
          "Mobile",
          "Mobile",
          "Mobile",
          "Tab",
          "Mobile",
          "Tab",
          "Computer",
          "Mobile",
          "Mobile",
          "Mobile",
          "Mobile",
          "Mobile",
          "Mobile",
          "Mobile",
          "Mobile",
          "Mobile",
          "Mobile",
          "Mobile",
          "Mobile",
          "Mobile",
          "Mobile",
          "Mobile",
          "Mobile",
          "Mobile",
          "Mobile",
          "Mobile",
          "Mobile",
          "Mobile",
          "Mobile",
          "Mobile",
          "Mobile",
          "Mobile",
          "Mobile",
          "Mobile",
          "Mobile",
          "Computer",
          "Mobile",
          "Computer",
          "Mobile",
          "Mobile",
          "Mobile",
          "Mobile",
          "Mobile",
          "Mobile",
          "Mobile",
          "Mobile",
          "Mobile",
          "Mobile",
          "Mobile",
          "Mobile",
          "Computer",
          "Mobile",
          "Mobile",
          "Mobile",
          "Computer",
          "Mobile",
          "Mobile",
          "Mobile",
          "Mobile",
          "Mobile",
          "Mobile",
          "Mobile",
          "Mobile",
          "Mobile",
          "Tab",
          "Computer",
          "Mobile",
          "Mobile",
          "Computer",
          "Mobile",
          "Computer",
          "Mobile",
          "Mobile",
          "Mobile",
          "Mobile",
          "Mobile",
          "Mobile",
          "Mobile",
          "Computer",
          "Mobile",
          "Mobile",
          "Mobile",
          "Mobile",
          "Mobile",
          "Mobile",
          "Tab",
          "Mobile",
          "Mobile",
          "Mobile",
          "Computer",
          "Tab",
          "Mobile",
          "Mobile",
          "Mobile",
          "Mobile",
          "Mobile",
          "Mobile",
          "Mobile",
          "Mobile",
          "Mobile",
          "Tab",
          "Mobile",
          "Computer",
          "Mobile",
          "Mobile",
          "Computer",
          "Computer",
          "Computer",
          "Mobile",
          "Computer",
          "Mobile",
          "Mobile",
          "Mobile",
          "Mobile",
          "Computer",
          "Mobile",
          "Mobile",
          "Mobile",
          "Mobile",
          "Computer",
          "Mobile",
          "Mobile",
          "Mobile",
          "Mobile",
          "Mobile",
          "Mobile",
          "Mobile",
          "Mobile",
          "Mobile",
          "Mobile",
          "Mobile",
          "Mobile",
          "Mobile",
          "Mobile",
          "Mobile",
          "Mobile",
          "Mobile",
          "Mobile",
          "Mobile",
          "Computer",
          "Mobile",
          "Mobile",
          "Mobile",
          "Mobile",
          "Mobile",
          "Mobile",
          "Mobile",
          "Mobile",
          "Mobile",
          "Mobile",
          "Mobile",
          "Mobile",
          "Mobile",
          "Mobile",
          "Mobile",
          "Mobile",
          "Mobile",
          "Mobile",
          "Mobile",
          "Mobile",
          "Mobile",
          "Mobile",
          "Mobile",
          "Mobile",
          "Mobile",
          "Mobile",
          "Mobile",
          "Tab",
          "Computer",
          "Mobile",
          "Computer",
          "Mobile",
          "Mobile",
          "Mobile",
          "Mobile",
          "Mobile",
          "Mobile",
          "Mobile",
          "Mobile",
          "Computer",
          "Computer",
          "Mobile",
          "Mobile",
          "Mobile",
          "Mobile",
          "Mobile",
          "Mobile",
          "Mobile",
          "Mobile",
          "Tab",
          "Computer",
          "Mobile",
          "Mobile",
          "Mobile",
          "Mobile",
          "Mobile",
          "Mobile",
          "Mobile",
          "Computer",
          "Mobile",
          "Mobile",
          "Computer",
          "Mobile",
          "Mobile",
          "Mobile",
          "Mobile",
          "Mobile",
          "Mobile",
          "Mobile",
          "Mobile",
          "Computer",
          "Mobile",
          "Computer",
          "Mobile",
          "Mobile",
          "Mobile",
          "Mobile",
          "Mobile",
          "Mobile",
          "Mobile",
          "Computer",
          "Mobile",
          "Mobile",
          "Mobile",
          "Mobile",
          "Mobile",
          "Computer",
          "Mobile",
          "Mobile",
          "Mobile",
          "Mobile",
          "Mobile",
          "Mobile",
          "Mobile",
          "Mobile",
          "Mobile",
          "Mobile",
          "Computer",
          "Mobile",
          "Computer",
          "Mobile",
          "Computer",
          "Mobile",
          "Computer",
          "Mobile",
          "Mobile",
          "Mobile",
          "Mobile",
          "Mobile"
         ],
         "xaxis": "x",
         "yaxis": "y"
        }
       ],
       "layout": {
        "barmode": "relative",
        "legend": {
         "tracegroupgap": 0
        },
        "template": {
         "data": {
          "bar": [
           {
            "error_x": {
             "color": "#2a3f5f"
            },
            "error_y": {
             "color": "#2a3f5f"
            },
            "marker": {
             "line": {
              "color": "#E5ECF6",
              "width": 0.5
             },
             "pattern": {
              "fillmode": "overlay",
              "size": 10,
              "solidity": 0.2
             }
            },
            "type": "bar"
           }
          ],
          "barpolar": [
           {
            "marker": {
             "line": {
              "color": "#E5ECF6",
              "width": 0.5
             },
             "pattern": {
              "fillmode": "overlay",
              "size": 10,
              "solidity": 0.2
             }
            },
            "type": "barpolar"
           }
          ],
          "carpet": [
           {
            "aaxis": {
             "endlinecolor": "#2a3f5f",
             "gridcolor": "white",
             "linecolor": "white",
             "minorgridcolor": "white",
             "startlinecolor": "#2a3f5f"
            },
            "baxis": {
             "endlinecolor": "#2a3f5f",
             "gridcolor": "white",
             "linecolor": "white",
             "minorgridcolor": "white",
             "startlinecolor": "#2a3f5f"
            },
            "type": "carpet"
           }
          ],
          "choropleth": [
           {
            "colorbar": {
             "outlinewidth": 0,
             "ticks": ""
            },
            "type": "choropleth"
           }
          ],
          "contour": [
           {
            "colorbar": {
             "outlinewidth": 0,
             "ticks": ""
            },
            "colorscale": [
             [
              0,
              "#0d0887"
             ],
             [
              0.1111111111111111,
              "#46039f"
             ],
             [
              0.2222222222222222,
              "#7201a8"
             ],
             [
              0.3333333333333333,
              "#9c179e"
             ],
             [
              0.4444444444444444,
              "#bd3786"
             ],
             [
              0.5555555555555556,
              "#d8576b"
             ],
             [
              0.6666666666666666,
              "#ed7953"
             ],
             [
              0.7777777777777778,
              "#fb9f3a"
             ],
             [
              0.8888888888888888,
              "#fdca26"
             ],
             [
              1,
              "#f0f921"
             ]
            ],
            "type": "contour"
           }
          ],
          "contourcarpet": [
           {
            "colorbar": {
             "outlinewidth": 0,
             "ticks": ""
            },
            "type": "contourcarpet"
           }
          ],
          "heatmap": [
           {
            "colorbar": {
             "outlinewidth": 0,
             "ticks": ""
            },
            "colorscale": [
             [
              0,
              "#0d0887"
             ],
             [
              0.1111111111111111,
              "#46039f"
             ],
             [
              0.2222222222222222,
              "#7201a8"
             ],
             [
              0.3333333333333333,
              "#9c179e"
             ],
             [
              0.4444444444444444,
              "#bd3786"
             ],
             [
              0.5555555555555556,
              "#d8576b"
             ],
             [
              0.6666666666666666,
              "#ed7953"
             ],
             [
              0.7777777777777778,
              "#fb9f3a"
             ],
             [
              0.8888888888888888,
              "#fdca26"
             ],
             [
              1,
              "#f0f921"
             ]
            ],
            "type": "heatmap"
           }
          ],
          "heatmapgl": [
           {
            "colorbar": {
             "outlinewidth": 0,
             "ticks": ""
            },
            "colorscale": [
             [
              0,
              "#0d0887"
             ],
             [
              0.1111111111111111,
              "#46039f"
             ],
             [
              0.2222222222222222,
              "#7201a8"
             ],
             [
              0.3333333333333333,
              "#9c179e"
             ],
             [
              0.4444444444444444,
              "#bd3786"
             ],
             [
              0.5555555555555556,
              "#d8576b"
             ],
             [
              0.6666666666666666,
              "#ed7953"
             ],
             [
              0.7777777777777778,
              "#fb9f3a"
             ],
             [
              0.8888888888888888,
              "#fdca26"
             ],
             [
              1,
              "#f0f921"
             ]
            ],
            "type": "heatmapgl"
           }
          ],
          "histogram": [
           {
            "marker": {
             "pattern": {
              "fillmode": "overlay",
              "size": 10,
              "solidity": 0.2
             }
            },
            "type": "histogram"
           }
          ],
          "histogram2d": [
           {
            "colorbar": {
             "outlinewidth": 0,
             "ticks": ""
            },
            "colorscale": [
             [
              0,
              "#0d0887"
             ],
             [
              0.1111111111111111,
              "#46039f"
             ],
             [
              0.2222222222222222,
              "#7201a8"
             ],
             [
              0.3333333333333333,
              "#9c179e"
             ],
             [
              0.4444444444444444,
              "#bd3786"
             ],
             [
              0.5555555555555556,
              "#d8576b"
             ],
             [
              0.6666666666666666,
              "#ed7953"
             ],
             [
              0.7777777777777778,
              "#fb9f3a"
             ],
             [
              0.8888888888888888,
              "#fdca26"
             ],
             [
              1,
              "#f0f921"
             ]
            ],
            "type": "histogram2d"
           }
          ],
          "histogram2dcontour": [
           {
            "colorbar": {
             "outlinewidth": 0,
             "ticks": ""
            },
            "colorscale": [
             [
              0,
              "#0d0887"
             ],
             [
              0.1111111111111111,
              "#46039f"
             ],
             [
              0.2222222222222222,
              "#7201a8"
             ],
             [
              0.3333333333333333,
              "#9c179e"
             ],
             [
              0.4444444444444444,
              "#bd3786"
             ],
             [
              0.5555555555555556,
              "#d8576b"
             ],
             [
              0.6666666666666666,
              "#ed7953"
             ],
             [
              0.7777777777777778,
              "#fb9f3a"
             ],
             [
              0.8888888888888888,
              "#fdca26"
             ],
             [
              1,
              "#f0f921"
             ]
            ],
            "type": "histogram2dcontour"
           }
          ],
          "mesh3d": [
           {
            "colorbar": {
             "outlinewidth": 0,
             "ticks": ""
            },
            "type": "mesh3d"
           }
          ],
          "parcoords": [
           {
            "line": {
             "colorbar": {
              "outlinewidth": 0,
              "ticks": ""
             }
            },
            "type": "parcoords"
           }
          ],
          "pie": [
           {
            "automargin": true,
            "type": "pie"
           }
          ],
          "scatter": [
           {
            "fillpattern": {
             "fillmode": "overlay",
             "size": 10,
             "solidity": 0.2
            },
            "type": "scatter"
           }
          ],
          "scatter3d": [
           {
            "line": {
             "colorbar": {
              "outlinewidth": 0,
              "ticks": ""
             }
            },
            "marker": {
             "colorbar": {
              "outlinewidth": 0,
              "ticks": ""
             }
            },
            "type": "scatter3d"
           }
          ],
          "scattercarpet": [
           {
            "marker": {
             "colorbar": {
              "outlinewidth": 0,
              "ticks": ""
             }
            },
            "type": "scattercarpet"
           }
          ],
          "scattergeo": [
           {
            "marker": {
             "colorbar": {
              "outlinewidth": 0,
              "ticks": ""
             }
            },
            "type": "scattergeo"
           }
          ],
          "scattergl": [
           {
            "marker": {
             "colorbar": {
              "outlinewidth": 0,
              "ticks": ""
             }
            },
            "type": "scattergl"
           }
          ],
          "scattermapbox": [
           {
            "marker": {
             "colorbar": {
              "outlinewidth": 0,
              "ticks": ""
             }
            },
            "type": "scattermapbox"
           }
          ],
          "scatterpolar": [
           {
            "marker": {
             "colorbar": {
              "outlinewidth": 0,
              "ticks": ""
             }
            },
            "type": "scatterpolar"
           }
          ],
          "scatterpolargl": [
           {
            "marker": {
             "colorbar": {
              "outlinewidth": 0,
              "ticks": ""
             }
            },
            "type": "scatterpolargl"
           }
          ],
          "scatterternary": [
           {
            "marker": {
             "colorbar": {
              "outlinewidth": 0,
              "ticks": ""
             }
            },
            "type": "scatterternary"
           }
          ],
          "surface": [
           {
            "colorbar": {
             "outlinewidth": 0,
             "ticks": ""
            },
            "colorscale": [
             [
              0,
              "#0d0887"
             ],
             [
              0.1111111111111111,
              "#46039f"
             ],
             [
              0.2222222222222222,
              "#7201a8"
             ],
             [
              0.3333333333333333,
              "#9c179e"
             ],
             [
              0.4444444444444444,
              "#bd3786"
             ],
             [
              0.5555555555555556,
              "#d8576b"
             ],
             [
              0.6666666666666666,
              "#ed7953"
             ],
             [
              0.7777777777777778,
              "#fb9f3a"
             ],
             [
              0.8888888888888888,
              "#fdca26"
             ],
             [
              1,
              "#f0f921"
             ]
            ],
            "type": "surface"
           }
          ],
          "table": [
           {
            "cells": {
             "fill": {
              "color": "#EBF0F8"
             },
             "line": {
              "color": "white"
             }
            },
            "header": {
             "fill": {
              "color": "#C8D4E3"
             },
             "line": {
              "color": "white"
             }
            },
            "type": "table"
           }
          ]
         },
         "layout": {
          "annotationdefaults": {
           "arrowcolor": "#2a3f5f",
           "arrowhead": 0,
           "arrowwidth": 1
          },
          "autotypenumbers": "strict",
          "coloraxis": {
           "colorbar": {
            "outlinewidth": 0,
            "ticks": ""
           }
          },
          "colorscale": {
           "diverging": [
            [
             0,
             "#8e0152"
            ],
            [
             0.1,
             "#c51b7d"
            ],
            [
             0.2,
             "#de77ae"
            ],
            [
             0.3,
             "#f1b6da"
            ],
            [
             0.4,
             "#fde0ef"
            ],
            [
             0.5,
             "#f7f7f7"
            ],
            [
             0.6,
             "#e6f5d0"
            ],
            [
             0.7,
             "#b8e186"
            ],
            [
             0.8,
             "#7fbc41"
            ],
            [
             0.9,
             "#4d9221"
            ],
            [
             1,
             "#276419"
            ]
           ],
           "sequential": [
            [
             0,
             "#0d0887"
            ],
            [
             0.1111111111111111,
             "#46039f"
            ],
            [
             0.2222222222222222,
             "#7201a8"
            ],
            [
             0.3333333333333333,
             "#9c179e"
            ],
            [
             0.4444444444444444,
             "#bd3786"
            ],
            [
             0.5555555555555556,
             "#d8576b"
            ],
            [
             0.6666666666666666,
             "#ed7953"
            ],
            [
             0.7777777777777778,
             "#fb9f3a"
            ],
            [
             0.8888888888888888,
             "#fdca26"
            ],
            [
             1,
             "#f0f921"
            ]
           ],
           "sequentialminus": [
            [
             0,
             "#0d0887"
            ],
            [
             0.1111111111111111,
             "#46039f"
            ],
            [
             0.2222222222222222,
             "#7201a8"
            ],
            [
             0.3333333333333333,
             "#9c179e"
            ],
            [
             0.4444444444444444,
             "#bd3786"
            ],
            [
             0.5555555555555556,
             "#d8576b"
            ],
            [
             0.6666666666666666,
             "#ed7953"
            ],
            [
             0.7777777777777778,
             "#fb9f3a"
            ],
            [
             0.8888888888888888,
             "#fdca26"
            ],
            [
             1,
             "#f0f921"
            ]
           ]
          },
          "colorway": [
           "#636efa",
           "#EF553B",
           "#00cc96",
           "#ab63fa",
           "#FFA15A",
           "#19d3f3",
           "#FF6692",
           "#B6E880",
           "#FF97FF",
           "#FECB52"
          ],
          "font": {
           "color": "#2a3f5f"
          },
          "geo": {
           "bgcolor": "white",
           "lakecolor": "white",
           "landcolor": "#E5ECF6",
           "showlakes": true,
           "showland": true,
           "subunitcolor": "white"
          },
          "hoverlabel": {
           "align": "left"
          },
          "hovermode": "closest",
          "mapbox": {
           "style": "light"
          },
          "paper_bgcolor": "white",
          "plot_bgcolor": "#E5ECF6",
          "polar": {
           "angularaxis": {
            "gridcolor": "white",
            "linecolor": "white",
            "ticks": ""
           },
           "bgcolor": "#E5ECF6",
           "radialaxis": {
            "gridcolor": "white",
            "linecolor": "white",
            "ticks": ""
           }
          },
          "scene": {
           "xaxis": {
            "backgroundcolor": "#E5ECF6",
            "gridcolor": "white",
            "gridwidth": 2,
            "linecolor": "white",
            "showbackground": true,
            "ticks": "",
            "zerolinecolor": "white"
           },
           "yaxis": {
            "backgroundcolor": "#E5ECF6",
            "gridcolor": "white",
            "gridwidth": 2,
            "linecolor": "white",
            "showbackground": true,
            "ticks": "",
            "zerolinecolor": "white"
           },
           "zaxis": {
            "backgroundcolor": "#E5ECF6",
            "gridcolor": "white",
            "gridwidth": 2,
            "linecolor": "white",
            "showbackground": true,
            "ticks": "",
            "zerolinecolor": "white"
           }
          },
          "shapedefaults": {
           "line": {
            "color": "#2a3f5f"
           }
          },
          "ternary": {
           "aaxis": {
            "gridcolor": "white",
            "linecolor": "white",
            "ticks": ""
           },
           "baxis": {
            "gridcolor": "white",
            "linecolor": "white",
            "ticks": ""
           },
           "bgcolor": "#E5ECF6",
           "caxis": {
            "gridcolor": "white",
            "linecolor": "white",
            "ticks": ""
           }
          },
          "title": {
           "x": 0.05
          },
          "xaxis": {
           "automargin": true,
           "gridcolor": "white",
           "linecolor": "white",
           "ticks": "",
           "title": {
            "standoff": 15
           },
           "zerolinecolor": "white",
           "zerolinewidth": 2
          },
          "yaxis": {
           "automargin": true,
           "gridcolor": "white",
           "linecolor": "white",
           "ticks": "",
           "title": {
            "standoff": 15
           },
           "zerolinecolor": "white",
           "zerolinewidth": 2
          }
         }
        },
        "title": {
         "text": "Internet Type Distribution"
        },
        "xaxis": {
         "anchor": "y",
         "domain": [
          0,
          1
         ],
         "title": {
          "text": "Device"
         }
        },
        "yaxis": {
         "anchor": "x",
         "domain": [
          0,
          1
         ],
         "title": {
          "text": "count"
         }
        }
       }
      }
     },
     "metadata": {},
     "output_type": "display_data"
    }
   ],
   "source": [
    "# Visualize the type of devices the students have access to \n",
    "fig = px.histogram(df, x='Device', title=\"Internet Type Distribution\")\n",
    "fig.show()"
   ]
  },
  {
   "cell_type": "markdown",
   "metadata": {},
   "source": [
    "### Data processing"
   ]
  },
  {
   "cell_type": "code",
   "execution_count": 11,
   "metadata": {},
   "outputs": [
    {
     "data": {
      "text/plain": [
       "Gender                 object\n",
       "Age                    object\n",
       "Education Level        object\n",
       "Institution Type       object\n",
       "IT Student             object\n",
       "Location               object\n",
       "Load-shedding          object\n",
       "Financial Condition    object\n",
       "Internet Type          object\n",
       "Network Type           object\n",
       "Class Duration         object\n",
       "Self Lms               object\n",
       "Device                 object\n",
       "Adaptivity Level       object\n",
       "dtype: object"
      ]
     },
     "execution_count": 11,
     "metadata": {},
     "output_type": "execute_result"
    }
   ],
   "source": [
    "# Types of data present in the dataframe\n",
    "df = pd.read_csv('students_adaptability_data.csv')\n",
    "df.dtypes"
   ]
  },
  {
   "cell_type": "code",
   "execution_count": 12,
   "metadata": {},
   "outputs": [],
   "source": [
    "# Divide the data into features and target\n",
    "features = df.drop(columns= 'Adaptivity Level', axis=1)\n",
    "target = df[['Adaptivity Level']]"
   ]
  },
  {
   "cell_type": "code",
   "execution_count": 13,
   "metadata": {},
   "outputs": [
    {
     "data": {
      "text/html": [
       "<div>\n",
       "<style scoped>\n",
       "    .dataframe tbody tr th:only-of-type {\n",
       "        vertical-align: middle;\n",
       "    }\n",
       "\n",
       "    .dataframe tbody tr th {\n",
       "        vertical-align: top;\n",
       "    }\n",
       "\n",
       "    .dataframe thead th {\n",
       "        text-align: right;\n",
       "    }\n",
       "</style>\n",
       "<table border=\"1\" class=\"dataframe\">\n",
       "  <thead>\n",
       "    <tr style=\"text-align: right;\">\n",
       "      <th></th>\n",
       "      <th>Gender</th>\n",
       "      <th>Age</th>\n",
       "      <th>Education Level</th>\n",
       "      <th>Institution Type</th>\n",
       "      <th>IT Student</th>\n",
       "      <th>Location</th>\n",
       "      <th>Load-shedding</th>\n",
       "      <th>Financial Condition</th>\n",
       "      <th>Internet Type</th>\n",
       "      <th>Network Type</th>\n",
       "      <th>Class Duration</th>\n",
       "      <th>Self Lms</th>\n",
       "      <th>Device</th>\n",
       "    </tr>\n",
       "  </thead>\n",
       "  <tbody>\n",
       "    <tr>\n",
       "      <th>0</th>\n",
       "      <td>Boy</td>\n",
       "      <td>21-25</td>\n",
       "      <td>University</td>\n",
       "      <td>Non Government</td>\n",
       "      <td>No</td>\n",
       "      <td>Yes</td>\n",
       "      <td>Low</td>\n",
       "      <td>Mid</td>\n",
       "      <td>Wifi</td>\n",
       "      <td>4G</td>\n",
       "      <td>3-6</td>\n",
       "      <td>No</td>\n",
       "      <td>Tab</td>\n",
       "    </tr>\n",
       "    <tr>\n",
       "      <th>1</th>\n",
       "      <td>Girl</td>\n",
       "      <td>21-25</td>\n",
       "      <td>University</td>\n",
       "      <td>Non Government</td>\n",
       "      <td>No</td>\n",
       "      <td>Yes</td>\n",
       "      <td>High</td>\n",
       "      <td>Mid</td>\n",
       "      <td>Mobile Data</td>\n",
       "      <td>4G</td>\n",
       "      <td>1-3</td>\n",
       "      <td>Yes</td>\n",
       "      <td>Mobile</td>\n",
       "    </tr>\n",
       "    <tr>\n",
       "      <th>2</th>\n",
       "      <td>Girl</td>\n",
       "      <td>16-20</td>\n",
       "      <td>College</td>\n",
       "      <td>Government</td>\n",
       "      <td>No</td>\n",
       "      <td>Yes</td>\n",
       "      <td>Low</td>\n",
       "      <td>Mid</td>\n",
       "      <td>Wifi</td>\n",
       "      <td>4G</td>\n",
       "      <td>1-3</td>\n",
       "      <td>No</td>\n",
       "      <td>Mobile</td>\n",
       "    </tr>\n",
       "  </tbody>\n",
       "</table>\n",
       "</div>"
      ],
      "text/plain": [
       "  Gender    Age Education Level Institution Type IT Student Location  \\\n",
       "0    Boy  21-25      University   Non Government         No      Yes   \n",
       "1   Girl  21-25      University   Non Government         No      Yes   \n",
       "2   Girl  16-20         College       Government         No      Yes   \n",
       "\n",
       "  Load-shedding Financial Condition Internet Type Network Type Class Duration  \\\n",
       "0           Low                 Mid          Wifi           4G            3-6   \n",
       "1          High                 Mid   Mobile Data           4G            1-3   \n",
       "2           Low                 Mid          Wifi           4G            1-3   \n",
       "\n",
       "  Self Lms  Device  \n",
       "0       No     Tab  \n",
       "1      Yes  Mobile  \n",
       "2       No  Mobile  "
      ]
     },
     "execution_count": 13,
     "metadata": {},
     "output_type": "execute_result"
    }
   ],
   "source": [
    "# Show features\n",
    "features.head(3)"
   ]
  },
  {
   "cell_type": "code",
   "execution_count": 14,
   "metadata": {},
   "outputs": [
    {
     "data": {
      "text/html": [
       "<div>\n",
       "<style scoped>\n",
       "    .dataframe tbody tr th:only-of-type {\n",
       "        vertical-align: middle;\n",
       "    }\n",
       "\n",
       "    .dataframe tbody tr th {\n",
       "        vertical-align: top;\n",
       "    }\n",
       "\n",
       "    .dataframe thead th {\n",
       "        text-align: right;\n",
       "    }\n",
       "</style>\n",
       "<table border=\"1\" class=\"dataframe\">\n",
       "  <thead>\n",
       "    <tr style=\"text-align: right;\">\n",
       "      <th></th>\n",
       "      <th>Adaptivity Level</th>\n",
       "    </tr>\n",
       "  </thead>\n",
       "  <tbody>\n",
       "    <tr>\n",
       "      <th>1202</th>\n",
       "      <td>Moderate</td>\n",
       "    </tr>\n",
       "    <tr>\n",
       "      <th>1203</th>\n",
       "      <td>Low</td>\n",
       "    </tr>\n",
       "    <tr>\n",
       "      <th>1204</th>\n",
       "      <td>Moderate</td>\n",
       "    </tr>\n",
       "  </tbody>\n",
       "</table>\n",
       "</div>"
      ],
      "text/plain": [
       "     Adaptivity Level\n",
       "1202         Moderate\n",
       "1203              Low\n",
       "1204         Moderate"
      ]
     },
     "execution_count": 14,
     "metadata": {},
     "output_type": "execute_result"
    }
   ],
   "source": [
    "# Show target\n",
    "target.tail(3)"
   ]
  },
  {
   "cell_type": "code",
   "execution_count": 15,
   "metadata": {},
   "outputs": [
    {
     "name": "stdout",
     "output_type": "stream",
     "text": [
      "Encoded Features [[1. 0. 0. 0. 0. 1. 0. 0. 0. 0. 1. 0. 1. 1. 0. 0. 1. 0. 1. 1. 0. 0. 0. 1.\n",
      "  0. 0. 1. 0. 0. 1. 1. 0. 0. 0. 1.]\n",
      " [0. 1. 0. 0. 0. 1. 0. 0. 0. 0. 1. 0. 1. 1. 0. 0. 1. 1. 0. 1. 0. 0. 1. 0.\n",
      "  0. 0. 1. 0. 1. 0. 0. 1. 0. 1. 0.]\n",
      " [0. 1. 0. 0. 1. 0. 0. 0. 1. 0. 0. 1. 0. 1. 0. 0. 1. 0. 1. 1. 0. 0. 0. 1.\n",
      "  0. 0. 1. 0. 1. 0. 1. 0. 0. 1. 0.]]\n",
      "\n",
      "Encoded Target [2 2 2]\n"
     ]
    },
    {
     "name": "stderr",
     "output_type": "stream",
     "text": [
      "c:\\Users\\Billy Ochieng\\anaconda3\\Lib\\site-packages\\sklearn\\preprocessing\\_label.py:114: DataConversionWarning:\n",
      "\n",
      "A column-vector y was passed when a 1d array was expected. Please change the shape of y to (n_samples, ), for example using ravel().\n",
      "\n"
     ]
    }
   ],
   "source": [
    "# One-hot encode the feature and Target data frames\n",
    "\n",
    "# create a One-hot encoder\n",
    "one_hot_1 = OneHotEncoder(sparse_output=False, handle_unknown='ignore')\n",
    "one_hot_2 = LabelEncoder()\n",
    "\n",
    "# Encode the data frames\n",
    "encoded_features = one_hot_1.fit_transform(features)\n",
    "encoded_target = one_hot_2.fit_transform(target)\n",
    "\n",
    "# Show encoded Features and Target\n",
    "print('Encoded Features', encoded_features[:3])\n",
    "print('\\nEncoded Target', encoded_target[:3])"
   ]
  },
  {
   "cell_type": "code",
   "execution_count": 16,
   "metadata": {},
   "outputs": [
    {
     "name": "stdout",
     "output_type": "stream",
     "text": [
      "Encoded Features:\n",
      " [array(['Boy', 'Girl'], dtype=object), array(['1-5', '11-15', '16-20', '21-25', '26-30', '6-10'], dtype=object), array(['College', 'School', 'University'], dtype=object), array(['Government', 'Non Government'], dtype=object), array(['No', 'Yes'], dtype=object), array(['No', 'Yes'], dtype=object), array(['High', 'Low'], dtype=object), array(['Mid', 'Poor', 'Rich'], dtype=object), array(['Mobile Data', 'Wifi'], dtype=object), array(['2G', '3G', '4G'], dtype=object), array(['0', '1-3', '3-6'], dtype=object), array(['No', 'Yes'], dtype=object), array(['Computer', 'Mobile', 'Tab'], dtype=object)]\n",
      "\n",
      "Encoded Target:\n",
      " ['High' 'Low' 'Moderate']\n"
     ]
    }
   ],
   "source": [
    "# View classes\n",
    "print('Encoded Features:\\n', one_hot_1.categories_)\n",
    "print('\\nEncoded Target:\\n', one_hot_2.classes_)"
   ]
  },
  {
   "cell_type": "code",
   "execution_count": 17,
   "metadata": {},
   "outputs": [],
   "source": [
    "# Divide the encoded datasets into training and testing datasets\n",
    "X_train, X_test, y_train, y_test = train_test_split(encoded_features, encoded_target, test_size=.1)"
   ]
  },
  {
   "cell_type": "code",
   "execution_count": 18,
   "metadata": {},
   "outputs": [
    {
     "name": "stdout",
     "output_type": "stream",
     "text": [
      "1084\n",
      "121\n",
      "1084\n",
      "121\n"
     ]
    }
   ],
   "source": [
    "# Show the length of the split data\n",
    "print(len(X_train))\n",
    "print(len(X_test))\n",
    "print(len(y_train))\n",
    "print(len(y_test))"
   ]
  },
  {
   "cell_type": "markdown",
   "metadata": {},
   "source": [
    "## Model Training\n",
    "### Model 1: Multiclass Classifier(Logistic Regression)"
   ]
  },
  {
   "cell_type": "code",
   "execution_count": 19,
   "metadata": {},
   "outputs": [
    {
     "name": "stderr",
     "output_type": "stream",
     "text": [
      "c:\\Users\\Billy Ochieng\\anaconda3\\Lib\\site-packages\\sklearn\\linear_model\\_logistic.py:1256: FutureWarning:\n",
      "\n",
      "'multi_class' was deprecated in version 1.5 and will be removed in 1.7. Use OneVsRestClassifier(LogisticRegression(..)) instead. Leave it to its default value to avoid this warning.\n",
      "\n"
     ]
    },
    {
     "data": {
      "text/html": [
       "<style>#sk-container-id-1 {\n",
       "  /* Definition of color scheme common for light and dark mode */\n",
       "  --sklearn-color-text: black;\n",
       "  --sklearn-color-line: gray;\n",
       "  /* Definition of color scheme for unfitted estimators */\n",
       "  --sklearn-color-unfitted-level-0: #fff5e6;\n",
       "  --sklearn-color-unfitted-level-1: #f6e4d2;\n",
       "  --sklearn-color-unfitted-level-2: #ffe0b3;\n",
       "  --sklearn-color-unfitted-level-3: chocolate;\n",
       "  /* Definition of color scheme for fitted estimators */\n",
       "  --sklearn-color-fitted-level-0: #f0f8ff;\n",
       "  --sklearn-color-fitted-level-1: #d4ebff;\n",
       "  --sklearn-color-fitted-level-2: #b3dbfd;\n",
       "  --sklearn-color-fitted-level-3: cornflowerblue;\n",
       "\n",
       "  /* Specific color for light theme */\n",
       "  --sklearn-color-text-on-default-background: var(--sg-text-color, var(--theme-code-foreground, var(--jp-content-font-color1, black)));\n",
       "  --sklearn-color-background: var(--sg-background-color, var(--theme-background, var(--jp-layout-color0, white)));\n",
       "  --sklearn-color-border-box: var(--sg-text-color, var(--theme-code-foreground, var(--jp-content-font-color1, black)));\n",
       "  --sklearn-color-icon: #696969;\n",
       "\n",
       "  @media (prefers-color-scheme: dark) {\n",
       "    /* Redefinition of color scheme for dark theme */\n",
       "    --sklearn-color-text-on-default-background: var(--sg-text-color, var(--theme-code-foreground, var(--jp-content-font-color1, white)));\n",
       "    --sklearn-color-background: var(--sg-background-color, var(--theme-background, var(--jp-layout-color0, #111)));\n",
       "    --sklearn-color-border-box: var(--sg-text-color, var(--theme-code-foreground, var(--jp-content-font-color1, white)));\n",
       "    --sklearn-color-icon: #878787;\n",
       "  }\n",
       "}\n",
       "\n",
       "#sk-container-id-1 {\n",
       "  color: var(--sklearn-color-text);\n",
       "}\n",
       "\n",
       "#sk-container-id-1 pre {\n",
       "  padding: 0;\n",
       "}\n",
       "\n",
       "#sk-container-id-1 input.sk-hidden--visually {\n",
       "  border: 0;\n",
       "  clip: rect(1px 1px 1px 1px);\n",
       "  clip: rect(1px, 1px, 1px, 1px);\n",
       "  height: 1px;\n",
       "  margin: -1px;\n",
       "  overflow: hidden;\n",
       "  padding: 0;\n",
       "  position: absolute;\n",
       "  width: 1px;\n",
       "}\n",
       "\n",
       "#sk-container-id-1 div.sk-dashed-wrapped {\n",
       "  border: 1px dashed var(--sklearn-color-line);\n",
       "  margin: 0 0.4em 0.5em 0.4em;\n",
       "  box-sizing: border-box;\n",
       "  padding-bottom: 0.4em;\n",
       "  background-color: var(--sklearn-color-background);\n",
       "}\n",
       "\n",
       "#sk-container-id-1 div.sk-container {\n",
       "  /* jupyter's `normalize.less` sets `[hidden] { display: none; }`\n",
       "     but bootstrap.min.css set `[hidden] { display: none !important; }`\n",
       "     so we also need the `!important` here to be able to override the\n",
       "     default hidden behavior on the sphinx rendered scikit-learn.org.\n",
       "     See: https://github.com/scikit-learn/scikit-learn/issues/21755 */\n",
       "  display: inline-block !important;\n",
       "  position: relative;\n",
       "}\n",
       "\n",
       "#sk-container-id-1 div.sk-text-repr-fallback {\n",
       "  display: none;\n",
       "}\n",
       "\n",
       "div.sk-parallel-item,\n",
       "div.sk-serial,\n",
       "div.sk-item {\n",
       "  /* draw centered vertical line to link estimators */\n",
       "  background-image: linear-gradient(var(--sklearn-color-text-on-default-background), var(--sklearn-color-text-on-default-background));\n",
       "  background-size: 2px 100%;\n",
       "  background-repeat: no-repeat;\n",
       "  background-position: center center;\n",
       "}\n",
       "\n",
       "/* Parallel-specific style estimator block */\n",
       "\n",
       "#sk-container-id-1 div.sk-parallel-item::after {\n",
       "  content: \"\";\n",
       "  width: 100%;\n",
       "  border-bottom: 2px solid var(--sklearn-color-text-on-default-background);\n",
       "  flex-grow: 1;\n",
       "}\n",
       "\n",
       "#sk-container-id-1 div.sk-parallel {\n",
       "  display: flex;\n",
       "  align-items: stretch;\n",
       "  justify-content: center;\n",
       "  background-color: var(--sklearn-color-background);\n",
       "  position: relative;\n",
       "}\n",
       "\n",
       "#sk-container-id-1 div.sk-parallel-item {\n",
       "  display: flex;\n",
       "  flex-direction: column;\n",
       "}\n",
       "\n",
       "#sk-container-id-1 div.sk-parallel-item:first-child::after {\n",
       "  align-self: flex-end;\n",
       "  width: 50%;\n",
       "}\n",
       "\n",
       "#sk-container-id-1 div.sk-parallel-item:last-child::after {\n",
       "  align-self: flex-start;\n",
       "  width: 50%;\n",
       "}\n",
       "\n",
       "#sk-container-id-1 div.sk-parallel-item:only-child::after {\n",
       "  width: 0;\n",
       "}\n",
       "\n",
       "/* Serial-specific style estimator block */\n",
       "\n",
       "#sk-container-id-1 div.sk-serial {\n",
       "  display: flex;\n",
       "  flex-direction: column;\n",
       "  align-items: center;\n",
       "  background-color: var(--sklearn-color-background);\n",
       "  padding-right: 1em;\n",
       "  padding-left: 1em;\n",
       "}\n",
       "\n",
       "\n",
       "/* Toggleable style: style used for estimator/Pipeline/ColumnTransformer box that is\n",
       "clickable and can be expanded/collapsed.\n",
       "- Pipeline and ColumnTransformer use this feature and define the default style\n",
       "- Estimators will overwrite some part of the style using the `sk-estimator` class\n",
       "*/\n",
       "\n",
       "/* Pipeline and ColumnTransformer style (default) */\n",
       "\n",
       "#sk-container-id-1 div.sk-toggleable {\n",
       "  /* Default theme specific background. It is overwritten whether we have a\n",
       "  specific estimator or a Pipeline/ColumnTransformer */\n",
       "  background-color: var(--sklearn-color-background);\n",
       "}\n",
       "\n",
       "/* Toggleable label */\n",
       "#sk-container-id-1 label.sk-toggleable__label {\n",
       "  cursor: pointer;\n",
       "  display: block;\n",
       "  width: 100%;\n",
       "  margin-bottom: 0;\n",
       "  padding: 0.5em;\n",
       "  box-sizing: border-box;\n",
       "  text-align: center;\n",
       "}\n",
       "\n",
       "#sk-container-id-1 label.sk-toggleable__label-arrow:before {\n",
       "  /* Arrow on the left of the label */\n",
       "  content: \"▸\";\n",
       "  float: left;\n",
       "  margin-right: 0.25em;\n",
       "  color: var(--sklearn-color-icon);\n",
       "}\n",
       "\n",
       "#sk-container-id-1 label.sk-toggleable__label-arrow:hover:before {\n",
       "  color: var(--sklearn-color-text);\n",
       "}\n",
       "\n",
       "/* Toggleable content - dropdown */\n",
       "\n",
       "#sk-container-id-1 div.sk-toggleable__content {\n",
       "  max-height: 0;\n",
       "  max-width: 0;\n",
       "  overflow: hidden;\n",
       "  text-align: left;\n",
       "  /* unfitted */\n",
       "  background-color: var(--sklearn-color-unfitted-level-0);\n",
       "}\n",
       "\n",
       "#sk-container-id-1 div.sk-toggleable__content.fitted {\n",
       "  /* fitted */\n",
       "  background-color: var(--sklearn-color-fitted-level-0);\n",
       "}\n",
       "\n",
       "#sk-container-id-1 div.sk-toggleable__content pre {\n",
       "  margin: 0.2em;\n",
       "  border-radius: 0.25em;\n",
       "  color: var(--sklearn-color-text);\n",
       "  /* unfitted */\n",
       "  background-color: var(--sklearn-color-unfitted-level-0);\n",
       "}\n",
       "\n",
       "#sk-container-id-1 div.sk-toggleable__content.fitted pre {\n",
       "  /* unfitted */\n",
       "  background-color: var(--sklearn-color-fitted-level-0);\n",
       "}\n",
       "\n",
       "#sk-container-id-1 input.sk-toggleable__control:checked~div.sk-toggleable__content {\n",
       "  /* Expand drop-down */\n",
       "  max-height: 200px;\n",
       "  max-width: 100%;\n",
       "  overflow: auto;\n",
       "}\n",
       "\n",
       "#sk-container-id-1 input.sk-toggleable__control:checked~label.sk-toggleable__label-arrow:before {\n",
       "  content: \"▾\";\n",
       "}\n",
       "\n",
       "/* Pipeline/ColumnTransformer-specific style */\n",
       "\n",
       "#sk-container-id-1 div.sk-label input.sk-toggleable__control:checked~label.sk-toggleable__label {\n",
       "  color: var(--sklearn-color-text);\n",
       "  background-color: var(--sklearn-color-unfitted-level-2);\n",
       "}\n",
       "\n",
       "#sk-container-id-1 div.sk-label.fitted input.sk-toggleable__control:checked~label.sk-toggleable__label {\n",
       "  background-color: var(--sklearn-color-fitted-level-2);\n",
       "}\n",
       "\n",
       "/* Estimator-specific style */\n",
       "\n",
       "/* Colorize estimator box */\n",
       "#sk-container-id-1 div.sk-estimator input.sk-toggleable__control:checked~label.sk-toggleable__label {\n",
       "  /* unfitted */\n",
       "  background-color: var(--sklearn-color-unfitted-level-2);\n",
       "}\n",
       "\n",
       "#sk-container-id-1 div.sk-estimator.fitted input.sk-toggleable__control:checked~label.sk-toggleable__label {\n",
       "  /* fitted */\n",
       "  background-color: var(--sklearn-color-fitted-level-2);\n",
       "}\n",
       "\n",
       "#sk-container-id-1 div.sk-label label.sk-toggleable__label,\n",
       "#sk-container-id-1 div.sk-label label {\n",
       "  /* The background is the default theme color */\n",
       "  color: var(--sklearn-color-text-on-default-background);\n",
       "}\n",
       "\n",
       "/* On hover, darken the color of the background */\n",
       "#sk-container-id-1 div.sk-label:hover label.sk-toggleable__label {\n",
       "  color: var(--sklearn-color-text);\n",
       "  background-color: var(--sklearn-color-unfitted-level-2);\n",
       "}\n",
       "\n",
       "/* Label box, darken color on hover, fitted */\n",
       "#sk-container-id-1 div.sk-label.fitted:hover label.sk-toggleable__label.fitted {\n",
       "  color: var(--sklearn-color-text);\n",
       "  background-color: var(--sklearn-color-fitted-level-2);\n",
       "}\n",
       "\n",
       "/* Estimator label */\n",
       "\n",
       "#sk-container-id-1 div.sk-label label {\n",
       "  font-family: monospace;\n",
       "  font-weight: bold;\n",
       "  display: inline-block;\n",
       "  line-height: 1.2em;\n",
       "}\n",
       "\n",
       "#sk-container-id-1 div.sk-label-container {\n",
       "  text-align: center;\n",
       "}\n",
       "\n",
       "/* Estimator-specific */\n",
       "#sk-container-id-1 div.sk-estimator {\n",
       "  font-family: monospace;\n",
       "  border: 1px dotted var(--sklearn-color-border-box);\n",
       "  border-radius: 0.25em;\n",
       "  box-sizing: border-box;\n",
       "  margin-bottom: 0.5em;\n",
       "  /* unfitted */\n",
       "  background-color: var(--sklearn-color-unfitted-level-0);\n",
       "}\n",
       "\n",
       "#sk-container-id-1 div.sk-estimator.fitted {\n",
       "  /* fitted */\n",
       "  background-color: var(--sklearn-color-fitted-level-0);\n",
       "}\n",
       "\n",
       "/* on hover */\n",
       "#sk-container-id-1 div.sk-estimator:hover {\n",
       "  /* unfitted */\n",
       "  background-color: var(--sklearn-color-unfitted-level-2);\n",
       "}\n",
       "\n",
       "#sk-container-id-1 div.sk-estimator.fitted:hover {\n",
       "  /* fitted */\n",
       "  background-color: var(--sklearn-color-fitted-level-2);\n",
       "}\n",
       "\n",
       "/* Specification for estimator info (e.g. \"i\" and \"?\") */\n",
       "\n",
       "/* Common style for \"i\" and \"?\" */\n",
       "\n",
       ".sk-estimator-doc-link,\n",
       "a:link.sk-estimator-doc-link,\n",
       "a:visited.sk-estimator-doc-link {\n",
       "  float: right;\n",
       "  font-size: smaller;\n",
       "  line-height: 1em;\n",
       "  font-family: monospace;\n",
       "  background-color: var(--sklearn-color-background);\n",
       "  border-radius: 1em;\n",
       "  height: 1em;\n",
       "  width: 1em;\n",
       "  text-decoration: none !important;\n",
       "  margin-left: 1ex;\n",
       "  /* unfitted */\n",
       "  border: var(--sklearn-color-unfitted-level-1) 1pt solid;\n",
       "  color: var(--sklearn-color-unfitted-level-1);\n",
       "}\n",
       "\n",
       ".sk-estimator-doc-link.fitted,\n",
       "a:link.sk-estimator-doc-link.fitted,\n",
       "a:visited.sk-estimator-doc-link.fitted {\n",
       "  /* fitted */\n",
       "  border: var(--sklearn-color-fitted-level-1) 1pt solid;\n",
       "  color: var(--sklearn-color-fitted-level-1);\n",
       "}\n",
       "\n",
       "/* On hover */\n",
       "div.sk-estimator:hover .sk-estimator-doc-link:hover,\n",
       ".sk-estimator-doc-link:hover,\n",
       "div.sk-label-container:hover .sk-estimator-doc-link:hover,\n",
       ".sk-estimator-doc-link:hover {\n",
       "  /* unfitted */\n",
       "  background-color: var(--sklearn-color-unfitted-level-3);\n",
       "  color: var(--sklearn-color-background);\n",
       "  text-decoration: none;\n",
       "}\n",
       "\n",
       "div.sk-estimator.fitted:hover .sk-estimator-doc-link.fitted:hover,\n",
       ".sk-estimator-doc-link.fitted:hover,\n",
       "div.sk-label-container:hover .sk-estimator-doc-link.fitted:hover,\n",
       ".sk-estimator-doc-link.fitted:hover {\n",
       "  /* fitted */\n",
       "  background-color: var(--sklearn-color-fitted-level-3);\n",
       "  color: var(--sklearn-color-background);\n",
       "  text-decoration: none;\n",
       "}\n",
       "\n",
       "/* Span, style for the box shown on hovering the info icon */\n",
       ".sk-estimator-doc-link span {\n",
       "  display: none;\n",
       "  z-index: 9999;\n",
       "  position: relative;\n",
       "  font-weight: normal;\n",
       "  right: .2ex;\n",
       "  padding: .5ex;\n",
       "  margin: .5ex;\n",
       "  width: min-content;\n",
       "  min-width: 20ex;\n",
       "  max-width: 50ex;\n",
       "  color: var(--sklearn-color-text);\n",
       "  box-shadow: 2pt 2pt 4pt #999;\n",
       "  /* unfitted */\n",
       "  background: var(--sklearn-color-unfitted-level-0);\n",
       "  border: .5pt solid var(--sklearn-color-unfitted-level-3);\n",
       "}\n",
       "\n",
       ".sk-estimator-doc-link.fitted span {\n",
       "  /* fitted */\n",
       "  background: var(--sklearn-color-fitted-level-0);\n",
       "  border: var(--sklearn-color-fitted-level-3);\n",
       "}\n",
       "\n",
       ".sk-estimator-doc-link:hover span {\n",
       "  display: block;\n",
       "}\n",
       "\n",
       "/* \"?\"-specific style due to the `<a>` HTML tag */\n",
       "\n",
       "#sk-container-id-1 a.estimator_doc_link {\n",
       "  float: right;\n",
       "  font-size: 1rem;\n",
       "  line-height: 1em;\n",
       "  font-family: monospace;\n",
       "  background-color: var(--sklearn-color-background);\n",
       "  border-radius: 1rem;\n",
       "  height: 1rem;\n",
       "  width: 1rem;\n",
       "  text-decoration: none;\n",
       "  /* unfitted */\n",
       "  color: var(--sklearn-color-unfitted-level-1);\n",
       "  border: var(--sklearn-color-unfitted-level-1) 1pt solid;\n",
       "}\n",
       "\n",
       "#sk-container-id-1 a.estimator_doc_link.fitted {\n",
       "  /* fitted */\n",
       "  border: var(--sklearn-color-fitted-level-1) 1pt solid;\n",
       "  color: var(--sklearn-color-fitted-level-1);\n",
       "}\n",
       "\n",
       "/* On hover */\n",
       "#sk-container-id-1 a.estimator_doc_link:hover {\n",
       "  /* unfitted */\n",
       "  background-color: var(--sklearn-color-unfitted-level-3);\n",
       "  color: var(--sklearn-color-background);\n",
       "  text-decoration: none;\n",
       "}\n",
       "\n",
       "#sk-container-id-1 a.estimator_doc_link.fitted:hover {\n",
       "  /* fitted */\n",
       "  background-color: var(--sklearn-color-fitted-level-3);\n",
       "}\n",
       "</style><div id=\"sk-container-id-1\" class=\"sk-top-container\"><div class=\"sk-text-repr-fallback\"><pre>LogisticRegression(multi_class=&#x27;ovr&#x27;, random_state=0)</pre><b>In a Jupyter environment, please rerun this cell to show the HTML representation or trust the notebook. <br />On GitHub, the HTML representation is unable to render, please try loading this page with nbviewer.org.</b></div><div class=\"sk-container\" hidden><div class=\"sk-item\"><div class=\"sk-estimator fitted sk-toggleable\"><input class=\"sk-toggleable__control sk-hidden--visually\" id=\"sk-estimator-id-1\" type=\"checkbox\" checked><label for=\"sk-estimator-id-1\" class=\"sk-toggleable__label fitted sk-toggleable__label-arrow fitted\">&nbsp;&nbsp;LogisticRegression<a class=\"sk-estimator-doc-link fitted\" rel=\"noreferrer\" target=\"_blank\" href=\"https://scikit-learn.org/1.5/modules/generated/sklearn.linear_model.LogisticRegression.html\">?<span>Documentation for LogisticRegression</span></a><span class=\"sk-estimator-doc-link fitted\">i<span>Fitted</span></span></label><div class=\"sk-toggleable__content fitted\"><pre>LogisticRegression(multi_class=&#x27;ovr&#x27;, random_state=0)</pre></div> </div></div></div></div>"
      ],
      "text/plain": [
       "LogisticRegression(multi_class='ovr', random_state=0)"
      ]
     },
     "execution_count": 19,
     "metadata": {},
     "output_type": "execute_result"
    }
   ],
   "source": [
    "# Initiate model\n",
    "model1 = LogisticRegression(random_state=0, multi_class='ovr')\n",
    "\n",
    "# Training the model\n",
    "model1.fit(X_train, y_train)"
   ]
  },
  {
   "cell_type": "code",
   "execution_count": 20,
   "metadata": {},
   "outputs": [],
   "source": [
    "# Make predictions\n",
    "predictions = model1.predict(X_test)"
   ]
  },
  {
   "cell_type": "code",
   "execution_count": 21,
   "metadata": {},
   "outputs": [
    {
     "name": "stdout",
     "output_type": "stream",
     "text": [
      "[[ 5  0  4]\n",
      " [ 0 28 15]\n",
      " [ 3 11 55]]\n"
     ]
    }
   ],
   "source": [
    "# Cross-validate model using accuracy\n",
    "confusion_matrix = confusion_matrix(y_test, predictions)\n",
    "print(confusion_matrix)"
   ]
  },
  {
   "cell_type": "code",
   "execution_count": 22,
   "metadata": {},
   "outputs": [
    {
     "name": "stdout",
     "output_type": "stream",
     "text": [
      "[2 2 1 2 1]\n",
      "[2 1 2 2 2]\n"
     ]
    }
   ],
   "source": [
    "# Compare the predictions vs the test target\n",
    "print(y_test[:5])\n",
    "print(predictions[:5])"
   ]
  },
  {
   "cell_type": "code",
   "execution_count": 23,
   "metadata": {},
   "outputs": [
    {
     "data": {
      "text/plain": [
       "0.7272727272727273"
      ]
     },
     "execution_count": 23,
     "metadata": {},
     "output_type": "execute_result"
    }
   ],
   "source": [
    "# Model accuracy\n",
    "model1_accuracy = accuracy_score(y_test, predictions)\n",
    "model1_accuracy"
   ]
  },
  {
   "cell_type": "markdown",
   "metadata": {},
   "source": [
    "### Model 2: Decision Tree"
   ]
  },
  {
   "cell_type": "code",
   "execution_count": 24,
   "metadata": {},
   "outputs": [
    {
     "data": {
      "text/html": [
       "<style>#sk-container-id-2 {\n",
       "  /* Definition of color scheme common for light and dark mode */\n",
       "  --sklearn-color-text: black;\n",
       "  --sklearn-color-line: gray;\n",
       "  /* Definition of color scheme for unfitted estimators */\n",
       "  --sklearn-color-unfitted-level-0: #fff5e6;\n",
       "  --sklearn-color-unfitted-level-1: #f6e4d2;\n",
       "  --sklearn-color-unfitted-level-2: #ffe0b3;\n",
       "  --sklearn-color-unfitted-level-3: chocolate;\n",
       "  /* Definition of color scheme for fitted estimators */\n",
       "  --sklearn-color-fitted-level-0: #f0f8ff;\n",
       "  --sklearn-color-fitted-level-1: #d4ebff;\n",
       "  --sklearn-color-fitted-level-2: #b3dbfd;\n",
       "  --sklearn-color-fitted-level-3: cornflowerblue;\n",
       "\n",
       "  /* Specific color for light theme */\n",
       "  --sklearn-color-text-on-default-background: var(--sg-text-color, var(--theme-code-foreground, var(--jp-content-font-color1, black)));\n",
       "  --sklearn-color-background: var(--sg-background-color, var(--theme-background, var(--jp-layout-color0, white)));\n",
       "  --sklearn-color-border-box: var(--sg-text-color, var(--theme-code-foreground, var(--jp-content-font-color1, black)));\n",
       "  --sklearn-color-icon: #696969;\n",
       "\n",
       "  @media (prefers-color-scheme: dark) {\n",
       "    /* Redefinition of color scheme for dark theme */\n",
       "    --sklearn-color-text-on-default-background: var(--sg-text-color, var(--theme-code-foreground, var(--jp-content-font-color1, white)));\n",
       "    --sklearn-color-background: var(--sg-background-color, var(--theme-background, var(--jp-layout-color0, #111)));\n",
       "    --sklearn-color-border-box: var(--sg-text-color, var(--theme-code-foreground, var(--jp-content-font-color1, white)));\n",
       "    --sklearn-color-icon: #878787;\n",
       "  }\n",
       "}\n",
       "\n",
       "#sk-container-id-2 {\n",
       "  color: var(--sklearn-color-text);\n",
       "}\n",
       "\n",
       "#sk-container-id-2 pre {\n",
       "  padding: 0;\n",
       "}\n",
       "\n",
       "#sk-container-id-2 input.sk-hidden--visually {\n",
       "  border: 0;\n",
       "  clip: rect(1px 1px 1px 1px);\n",
       "  clip: rect(1px, 1px, 1px, 1px);\n",
       "  height: 1px;\n",
       "  margin: -1px;\n",
       "  overflow: hidden;\n",
       "  padding: 0;\n",
       "  position: absolute;\n",
       "  width: 1px;\n",
       "}\n",
       "\n",
       "#sk-container-id-2 div.sk-dashed-wrapped {\n",
       "  border: 1px dashed var(--sklearn-color-line);\n",
       "  margin: 0 0.4em 0.5em 0.4em;\n",
       "  box-sizing: border-box;\n",
       "  padding-bottom: 0.4em;\n",
       "  background-color: var(--sklearn-color-background);\n",
       "}\n",
       "\n",
       "#sk-container-id-2 div.sk-container {\n",
       "  /* jupyter's `normalize.less` sets `[hidden] { display: none; }`\n",
       "     but bootstrap.min.css set `[hidden] { display: none !important; }`\n",
       "     so we also need the `!important` here to be able to override the\n",
       "     default hidden behavior on the sphinx rendered scikit-learn.org.\n",
       "     See: https://github.com/scikit-learn/scikit-learn/issues/21755 */\n",
       "  display: inline-block !important;\n",
       "  position: relative;\n",
       "}\n",
       "\n",
       "#sk-container-id-2 div.sk-text-repr-fallback {\n",
       "  display: none;\n",
       "}\n",
       "\n",
       "div.sk-parallel-item,\n",
       "div.sk-serial,\n",
       "div.sk-item {\n",
       "  /* draw centered vertical line to link estimators */\n",
       "  background-image: linear-gradient(var(--sklearn-color-text-on-default-background), var(--sklearn-color-text-on-default-background));\n",
       "  background-size: 2px 100%;\n",
       "  background-repeat: no-repeat;\n",
       "  background-position: center center;\n",
       "}\n",
       "\n",
       "/* Parallel-specific style estimator block */\n",
       "\n",
       "#sk-container-id-2 div.sk-parallel-item::after {\n",
       "  content: \"\";\n",
       "  width: 100%;\n",
       "  border-bottom: 2px solid var(--sklearn-color-text-on-default-background);\n",
       "  flex-grow: 1;\n",
       "}\n",
       "\n",
       "#sk-container-id-2 div.sk-parallel {\n",
       "  display: flex;\n",
       "  align-items: stretch;\n",
       "  justify-content: center;\n",
       "  background-color: var(--sklearn-color-background);\n",
       "  position: relative;\n",
       "}\n",
       "\n",
       "#sk-container-id-2 div.sk-parallel-item {\n",
       "  display: flex;\n",
       "  flex-direction: column;\n",
       "}\n",
       "\n",
       "#sk-container-id-2 div.sk-parallel-item:first-child::after {\n",
       "  align-self: flex-end;\n",
       "  width: 50%;\n",
       "}\n",
       "\n",
       "#sk-container-id-2 div.sk-parallel-item:last-child::after {\n",
       "  align-self: flex-start;\n",
       "  width: 50%;\n",
       "}\n",
       "\n",
       "#sk-container-id-2 div.sk-parallel-item:only-child::after {\n",
       "  width: 0;\n",
       "}\n",
       "\n",
       "/* Serial-specific style estimator block */\n",
       "\n",
       "#sk-container-id-2 div.sk-serial {\n",
       "  display: flex;\n",
       "  flex-direction: column;\n",
       "  align-items: center;\n",
       "  background-color: var(--sklearn-color-background);\n",
       "  padding-right: 1em;\n",
       "  padding-left: 1em;\n",
       "}\n",
       "\n",
       "\n",
       "/* Toggleable style: style used for estimator/Pipeline/ColumnTransformer box that is\n",
       "clickable and can be expanded/collapsed.\n",
       "- Pipeline and ColumnTransformer use this feature and define the default style\n",
       "- Estimators will overwrite some part of the style using the `sk-estimator` class\n",
       "*/\n",
       "\n",
       "/* Pipeline and ColumnTransformer style (default) */\n",
       "\n",
       "#sk-container-id-2 div.sk-toggleable {\n",
       "  /* Default theme specific background. It is overwritten whether we have a\n",
       "  specific estimator or a Pipeline/ColumnTransformer */\n",
       "  background-color: var(--sklearn-color-background);\n",
       "}\n",
       "\n",
       "/* Toggleable label */\n",
       "#sk-container-id-2 label.sk-toggleable__label {\n",
       "  cursor: pointer;\n",
       "  display: block;\n",
       "  width: 100%;\n",
       "  margin-bottom: 0;\n",
       "  padding: 0.5em;\n",
       "  box-sizing: border-box;\n",
       "  text-align: center;\n",
       "}\n",
       "\n",
       "#sk-container-id-2 label.sk-toggleable__label-arrow:before {\n",
       "  /* Arrow on the left of the label */\n",
       "  content: \"▸\";\n",
       "  float: left;\n",
       "  margin-right: 0.25em;\n",
       "  color: var(--sklearn-color-icon);\n",
       "}\n",
       "\n",
       "#sk-container-id-2 label.sk-toggleable__label-arrow:hover:before {\n",
       "  color: var(--sklearn-color-text);\n",
       "}\n",
       "\n",
       "/* Toggleable content - dropdown */\n",
       "\n",
       "#sk-container-id-2 div.sk-toggleable__content {\n",
       "  max-height: 0;\n",
       "  max-width: 0;\n",
       "  overflow: hidden;\n",
       "  text-align: left;\n",
       "  /* unfitted */\n",
       "  background-color: var(--sklearn-color-unfitted-level-0);\n",
       "}\n",
       "\n",
       "#sk-container-id-2 div.sk-toggleable__content.fitted {\n",
       "  /* fitted */\n",
       "  background-color: var(--sklearn-color-fitted-level-0);\n",
       "}\n",
       "\n",
       "#sk-container-id-2 div.sk-toggleable__content pre {\n",
       "  margin: 0.2em;\n",
       "  border-radius: 0.25em;\n",
       "  color: var(--sklearn-color-text);\n",
       "  /* unfitted */\n",
       "  background-color: var(--sklearn-color-unfitted-level-0);\n",
       "}\n",
       "\n",
       "#sk-container-id-2 div.sk-toggleable__content.fitted pre {\n",
       "  /* unfitted */\n",
       "  background-color: var(--sklearn-color-fitted-level-0);\n",
       "}\n",
       "\n",
       "#sk-container-id-2 input.sk-toggleable__control:checked~div.sk-toggleable__content {\n",
       "  /* Expand drop-down */\n",
       "  max-height: 200px;\n",
       "  max-width: 100%;\n",
       "  overflow: auto;\n",
       "}\n",
       "\n",
       "#sk-container-id-2 input.sk-toggleable__control:checked~label.sk-toggleable__label-arrow:before {\n",
       "  content: \"▾\";\n",
       "}\n",
       "\n",
       "/* Pipeline/ColumnTransformer-specific style */\n",
       "\n",
       "#sk-container-id-2 div.sk-label input.sk-toggleable__control:checked~label.sk-toggleable__label {\n",
       "  color: var(--sklearn-color-text);\n",
       "  background-color: var(--sklearn-color-unfitted-level-2);\n",
       "}\n",
       "\n",
       "#sk-container-id-2 div.sk-label.fitted input.sk-toggleable__control:checked~label.sk-toggleable__label {\n",
       "  background-color: var(--sklearn-color-fitted-level-2);\n",
       "}\n",
       "\n",
       "/* Estimator-specific style */\n",
       "\n",
       "/* Colorize estimator box */\n",
       "#sk-container-id-2 div.sk-estimator input.sk-toggleable__control:checked~label.sk-toggleable__label {\n",
       "  /* unfitted */\n",
       "  background-color: var(--sklearn-color-unfitted-level-2);\n",
       "}\n",
       "\n",
       "#sk-container-id-2 div.sk-estimator.fitted input.sk-toggleable__control:checked~label.sk-toggleable__label {\n",
       "  /* fitted */\n",
       "  background-color: var(--sklearn-color-fitted-level-2);\n",
       "}\n",
       "\n",
       "#sk-container-id-2 div.sk-label label.sk-toggleable__label,\n",
       "#sk-container-id-2 div.sk-label label {\n",
       "  /* The background is the default theme color */\n",
       "  color: var(--sklearn-color-text-on-default-background);\n",
       "}\n",
       "\n",
       "/* On hover, darken the color of the background */\n",
       "#sk-container-id-2 div.sk-label:hover label.sk-toggleable__label {\n",
       "  color: var(--sklearn-color-text);\n",
       "  background-color: var(--sklearn-color-unfitted-level-2);\n",
       "}\n",
       "\n",
       "/* Label box, darken color on hover, fitted */\n",
       "#sk-container-id-2 div.sk-label.fitted:hover label.sk-toggleable__label.fitted {\n",
       "  color: var(--sklearn-color-text);\n",
       "  background-color: var(--sklearn-color-fitted-level-2);\n",
       "}\n",
       "\n",
       "/* Estimator label */\n",
       "\n",
       "#sk-container-id-2 div.sk-label label {\n",
       "  font-family: monospace;\n",
       "  font-weight: bold;\n",
       "  display: inline-block;\n",
       "  line-height: 1.2em;\n",
       "}\n",
       "\n",
       "#sk-container-id-2 div.sk-label-container {\n",
       "  text-align: center;\n",
       "}\n",
       "\n",
       "/* Estimator-specific */\n",
       "#sk-container-id-2 div.sk-estimator {\n",
       "  font-family: monospace;\n",
       "  border: 1px dotted var(--sklearn-color-border-box);\n",
       "  border-radius: 0.25em;\n",
       "  box-sizing: border-box;\n",
       "  margin-bottom: 0.5em;\n",
       "  /* unfitted */\n",
       "  background-color: var(--sklearn-color-unfitted-level-0);\n",
       "}\n",
       "\n",
       "#sk-container-id-2 div.sk-estimator.fitted {\n",
       "  /* fitted */\n",
       "  background-color: var(--sklearn-color-fitted-level-0);\n",
       "}\n",
       "\n",
       "/* on hover */\n",
       "#sk-container-id-2 div.sk-estimator:hover {\n",
       "  /* unfitted */\n",
       "  background-color: var(--sklearn-color-unfitted-level-2);\n",
       "}\n",
       "\n",
       "#sk-container-id-2 div.sk-estimator.fitted:hover {\n",
       "  /* fitted */\n",
       "  background-color: var(--sklearn-color-fitted-level-2);\n",
       "}\n",
       "\n",
       "/* Specification for estimator info (e.g. \"i\" and \"?\") */\n",
       "\n",
       "/* Common style for \"i\" and \"?\" */\n",
       "\n",
       ".sk-estimator-doc-link,\n",
       "a:link.sk-estimator-doc-link,\n",
       "a:visited.sk-estimator-doc-link {\n",
       "  float: right;\n",
       "  font-size: smaller;\n",
       "  line-height: 1em;\n",
       "  font-family: monospace;\n",
       "  background-color: var(--sklearn-color-background);\n",
       "  border-radius: 1em;\n",
       "  height: 1em;\n",
       "  width: 1em;\n",
       "  text-decoration: none !important;\n",
       "  margin-left: 1ex;\n",
       "  /* unfitted */\n",
       "  border: var(--sklearn-color-unfitted-level-1) 1pt solid;\n",
       "  color: var(--sklearn-color-unfitted-level-1);\n",
       "}\n",
       "\n",
       ".sk-estimator-doc-link.fitted,\n",
       "a:link.sk-estimator-doc-link.fitted,\n",
       "a:visited.sk-estimator-doc-link.fitted {\n",
       "  /* fitted */\n",
       "  border: var(--sklearn-color-fitted-level-1) 1pt solid;\n",
       "  color: var(--sklearn-color-fitted-level-1);\n",
       "}\n",
       "\n",
       "/* On hover */\n",
       "div.sk-estimator:hover .sk-estimator-doc-link:hover,\n",
       ".sk-estimator-doc-link:hover,\n",
       "div.sk-label-container:hover .sk-estimator-doc-link:hover,\n",
       ".sk-estimator-doc-link:hover {\n",
       "  /* unfitted */\n",
       "  background-color: var(--sklearn-color-unfitted-level-3);\n",
       "  color: var(--sklearn-color-background);\n",
       "  text-decoration: none;\n",
       "}\n",
       "\n",
       "div.sk-estimator.fitted:hover .sk-estimator-doc-link.fitted:hover,\n",
       ".sk-estimator-doc-link.fitted:hover,\n",
       "div.sk-label-container:hover .sk-estimator-doc-link.fitted:hover,\n",
       ".sk-estimator-doc-link.fitted:hover {\n",
       "  /* fitted */\n",
       "  background-color: var(--sklearn-color-fitted-level-3);\n",
       "  color: var(--sklearn-color-background);\n",
       "  text-decoration: none;\n",
       "}\n",
       "\n",
       "/* Span, style for the box shown on hovering the info icon */\n",
       ".sk-estimator-doc-link span {\n",
       "  display: none;\n",
       "  z-index: 9999;\n",
       "  position: relative;\n",
       "  font-weight: normal;\n",
       "  right: .2ex;\n",
       "  padding: .5ex;\n",
       "  margin: .5ex;\n",
       "  width: min-content;\n",
       "  min-width: 20ex;\n",
       "  max-width: 50ex;\n",
       "  color: var(--sklearn-color-text);\n",
       "  box-shadow: 2pt 2pt 4pt #999;\n",
       "  /* unfitted */\n",
       "  background: var(--sklearn-color-unfitted-level-0);\n",
       "  border: .5pt solid var(--sklearn-color-unfitted-level-3);\n",
       "}\n",
       "\n",
       ".sk-estimator-doc-link.fitted span {\n",
       "  /* fitted */\n",
       "  background: var(--sklearn-color-fitted-level-0);\n",
       "  border: var(--sklearn-color-fitted-level-3);\n",
       "}\n",
       "\n",
       ".sk-estimator-doc-link:hover span {\n",
       "  display: block;\n",
       "}\n",
       "\n",
       "/* \"?\"-specific style due to the `<a>` HTML tag */\n",
       "\n",
       "#sk-container-id-2 a.estimator_doc_link {\n",
       "  float: right;\n",
       "  font-size: 1rem;\n",
       "  line-height: 1em;\n",
       "  font-family: monospace;\n",
       "  background-color: var(--sklearn-color-background);\n",
       "  border-radius: 1rem;\n",
       "  height: 1rem;\n",
       "  width: 1rem;\n",
       "  text-decoration: none;\n",
       "  /* unfitted */\n",
       "  color: var(--sklearn-color-unfitted-level-1);\n",
       "  border: var(--sklearn-color-unfitted-level-1) 1pt solid;\n",
       "}\n",
       "\n",
       "#sk-container-id-2 a.estimator_doc_link.fitted {\n",
       "  /* fitted */\n",
       "  border: var(--sklearn-color-fitted-level-1) 1pt solid;\n",
       "  color: var(--sklearn-color-fitted-level-1);\n",
       "}\n",
       "\n",
       "/* On hover */\n",
       "#sk-container-id-2 a.estimator_doc_link:hover {\n",
       "  /* unfitted */\n",
       "  background-color: var(--sklearn-color-unfitted-level-3);\n",
       "  color: var(--sklearn-color-background);\n",
       "  text-decoration: none;\n",
       "}\n",
       "\n",
       "#sk-container-id-2 a.estimator_doc_link.fitted:hover {\n",
       "  /* fitted */\n",
       "  background-color: var(--sklearn-color-fitted-level-3);\n",
       "}\n",
       "</style><div id=\"sk-container-id-2\" class=\"sk-top-container\"><div class=\"sk-text-repr-fallback\"><pre>DecisionTreeClassifier(random_state=0)</pre><b>In a Jupyter environment, please rerun this cell to show the HTML representation or trust the notebook. <br />On GitHub, the HTML representation is unable to render, please try loading this page with nbviewer.org.</b></div><div class=\"sk-container\" hidden><div class=\"sk-item\"><div class=\"sk-estimator fitted sk-toggleable\"><input class=\"sk-toggleable__control sk-hidden--visually\" id=\"sk-estimator-id-2\" type=\"checkbox\" checked><label for=\"sk-estimator-id-2\" class=\"sk-toggleable__label fitted sk-toggleable__label-arrow fitted\">&nbsp;&nbsp;DecisionTreeClassifier<a class=\"sk-estimator-doc-link fitted\" rel=\"noreferrer\" target=\"_blank\" href=\"https://scikit-learn.org/1.5/modules/generated/sklearn.tree.DecisionTreeClassifier.html\">?<span>Documentation for DecisionTreeClassifier</span></a><span class=\"sk-estimator-doc-link fitted\">i<span>Fitted</span></span></label><div class=\"sk-toggleable__content fitted\"><pre>DecisionTreeClassifier(random_state=0)</pre></div> </div></div></div></div>"
      ],
      "text/plain": [
       "DecisionTreeClassifier(random_state=0)"
      ]
     },
     "execution_count": 24,
     "metadata": {},
     "output_type": "execute_result"
    }
   ],
   "source": [
    "# Initiate the model\n",
    "model2 = DecisionTreeClassifier(random_state=0)\n",
    "\n",
    "# Train the model\n",
    "model2.fit(X_train, y_train)\n"
   ]
  },
  {
   "cell_type": "code",
   "execution_count": 25,
   "metadata": {},
   "outputs": [],
   "source": [
    "# Make predictions\n",
    "predictions = model2.predict(X_test)"
   ]
  },
  {
   "cell_type": "code",
   "execution_count": 26,
   "metadata": {},
   "outputs": [
    {
     "name": "stdout",
     "output_type": "stream",
     "text": [
      "Predictions:  [2 1 1 2 1 1 2 1 2 2]\n",
      "Real values:  [2 2 1 2 1 1 2 1 2 2]\n"
     ]
    }
   ],
   "source": [
    "# Compare the prediction to the real values\n",
    "print('Predictions: ', predictions[:10])\n",
    "print('Real values: ', y_test[:10])"
   ]
  },
  {
   "cell_type": "code",
   "execution_count": 27,
   "metadata": {},
   "outputs": [
    {
     "data": {
      "text/plain": [
       "array([[0.        , 0.        , 1.        ],\n",
       "       [0.        , 0.66666667, 0.33333333],\n",
       "       [0.        , 1.        , 0.        ],\n",
       "       [0.        , 0.        , 1.        ],\n",
       "       [0.        , 1.        , 0.        ],\n",
       "       [0.        , 1.        , 0.        ],\n",
       "       [0.        , 0.        , 1.        ],\n",
       "       [0.        , 1.        , 0.        ],\n",
       "       [0.        , 0.        , 1.        ],\n",
       "       [0.        , 0.28571429, 0.71428571]])"
      ]
     },
     "execution_count": 27,
     "metadata": {},
     "output_type": "execute_result"
    }
   ],
   "source": [
    "# View predicted class probabilities\n",
    "model2.predict_proba(X_test[:10])"
   ]
  },
  {
   "cell_type": "code",
   "execution_count": 28,
   "metadata": {},
   "outputs": [
    {
     "data": {
      "text/plain": [
       "0.8842975206611571"
      ]
     },
     "execution_count": 28,
     "metadata": {},
     "output_type": "execute_result"
    }
   ],
   "source": [
    "# Get accuracy score\n",
    "model2_accuracy = accuracy_score(y_test, predictions)\n",
    "model2_accuracy"
   ]
  },
  {
   "cell_type": "code",
   "execution_count": 29,
   "metadata": {},
   "outputs": [
    {
     "data": {
      "text/plain": [
       "'              precision    recall  f1-score   support\\n\\n           0       0.88      0.78      0.82         9\\n           1       0.83      0.93      0.88        43\\n           2       0.92      0.87      0.90        69\\n\\n    accuracy                           0.88       121\\n   macro avg       0.88      0.86      0.87       121\\nweighted avg       0.89      0.88      0.88       121\\n'"
      ]
     },
     "execution_count": 29,
     "metadata": {},
     "output_type": "execute_result"
    }
   ],
   "source": [
    "classification_report(y_test, predictions)"
   ]
  },
  {
   "cell_type": "markdown",
   "metadata": {},
   "source": [
    "### Model3: Random Forest"
   ]
  },
  {
   "cell_type": "code",
   "execution_count": 30,
   "metadata": {},
   "outputs": [
    {
     "data": {
      "text/html": [
       "<style>#sk-container-id-3 {\n",
       "  /* Definition of color scheme common for light and dark mode */\n",
       "  --sklearn-color-text: black;\n",
       "  --sklearn-color-line: gray;\n",
       "  /* Definition of color scheme for unfitted estimators */\n",
       "  --sklearn-color-unfitted-level-0: #fff5e6;\n",
       "  --sklearn-color-unfitted-level-1: #f6e4d2;\n",
       "  --sklearn-color-unfitted-level-2: #ffe0b3;\n",
       "  --sklearn-color-unfitted-level-3: chocolate;\n",
       "  /* Definition of color scheme for fitted estimators */\n",
       "  --sklearn-color-fitted-level-0: #f0f8ff;\n",
       "  --sklearn-color-fitted-level-1: #d4ebff;\n",
       "  --sklearn-color-fitted-level-2: #b3dbfd;\n",
       "  --sklearn-color-fitted-level-3: cornflowerblue;\n",
       "\n",
       "  /* Specific color for light theme */\n",
       "  --sklearn-color-text-on-default-background: var(--sg-text-color, var(--theme-code-foreground, var(--jp-content-font-color1, black)));\n",
       "  --sklearn-color-background: var(--sg-background-color, var(--theme-background, var(--jp-layout-color0, white)));\n",
       "  --sklearn-color-border-box: var(--sg-text-color, var(--theme-code-foreground, var(--jp-content-font-color1, black)));\n",
       "  --sklearn-color-icon: #696969;\n",
       "\n",
       "  @media (prefers-color-scheme: dark) {\n",
       "    /* Redefinition of color scheme for dark theme */\n",
       "    --sklearn-color-text-on-default-background: var(--sg-text-color, var(--theme-code-foreground, var(--jp-content-font-color1, white)));\n",
       "    --sklearn-color-background: var(--sg-background-color, var(--theme-background, var(--jp-layout-color0, #111)));\n",
       "    --sklearn-color-border-box: var(--sg-text-color, var(--theme-code-foreground, var(--jp-content-font-color1, white)));\n",
       "    --sklearn-color-icon: #878787;\n",
       "  }\n",
       "}\n",
       "\n",
       "#sk-container-id-3 {\n",
       "  color: var(--sklearn-color-text);\n",
       "}\n",
       "\n",
       "#sk-container-id-3 pre {\n",
       "  padding: 0;\n",
       "}\n",
       "\n",
       "#sk-container-id-3 input.sk-hidden--visually {\n",
       "  border: 0;\n",
       "  clip: rect(1px 1px 1px 1px);\n",
       "  clip: rect(1px, 1px, 1px, 1px);\n",
       "  height: 1px;\n",
       "  margin: -1px;\n",
       "  overflow: hidden;\n",
       "  padding: 0;\n",
       "  position: absolute;\n",
       "  width: 1px;\n",
       "}\n",
       "\n",
       "#sk-container-id-3 div.sk-dashed-wrapped {\n",
       "  border: 1px dashed var(--sklearn-color-line);\n",
       "  margin: 0 0.4em 0.5em 0.4em;\n",
       "  box-sizing: border-box;\n",
       "  padding-bottom: 0.4em;\n",
       "  background-color: var(--sklearn-color-background);\n",
       "}\n",
       "\n",
       "#sk-container-id-3 div.sk-container {\n",
       "  /* jupyter's `normalize.less` sets `[hidden] { display: none; }`\n",
       "     but bootstrap.min.css set `[hidden] { display: none !important; }`\n",
       "     so we also need the `!important` here to be able to override the\n",
       "     default hidden behavior on the sphinx rendered scikit-learn.org.\n",
       "     See: https://github.com/scikit-learn/scikit-learn/issues/21755 */\n",
       "  display: inline-block !important;\n",
       "  position: relative;\n",
       "}\n",
       "\n",
       "#sk-container-id-3 div.sk-text-repr-fallback {\n",
       "  display: none;\n",
       "}\n",
       "\n",
       "div.sk-parallel-item,\n",
       "div.sk-serial,\n",
       "div.sk-item {\n",
       "  /* draw centered vertical line to link estimators */\n",
       "  background-image: linear-gradient(var(--sklearn-color-text-on-default-background), var(--sklearn-color-text-on-default-background));\n",
       "  background-size: 2px 100%;\n",
       "  background-repeat: no-repeat;\n",
       "  background-position: center center;\n",
       "}\n",
       "\n",
       "/* Parallel-specific style estimator block */\n",
       "\n",
       "#sk-container-id-3 div.sk-parallel-item::after {\n",
       "  content: \"\";\n",
       "  width: 100%;\n",
       "  border-bottom: 2px solid var(--sklearn-color-text-on-default-background);\n",
       "  flex-grow: 1;\n",
       "}\n",
       "\n",
       "#sk-container-id-3 div.sk-parallel {\n",
       "  display: flex;\n",
       "  align-items: stretch;\n",
       "  justify-content: center;\n",
       "  background-color: var(--sklearn-color-background);\n",
       "  position: relative;\n",
       "}\n",
       "\n",
       "#sk-container-id-3 div.sk-parallel-item {\n",
       "  display: flex;\n",
       "  flex-direction: column;\n",
       "}\n",
       "\n",
       "#sk-container-id-3 div.sk-parallel-item:first-child::after {\n",
       "  align-self: flex-end;\n",
       "  width: 50%;\n",
       "}\n",
       "\n",
       "#sk-container-id-3 div.sk-parallel-item:last-child::after {\n",
       "  align-self: flex-start;\n",
       "  width: 50%;\n",
       "}\n",
       "\n",
       "#sk-container-id-3 div.sk-parallel-item:only-child::after {\n",
       "  width: 0;\n",
       "}\n",
       "\n",
       "/* Serial-specific style estimator block */\n",
       "\n",
       "#sk-container-id-3 div.sk-serial {\n",
       "  display: flex;\n",
       "  flex-direction: column;\n",
       "  align-items: center;\n",
       "  background-color: var(--sklearn-color-background);\n",
       "  padding-right: 1em;\n",
       "  padding-left: 1em;\n",
       "}\n",
       "\n",
       "\n",
       "/* Toggleable style: style used for estimator/Pipeline/ColumnTransformer box that is\n",
       "clickable and can be expanded/collapsed.\n",
       "- Pipeline and ColumnTransformer use this feature and define the default style\n",
       "- Estimators will overwrite some part of the style using the `sk-estimator` class\n",
       "*/\n",
       "\n",
       "/* Pipeline and ColumnTransformer style (default) */\n",
       "\n",
       "#sk-container-id-3 div.sk-toggleable {\n",
       "  /* Default theme specific background. It is overwritten whether we have a\n",
       "  specific estimator or a Pipeline/ColumnTransformer */\n",
       "  background-color: var(--sklearn-color-background);\n",
       "}\n",
       "\n",
       "/* Toggleable label */\n",
       "#sk-container-id-3 label.sk-toggleable__label {\n",
       "  cursor: pointer;\n",
       "  display: block;\n",
       "  width: 100%;\n",
       "  margin-bottom: 0;\n",
       "  padding: 0.5em;\n",
       "  box-sizing: border-box;\n",
       "  text-align: center;\n",
       "}\n",
       "\n",
       "#sk-container-id-3 label.sk-toggleable__label-arrow:before {\n",
       "  /* Arrow on the left of the label */\n",
       "  content: \"▸\";\n",
       "  float: left;\n",
       "  margin-right: 0.25em;\n",
       "  color: var(--sklearn-color-icon);\n",
       "}\n",
       "\n",
       "#sk-container-id-3 label.sk-toggleable__label-arrow:hover:before {\n",
       "  color: var(--sklearn-color-text);\n",
       "}\n",
       "\n",
       "/* Toggleable content - dropdown */\n",
       "\n",
       "#sk-container-id-3 div.sk-toggleable__content {\n",
       "  max-height: 0;\n",
       "  max-width: 0;\n",
       "  overflow: hidden;\n",
       "  text-align: left;\n",
       "  /* unfitted */\n",
       "  background-color: var(--sklearn-color-unfitted-level-0);\n",
       "}\n",
       "\n",
       "#sk-container-id-3 div.sk-toggleable__content.fitted {\n",
       "  /* fitted */\n",
       "  background-color: var(--sklearn-color-fitted-level-0);\n",
       "}\n",
       "\n",
       "#sk-container-id-3 div.sk-toggleable__content pre {\n",
       "  margin: 0.2em;\n",
       "  border-radius: 0.25em;\n",
       "  color: var(--sklearn-color-text);\n",
       "  /* unfitted */\n",
       "  background-color: var(--sklearn-color-unfitted-level-0);\n",
       "}\n",
       "\n",
       "#sk-container-id-3 div.sk-toggleable__content.fitted pre {\n",
       "  /* unfitted */\n",
       "  background-color: var(--sklearn-color-fitted-level-0);\n",
       "}\n",
       "\n",
       "#sk-container-id-3 input.sk-toggleable__control:checked~div.sk-toggleable__content {\n",
       "  /* Expand drop-down */\n",
       "  max-height: 200px;\n",
       "  max-width: 100%;\n",
       "  overflow: auto;\n",
       "}\n",
       "\n",
       "#sk-container-id-3 input.sk-toggleable__control:checked~label.sk-toggleable__label-arrow:before {\n",
       "  content: \"▾\";\n",
       "}\n",
       "\n",
       "/* Pipeline/ColumnTransformer-specific style */\n",
       "\n",
       "#sk-container-id-3 div.sk-label input.sk-toggleable__control:checked~label.sk-toggleable__label {\n",
       "  color: var(--sklearn-color-text);\n",
       "  background-color: var(--sklearn-color-unfitted-level-2);\n",
       "}\n",
       "\n",
       "#sk-container-id-3 div.sk-label.fitted input.sk-toggleable__control:checked~label.sk-toggleable__label {\n",
       "  background-color: var(--sklearn-color-fitted-level-2);\n",
       "}\n",
       "\n",
       "/* Estimator-specific style */\n",
       "\n",
       "/* Colorize estimator box */\n",
       "#sk-container-id-3 div.sk-estimator input.sk-toggleable__control:checked~label.sk-toggleable__label {\n",
       "  /* unfitted */\n",
       "  background-color: var(--sklearn-color-unfitted-level-2);\n",
       "}\n",
       "\n",
       "#sk-container-id-3 div.sk-estimator.fitted input.sk-toggleable__control:checked~label.sk-toggleable__label {\n",
       "  /* fitted */\n",
       "  background-color: var(--sklearn-color-fitted-level-2);\n",
       "}\n",
       "\n",
       "#sk-container-id-3 div.sk-label label.sk-toggleable__label,\n",
       "#sk-container-id-3 div.sk-label label {\n",
       "  /* The background is the default theme color */\n",
       "  color: var(--sklearn-color-text-on-default-background);\n",
       "}\n",
       "\n",
       "/* On hover, darken the color of the background */\n",
       "#sk-container-id-3 div.sk-label:hover label.sk-toggleable__label {\n",
       "  color: var(--sklearn-color-text);\n",
       "  background-color: var(--sklearn-color-unfitted-level-2);\n",
       "}\n",
       "\n",
       "/* Label box, darken color on hover, fitted */\n",
       "#sk-container-id-3 div.sk-label.fitted:hover label.sk-toggleable__label.fitted {\n",
       "  color: var(--sklearn-color-text);\n",
       "  background-color: var(--sklearn-color-fitted-level-2);\n",
       "}\n",
       "\n",
       "/* Estimator label */\n",
       "\n",
       "#sk-container-id-3 div.sk-label label {\n",
       "  font-family: monospace;\n",
       "  font-weight: bold;\n",
       "  display: inline-block;\n",
       "  line-height: 1.2em;\n",
       "}\n",
       "\n",
       "#sk-container-id-3 div.sk-label-container {\n",
       "  text-align: center;\n",
       "}\n",
       "\n",
       "/* Estimator-specific */\n",
       "#sk-container-id-3 div.sk-estimator {\n",
       "  font-family: monospace;\n",
       "  border: 1px dotted var(--sklearn-color-border-box);\n",
       "  border-radius: 0.25em;\n",
       "  box-sizing: border-box;\n",
       "  margin-bottom: 0.5em;\n",
       "  /* unfitted */\n",
       "  background-color: var(--sklearn-color-unfitted-level-0);\n",
       "}\n",
       "\n",
       "#sk-container-id-3 div.sk-estimator.fitted {\n",
       "  /* fitted */\n",
       "  background-color: var(--sklearn-color-fitted-level-0);\n",
       "}\n",
       "\n",
       "/* on hover */\n",
       "#sk-container-id-3 div.sk-estimator:hover {\n",
       "  /* unfitted */\n",
       "  background-color: var(--sklearn-color-unfitted-level-2);\n",
       "}\n",
       "\n",
       "#sk-container-id-3 div.sk-estimator.fitted:hover {\n",
       "  /* fitted */\n",
       "  background-color: var(--sklearn-color-fitted-level-2);\n",
       "}\n",
       "\n",
       "/* Specification for estimator info (e.g. \"i\" and \"?\") */\n",
       "\n",
       "/* Common style for \"i\" and \"?\" */\n",
       "\n",
       ".sk-estimator-doc-link,\n",
       "a:link.sk-estimator-doc-link,\n",
       "a:visited.sk-estimator-doc-link {\n",
       "  float: right;\n",
       "  font-size: smaller;\n",
       "  line-height: 1em;\n",
       "  font-family: monospace;\n",
       "  background-color: var(--sklearn-color-background);\n",
       "  border-radius: 1em;\n",
       "  height: 1em;\n",
       "  width: 1em;\n",
       "  text-decoration: none !important;\n",
       "  margin-left: 1ex;\n",
       "  /* unfitted */\n",
       "  border: var(--sklearn-color-unfitted-level-1) 1pt solid;\n",
       "  color: var(--sklearn-color-unfitted-level-1);\n",
       "}\n",
       "\n",
       ".sk-estimator-doc-link.fitted,\n",
       "a:link.sk-estimator-doc-link.fitted,\n",
       "a:visited.sk-estimator-doc-link.fitted {\n",
       "  /* fitted */\n",
       "  border: var(--sklearn-color-fitted-level-1) 1pt solid;\n",
       "  color: var(--sklearn-color-fitted-level-1);\n",
       "}\n",
       "\n",
       "/* On hover */\n",
       "div.sk-estimator:hover .sk-estimator-doc-link:hover,\n",
       ".sk-estimator-doc-link:hover,\n",
       "div.sk-label-container:hover .sk-estimator-doc-link:hover,\n",
       ".sk-estimator-doc-link:hover {\n",
       "  /* unfitted */\n",
       "  background-color: var(--sklearn-color-unfitted-level-3);\n",
       "  color: var(--sklearn-color-background);\n",
       "  text-decoration: none;\n",
       "}\n",
       "\n",
       "div.sk-estimator.fitted:hover .sk-estimator-doc-link.fitted:hover,\n",
       ".sk-estimator-doc-link.fitted:hover,\n",
       "div.sk-label-container:hover .sk-estimator-doc-link.fitted:hover,\n",
       ".sk-estimator-doc-link.fitted:hover {\n",
       "  /* fitted */\n",
       "  background-color: var(--sklearn-color-fitted-level-3);\n",
       "  color: var(--sklearn-color-background);\n",
       "  text-decoration: none;\n",
       "}\n",
       "\n",
       "/* Span, style for the box shown on hovering the info icon */\n",
       ".sk-estimator-doc-link span {\n",
       "  display: none;\n",
       "  z-index: 9999;\n",
       "  position: relative;\n",
       "  font-weight: normal;\n",
       "  right: .2ex;\n",
       "  padding: .5ex;\n",
       "  margin: .5ex;\n",
       "  width: min-content;\n",
       "  min-width: 20ex;\n",
       "  max-width: 50ex;\n",
       "  color: var(--sklearn-color-text);\n",
       "  box-shadow: 2pt 2pt 4pt #999;\n",
       "  /* unfitted */\n",
       "  background: var(--sklearn-color-unfitted-level-0);\n",
       "  border: .5pt solid var(--sklearn-color-unfitted-level-3);\n",
       "}\n",
       "\n",
       ".sk-estimator-doc-link.fitted span {\n",
       "  /* fitted */\n",
       "  background: var(--sklearn-color-fitted-level-0);\n",
       "  border: var(--sklearn-color-fitted-level-3);\n",
       "}\n",
       "\n",
       ".sk-estimator-doc-link:hover span {\n",
       "  display: block;\n",
       "}\n",
       "\n",
       "/* \"?\"-specific style due to the `<a>` HTML tag */\n",
       "\n",
       "#sk-container-id-3 a.estimator_doc_link {\n",
       "  float: right;\n",
       "  font-size: 1rem;\n",
       "  line-height: 1em;\n",
       "  font-family: monospace;\n",
       "  background-color: var(--sklearn-color-background);\n",
       "  border-radius: 1rem;\n",
       "  height: 1rem;\n",
       "  width: 1rem;\n",
       "  text-decoration: none;\n",
       "  /* unfitted */\n",
       "  color: var(--sklearn-color-unfitted-level-1);\n",
       "  border: var(--sklearn-color-unfitted-level-1) 1pt solid;\n",
       "}\n",
       "\n",
       "#sk-container-id-3 a.estimator_doc_link.fitted {\n",
       "  /* fitted */\n",
       "  border: var(--sklearn-color-fitted-level-1) 1pt solid;\n",
       "  color: var(--sklearn-color-fitted-level-1);\n",
       "}\n",
       "\n",
       "/* On hover */\n",
       "#sk-container-id-3 a.estimator_doc_link:hover {\n",
       "  /* unfitted */\n",
       "  background-color: var(--sklearn-color-unfitted-level-3);\n",
       "  color: var(--sklearn-color-background);\n",
       "  text-decoration: none;\n",
       "}\n",
       "\n",
       "#sk-container-id-3 a.estimator_doc_link.fitted:hover {\n",
       "  /* fitted */\n",
       "  background-color: var(--sklearn-color-fitted-level-3);\n",
       "}\n",
       "</style><div id=\"sk-container-id-3\" class=\"sk-top-container\"><div class=\"sk-text-repr-fallback\"><pre>RandomForestClassifier(n_jobs=-1, random_state=0)</pre><b>In a Jupyter environment, please rerun this cell to show the HTML representation or trust the notebook. <br />On GitHub, the HTML representation is unable to render, please try loading this page with nbviewer.org.</b></div><div class=\"sk-container\" hidden><div class=\"sk-item\"><div class=\"sk-estimator fitted sk-toggleable\"><input class=\"sk-toggleable__control sk-hidden--visually\" id=\"sk-estimator-id-3\" type=\"checkbox\" checked><label for=\"sk-estimator-id-3\" class=\"sk-toggleable__label fitted sk-toggleable__label-arrow fitted\">&nbsp;&nbsp;RandomForestClassifier<a class=\"sk-estimator-doc-link fitted\" rel=\"noreferrer\" target=\"_blank\" href=\"https://scikit-learn.org/1.5/modules/generated/sklearn.ensemble.RandomForestClassifier.html\">?<span>Documentation for RandomForestClassifier</span></a><span class=\"sk-estimator-doc-link fitted\">i<span>Fitted</span></span></label><div class=\"sk-toggleable__content fitted\"><pre>RandomForestClassifier(n_jobs=-1, random_state=0)</pre></div> </div></div></div></div>"
      ],
      "text/plain": [
       "RandomForestClassifier(n_jobs=-1, random_state=0)"
      ]
     },
     "execution_count": 30,
     "metadata": {},
     "output_type": "execute_result"
    }
   ],
   "source": [
    "# Initiate the model\n",
    "model3 = RandomForestClassifier(random_state=0, n_jobs=-1)\n",
    "\n",
    "# Train the model\n",
    "model3.fit(X_train, y_train)"
   ]
  },
  {
   "cell_type": "code",
   "execution_count": 31,
   "metadata": {},
   "outputs": [],
   "source": [
    "# Predict features\n",
    "predictions = model3.predict(X_test)"
   ]
  },
  {
   "cell_type": "code",
   "execution_count": 32,
   "metadata": {},
   "outputs": [
    {
     "data": {
      "text/plain": [
       "0.8677685950413223"
      ]
     },
     "execution_count": 32,
     "metadata": {},
     "output_type": "execute_result"
    }
   ],
   "source": [
    "model3_accuracy = accuracy_score(y_test, predictions)\n",
    "model3_accuracy"
   ]
  },
  {
   "cell_type": "code",
   "execution_count": 35,
   "metadata": {},
   "outputs": [
    {
     "data": {
      "text/plain": [
       "array([[ 7,  0,  2],\n",
       "       [ 0, 38,  5],\n",
       "       [ 1,  8, 60]], dtype=int64)"
      ]
     },
     "execution_count": 35,
     "metadata": {},
     "output_type": "execute_result"
    }
   ],
   "source": [
    "confusionmatrix = confusion_matrix(y_test, predictions)\n",
    "confusionmatrix"
   ]
  },
  {
   "cell_type": "code",
   "execution_count": 36,
   "metadata": {},
   "outputs": [
    {
     "data": {
      "text/plain": [
       "'              precision    recall  f1-score   support\\n\\n           0       0.88      0.78      0.82         9\\n           1       0.83      0.88      0.85        43\\n           2       0.90      0.87      0.88        69\\n\\n    accuracy                           0.87       121\\n   macro avg       0.87      0.84      0.85       121\\nweighted avg       0.87      0.87      0.87       121\\n'"
      ]
     },
     "execution_count": 36,
     "metadata": {},
     "output_type": "execute_result"
    }
   ],
   "source": [
    "classification_report(y_test, predictions)"
   ]
  },
  {
   "cell_type": "code",
   "execution_count": 37,
   "metadata": {},
   "outputs": [
    {
     "data": {
      "image/png": "[encoded data removed]",
      "text/plain": [
       "<Figure size 640x480 with 1 Axes>"
      ]
     },
     "metadata": {},
     "output_type": "display_data"
    }
   ],
   "source": [
    "# Plot feature importance\n",
    "importances = model3.feature_importances_\n",
    "plt.barh(range(len(importances)), importances)\n",
    "plt.yticks(range(len(importances)), [f\"Feature {i}\" for i in range(len(importances))])\n",
    "plt.xlabel('Feature Importance')\n",
    "plt.show()\n",
    "\n",
    "# importances = model3.feature_importances_\n",
    "# # Sort feature importances in descending order\n",
    "# indices = np.argsort(importances)[::-1]\n",
    "# # Rearrange feature names so they match the sorted feature importances\n",
    "# names = [iris.feature_names[i] for i in indices]\n",
    "# # Create plot\n",
    "# plt.figure()\n",
    "# # Create plot title\n",
    "# plt.title(\"Feature Importance\")\n",
    "# # Add bars\n",
    "# plt.bar(range(features.shape[1]), importances[indices])\n",
    "# # Add feature names as x-axis labels\n",
    "# plt.xticks(range(features.shape[1]), names, rotation=90)\n",
    "# # Show plot\n",
    "# plt.show()\n"
   ]
  },
  {
   "cell_type": "markdown",
   "metadata": {},
   "source": [
    "### Model 4: CatBoost"
   ]
  },
  {
   "cell_type": "code",
   "execution_count": 38,
   "metadata": {},
   "outputs": [
    {
     "name": "stdout",
     "output_type": "stream",
     "text": [
      "0:\tlearn: 1.0362781\ttotal: 164ms\tremaining: 16.3s\n",
      "1:\tlearn: 0.9943491\ttotal: 165ms\tremaining: 8.11s\n",
      "2:\tlearn: 0.9517234\ttotal: 183ms\tremaining: 5.92s\n",
      "3:\tlearn: 0.9112372\ttotal: 217ms\tremaining: 5.21s\n",
      "4:\tlearn: 0.8668940\ttotal: 251ms\tremaining: 4.76s\n",
      "5:\tlearn: 0.8300492\ttotal: 286ms\tremaining: 4.48s\n",
      "6:\tlearn: 0.7946202\ttotal: 324ms\tremaining: 4.31s\n",
      "7:\tlearn: 0.7674278\ttotal: 357ms\tremaining: 4.1s\n",
      "8:\tlearn: 0.7380172\ttotal: 394ms\tremaining: 3.98s\n",
      "9:\tlearn: 0.7124831\ttotal: 427ms\tremaining: 3.84s\n",
      "10:\tlearn: 0.6859692\ttotal: 463ms\tremaining: 3.75s\n",
      "11:\tlearn: 0.6634275\ttotal: 498ms\tremaining: 3.65s\n",
      "12:\tlearn: 0.6424551\ttotal: 530ms\tremaining: 3.54s\n",
      "13:\tlearn: 0.6193638\ttotal: 563ms\tremaining: 3.46s\n",
      "14:\tlearn: 0.5991505\ttotal: 594ms\tremaining: 3.36s\n",
      "15:\tlearn: 0.5848842\ttotal: 605ms\tremaining: 3.17s\n",
      "16:\tlearn: 0.5688832\ttotal: 640ms\tremaining: 3.13s\n",
      "17:\tlearn: 0.5559603\ttotal: 679ms\tremaining: 3.1s\n",
      "18:\tlearn: 0.5429289\ttotal: 716ms\tremaining: 3.05s\n",
      "19:\tlearn: 0.5318192\ttotal: 736ms\tremaining: 2.94s\n",
      "20:\tlearn: 0.5173529\ttotal: 766ms\tremaining: 2.88s\n",
      "21:\tlearn: 0.5047296\ttotal: 802ms\tremaining: 2.84s\n",
      "22:\tlearn: 0.4993310\ttotal: 803ms\tremaining: 2.69s\n",
      "23:\tlearn: 0.4872662\ttotal: 838ms\tremaining: 2.65s\n",
      "24:\tlearn: 0.4758327\ttotal: 877ms\tremaining: 2.63s\n",
      "25:\tlearn: 0.4634967\ttotal: 909ms\tremaining: 2.59s\n",
      "26:\tlearn: 0.4535531\ttotal: 946ms\tremaining: 2.56s\n",
      "27:\tlearn: 0.4444366\ttotal: 977ms\tremaining: 2.51s\n",
      "28:\tlearn: 0.4364813\ttotal: 1.01s\tremaining: 2.48s\n",
      "29:\tlearn: 0.4285908\ttotal: 1.05s\tremaining: 2.45s\n",
      "30:\tlearn: 0.4199460\ttotal: 1.08s\tremaining: 2.41s\n",
      "31:\tlearn: 0.4139369\ttotal: 1.12s\tremaining: 2.38s\n",
      "32:\tlearn: 0.4073392\ttotal: 1.16s\tremaining: 2.35s\n",
      "33:\tlearn: 0.4001704\ttotal: 1.19s\tremaining: 2.31s\n",
      "34:\tlearn: 0.3935295\ttotal: 1.22s\tremaining: 2.27s\n",
      "35:\tlearn: 0.3867290\ttotal: 1.25s\tremaining: 2.23s\n",
      "36:\tlearn: 0.3817827\ttotal: 1.29s\tremaining: 2.2s\n",
      "37:\tlearn: 0.3762638\ttotal: 1.33s\tremaining: 2.17s\n",
      "38:\tlearn: 0.3712681\ttotal: 1.36s\tremaining: 2.13s\n",
      "39:\tlearn: 0.3661376\ttotal: 1.4s\tremaining: 2.1s\n",
      "40:\tlearn: 0.3638293\ttotal: 1.4s\tremaining: 2.01s\n",
      "41:\tlearn: 0.3578693\ttotal: 1.43s\tremaining: 1.98s\n",
      "42:\tlearn: 0.3529945\ttotal: 1.47s\tremaining: 1.94s\n",
      "43:\tlearn: 0.3509270\ttotal: 1.47s\tremaining: 1.87s\n",
      "44:\tlearn: 0.3485797\ttotal: 1.47s\tremaining: 1.8s\n",
      "45:\tlearn: 0.3447194\ttotal: 1.5s\tremaining: 1.77s\n",
      "46:\tlearn: 0.3395303\ttotal: 1.54s\tremaining: 1.74s\n",
      "47:\tlearn: 0.3350823\ttotal: 1.57s\tremaining: 1.7s\n",
      "48:\tlearn: 0.3309817\ttotal: 1.6s\tremaining: 1.67s\n",
      "49:\tlearn: 0.3268345\ttotal: 1.64s\tremaining: 1.64s\n",
      "50:\tlearn: 0.3240443\ttotal: 1.68s\tremaining: 1.61s\n",
      "51:\tlearn: 0.3208674\ttotal: 1.71s\tremaining: 1.57s\n",
      "52:\tlearn: 0.3175349\ttotal: 1.75s\tremaining: 1.55s\n",
      "53:\tlearn: 0.3146859\ttotal: 1.78s\tremaining: 1.52s\n",
      "54:\tlearn: 0.3111581\ttotal: 1.81s\tremaining: 1.48s\n",
      "55:\tlearn: 0.3077928\ttotal: 1.84s\tremaining: 1.45s\n",
      "56:\tlearn: 0.3047432\ttotal: 1.88s\tremaining: 1.42s\n",
      "57:\tlearn: 0.3016418\ttotal: 1.91s\tremaining: 1.38s\n",
      "58:\tlearn: 0.2980179\ttotal: 1.94s\tremaining: 1.35s\n",
      "59:\tlearn: 0.2953409\ttotal: 1.98s\tremaining: 1.32s\n",
      "60:\tlearn: 0.2929775\ttotal: 2.01s\tremaining: 1.29s\n",
      "61:\tlearn: 0.2906965\ttotal: 2.06s\tremaining: 1.26s\n",
      "62:\tlearn: 0.2876028\ttotal: 2.09s\tremaining: 1.23s\n",
      "63:\tlearn: 0.2851908\ttotal: 2.13s\tremaining: 1.2s\n",
      "64:\tlearn: 0.2827409\ttotal: 2.15s\tremaining: 1.16s\n",
      "65:\tlearn: 0.2801909\ttotal: 2.19s\tremaining: 1.13s\n",
      "66:\tlearn: 0.2782468\ttotal: 2.22s\tremaining: 1.09s\n",
      "67:\tlearn: 0.2750700\ttotal: 2.26s\tremaining: 1.06s\n",
      "68:\tlearn: 0.2730127\ttotal: 2.29s\tremaining: 1.03s\n",
      "69:\tlearn: 0.2702850\ttotal: 2.32s\tremaining: 995ms\n",
      "70:\tlearn: 0.2677494\ttotal: 2.35s\tremaining: 961ms\n",
      "71:\tlearn: 0.2658149\ttotal: 2.39s\tremaining: 928ms\n",
      "72:\tlearn: 0.2637004\ttotal: 2.42s\tremaining: 896ms\n",
      "73:\tlearn: 0.2614320\ttotal: 2.46s\tremaining: 864ms\n",
      "74:\tlearn: 0.2594618\ttotal: 2.49s\tremaining: 831ms\n",
      "75:\tlearn: 0.2573774\ttotal: 2.53s\tremaining: 798ms\n",
      "76:\tlearn: 0.2556213\ttotal: 2.56s\tremaining: 765ms\n",
      "77:\tlearn: 0.2535686\ttotal: 2.59s\tremaining: 731ms\n",
      "78:\tlearn: 0.2518342\ttotal: 2.63s\tremaining: 699ms\n",
      "79:\tlearn: 0.2504569\ttotal: 2.67s\tremaining: 666ms\n",
      "80:\tlearn: 0.2486987\ttotal: 2.7s\tremaining: 633ms\n",
      "81:\tlearn: 0.2474351\ttotal: 2.73s\tremaining: 600ms\n",
      "82:\tlearn: 0.2458922\ttotal: 2.77s\tremaining: 567ms\n",
      "83:\tlearn: 0.2440838\ttotal: 2.8s\tremaining: 533ms\n",
      "84:\tlearn: 0.2426574\ttotal: 2.83s\tremaining: 500ms\n",
      "85:\tlearn: 0.2405936\ttotal: 2.86s\tremaining: 466ms\n",
      "86:\tlearn: 0.2389979\ttotal: 2.9s\tremaining: 434ms\n",
      "87:\tlearn: 0.2374352\ttotal: 2.94s\tremaining: 401ms\n",
      "88:\tlearn: 0.2362982\ttotal: 2.97s\tremaining: 367ms\n",
      "89:\tlearn: 0.2349905\ttotal: 3s\tremaining: 334ms\n",
      "90:\tlearn: 0.2336120\ttotal: 3.03s\tremaining: 300ms\n",
      "91:\tlearn: 0.2319787\ttotal: 3.07s\tremaining: 267ms\n",
      "92:\tlearn: 0.2309137\ttotal: 3.11s\tremaining: 234ms\n",
      "93:\tlearn: 0.2293580\ttotal: 3.14s\tremaining: 200ms\n",
      "94:\tlearn: 0.2280701\ttotal: 3.17s\tremaining: 167ms\n",
      "95:\tlearn: 0.2269640\ttotal: 3.21s\tremaining: 134ms\n",
      "96:\tlearn: 0.2259548\ttotal: 3.24s\tremaining: 100ms\n",
      "97:\tlearn: 0.2248676\ttotal: 3.27s\tremaining: 66.8ms\n",
      "98:\tlearn: 0.2235944\ttotal: 3.31s\tremaining: 33.4ms\n",
      "99:\tlearn: 0.2220694\ttotal: 3.35s\tremaining: 0us\n"
     ]
    },
    {
     "data": {
      "text/plain": [
       "<catboost.core.CatBoostClassifier at 0x1f0b25bfc80>"
      ]
     },
     "execution_count": 38,
     "metadata": {},
     "output_type": "execute_result"
    }
   ],
   "source": [
    "# Train model\n",
    "model4 = CatBoostClassifier(iterations=100, depth=10, learning_rate=0.1, loss_function='MultiClass')\n",
    "model4.fit(X_train, y_train)"
   ]
  },
  {
   "cell_type": "code",
   "execution_count": 39,
   "metadata": {},
   "outputs": [],
   "source": [
    "# Predict new feature\n",
    "predictions = model4.predict(X_test)"
   ]
  },
  {
   "cell_type": "code",
   "execution_count": 40,
   "metadata": {},
   "outputs": [
    {
     "data": {
      "text/plain": [
       "0.8842975206611571"
      ]
     },
     "execution_count": 40,
     "metadata": {},
     "output_type": "execute_result"
    }
   ],
   "source": [
    "# Get the accuracy of the model\n",
    "model4_accuracy = accuracy_score(y_test, predictions)\n",
    "model4_accuracy"
   ]
  },
  {
   "cell_type": "code",
   "execution_count": 41,
   "metadata": {},
   "outputs": [],
   "source": [
    "# Create accuracy table\n",
    "accuracy = {'Model': ['Logistic Regression', 'Decision Tree', 'Random Forest', 'CatBoost'],\n",
    "            'Accuracy_scores': [model1_accuracy, model2_accuracy, model3_accuracy, model4_accuracy]}\n"
   ]
  },
  {
   "cell_type": "code",
   "execution_count": 42,
   "metadata": {},
   "outputs": [
    {
     "data": {
      "text/html": [
       "<div>\n",
       "<style scoped>\n",
       "    .dataframe tbody tr th:only-of-type {\n",
       "        vertical-align: middle;\n",
       "    }\n",
       "\n",
       "    .dataframe tbody tr th {\n",
       "        vertical-align: top;\n",
       "    }\n",
       "\n",
       "    .dataframe thead th {\n",
       "        text-align: right;\n",
       "    }\n",
       "</style>\n",
       "<table border=\"1\" class=\"dataframe\">\n",
       "  <thead>\n",
       "    <tr style=\"text-align: right;\">\n",
       "      <th></th>\n",
       "      <th>Model</th>\n",
       "      <th>Accuracy_scores</th>\n",
       "    </tr>\n",
       "  </thead>\n",
       "  <tbody>\n",
       "    <tr>\n",
       "      <th>0</th>\n",
       "      <td>Logistic Regression</td>\n",
       "      <td>0.727273</td>\n",
       "    </tr>\n",
       "    <tr>\n",
       "      <th>1</th>\n",
       "      <td>Decision Tree</td>\n",
       "      <td>0.884298</td>\n",
       "    </tr>\n",
       "    <tr>\n",
       "      <th>2</th>\n",
       "      <td>Random Forest</td>\n",
       "      <td>0.867769</td>\n",
       "    </tr>\n",
       "    <tr>\n",
       "      <th>3</th>\n",
       "      <td>CatBoost</td>\n",
       "      <td>0.884298</td>\n",
       "    </tr>\n",
       "  </tbody>\n",
       "</table>\n",
       "</div>"
      ],
      "text/plain": [
       "                 Model  Accuracy_scores\n",
       "0  Logistic Regression         0.727273\n",
       "1        Decision Tree         0.884298\n",
       "2        Random Forest         0.867769\n",
       "3             CatBoost         0.884298"
      ]
     },
     "execution_count": 42,
     "metadata": {},
     "output_type": "execute_result"
    }
   ],
   "source": [
    "accuracy_df = pd.DataFrame(accuracy)\n",
    "accuracy_df"
   ]
  }
 ],
 "metadata": {
  "kernelspec": {
   "display_name": "base",
   "language": "python",
   "name": "python3"
  },
  "language_info": {
   "codemirror_mode": {
    "name": "ipython",
    "version": 3
   },
   "file_extension": ".py",
   "mimetype": "text/x-python",
   "name": "python",
   "nbconvert_exporter": "python",
   "pygments_lexer": "ipython3",
   "version": "3.12.7"
  }
 },
 "nbformat": 4,
 "nbformat_minor": 2
}
